{
  "cells": [
    {
      "cell_type": "code",
      "execution_count": null,
      "metadata": {
        "id": "AtG9UT6W-aR4"
      },
      "outputs": [],
      "source": []
    },
    {
      "cell_type": "code",
      "execution_count": null,
      "metadata": {
        "colab": {
          "base_uri": "https://localhost:8080/"
        },
        "id": "l-r-kiq7-rPm",
        "outputId": "ce00b995-774f-401e-eb0c-d4fed292b742"
      },
      "outputs": [
        {
          "output_type": "stream",
          "name": "stdout",
          "text": [
            "Drive already mounted at /content/drive; to attempt to forcibly remount, call drive.mount(\"/content/drive\", force_remount=True).\n"
          ]
        }
      ],
      "source": [
        "from google.colab import drive\n",
        "\n",
        "drive.mount('/content/drive')"
      ]
    },
    {
      "cell_type": "code",
      "execution_count": null,
      "metadata": {
        "colab": {
          "base_uri": "https://localhost:8080/"
        },
        "id": "e-jWlFqhCJUZ",
        "outputId": "ea385f6c-e780-498c-df35-89e845fe13b4"
      },
      "outputs": [
        {
          "name": "stderr",
          "output_type": "stream",
          "text": [
            "Ultralytics YOLOv8.0.196 🚀 Python-3.10.12 torch-2.4.1+cu121 CUDA:0 (Tesla T4, 15102MiB)\n",
            "Setup complete ✅ (2 CPUs, 12.7 GB RAM, 36.6/112.6 GB disk)\n"
          ]
        }
      ],
      "source": [
        "# Pip install method (recommended)\n",
        "###################################USE RESUME WHILE TRAINING AGAIN IMPORTANT\n",
        "!pip install ultralytics==8.0.196\n",
        "\n",
        "from IPython import display\n",
        "display.clear_output()\n",
        "\n",
        "import ultralytics\n",
        "ultralytics.checks()"
      ]
    },
    {
      "cell_type": "code",
      "execution_count": null,
      "metadata": {
        "colab": {
          "background_save": true
        },
        "id": "Bw3fNYzluBY-"
      },
      "outputs": [],
      "source": [
        "#USE RESUME WHILE TRAINING AGAIN IMPORTANT"
      ]
    },
    {
      "cell_type": "code",
      "execution_count": null,
      "metadata": {
        "colab": {
          "base_uri": "https://localhost:8080/"
        },
        "id": "yytJMsPlCJZO",
        "outputId": "207a41a8-0e1d-44f1-f219-c49c1b5eea33"
      },
      "outputs": [
        {
          "output_type": "stream",
          "name": "stdout",
          "text": [
            "Creating new Ultralytics Settings v0.0.6 file ✅ \n",
            "View Ultralytics Settings with 'yolo settings' or at '/root/.config/Ultralytics/settings.json'\n",
            "Update Settings with 'yolo settings key=value', i.e. 'yolo settings runs_dir=path/to/dir'. For help see https://docs.ultralytics.com/quickstart/#ultralytics-settings.\n"
          ]
        }
      ],
      "source": [
        "from ultralytics import YOLO\n",
        "\n",
        "from IPython.display import display, Image"
      ]
    },
    {
      "cell_type": "code",
      "execution_count": null,
      "metadata": {
        "id": "Zc-vnHpHIcIT"
      },
      "outputs": [],
      "source": [
        "import tensorflow as tf\n",
        "from tensorflow.keras.callbacks import ModelCheckpoint"
      ]
    },
    {
      "cell_type": "code",
      "execution_count": null,
      "metadata": {
        "colab": {
          "base_uri": "https://localhost:8080/"
        },
        "id": "ksqrMcwjKBYv",
        "outputId": "6fd364f2-7069-4279-cc05-84d079eea055"
      },
      "outputs": [
        {
          "output_type": "stream",
          "name": "stdout",
          "text": [
            "Collecting ultralytics\n",
            "  Downloading ultralytics-8.3.17-py3-none-any.whl.metadata (34 kB)\n",
            "Requirement already satisfied: numpy>=1.23.0 in /usr/local/lib/python3.10/dist-packages (from ultralytics) (1.26.4)\n",
            "Requirement already satisfied: matplotlib>=3.3.0 in /usr/local/lib/python3.10/dist-packages (from ultralytics) (3.7.1)\n",
            "Requirement already satisfied: opencv-python>=4.6.0 in /usr/local/lib/python3.10/dist-packages (from ultralytics) (4.10.0.84)\n",
            "Requirement already satisfied: pillow>=7.1.2 in /usr/local/lib/python3.10/dist-packages (from ultralytics) (10.4.0)\n",
            "Requirement already satisfied: pyyaml>=5.3.1 in /usr/local/lib/python3.10/dist-packages (from ultralytics) (6.0.2)\n",
            "Requirement already satisfied: requests>=2.23.0 in /usr/local/lib/python3.10/dist-packages (from ultralytics) (2.32.3)\n",
            "Requirement already satisfied: scipy>=1.4.1 in /usr/local/lib/python3.10/dist-packages (from ultralytics) (1.13.1)\n",
            "Requirement already satisfied: torch>=1.8.0 in /usr/local/lib/python3.10/dist-packages (from ultralytics) (2.4.1+cu121)\n",
            "Requirement already satisfied: torchvision>=0.9.0 in /usr/local/lib/python3.10/dist-packages (from ultralytics) (0.19.1+cu121)\n",
            "Requirement already satisfied: tqdm>=4.64.0 in /usr/local/lib/python3.10/dist-packages (from ultralytics) (4.66.5)\n",
            "Requirement already satisfied: psutil in /usr/local/lib/python3.10/dist-packages (from ultralytics) (5.9.5)\n",
            "Requirement already satisfied: py-cpuinfo in /usr/local/lib/python3.10/dist-packages (from ultralytics) (9.0.0)\n",
            "Requirement already satisfied: pandas>=1.1.4 in /usr/local/lib/python3.10/dist-packages (from ultralytics) (2.2.2)\n",
            "Requirement already satisfied: seaborn>=0.11.0 in /usr/local/lib/python3.10/dist-packages (from ultralytics) (0.13.2)\n",
            "Collecting ultralytics-thop>=2.0.0 (from ultralytics)\n",
            "  Downloading ultralytics_thop-2.0.9-py3-none-any.whl.metadata (9.3 kB)\n",
            "Requirement already satisfied: contourpy>=1.0.1 in /usr/local/lib/python3.10/dist-packages (from matplotlib>=3.3.0->ultralytics) (1.3.0)\n",
            "Requirement already satisfied: cycler>=0.10 in /usr/local/lib/python3.10/dist-packages (from matplotlib>=3.3.0->ultralytics) (0.12.1)\n",
            "Requirement already satisfied: fonttools>=4.22.0 in /usr/local/lib/python3.10/dist-packages (from matplotlib>=3.3.0->ultralytics) (4.54.1)\n",
            "Requirement already satisfied: kiwisolver>=1.0.1 in /usr/local/lib/python3.10/dist-packages (from matplotlib>=3.3.0->ultralytics) (1.4.7)\n",
            "Requirement already satisfied: packaging>=20.0 in /usr/local/lib/python3.10/dist-packages (from matplotlib>=3.3.0->ultralytics) (24.1)\n",
            "Requirement already satisfied: pyparsing>=2.3.1 in /usr/local/lib/python3.10/dist-packages (from matplotlib>=3.3.0->ultralytics) (3.2.0)\n",
            "Requirement already satisfied: python-dateutil>=2.7 in /usr/local/lib/python3.10/dist-packages (from matplotlib>=3.3.0->ultralytics) (2.8.2)\n",
            "Requirement already satisfied: pytz>=2020.1 in /usr/local/lib/python3.10/dist-packages (from pandas>=1.1.4->ultralytics) (2024.2)\n",
            "Requirement already satisfied: tzdata>=2022.7 in /usr/local/lib/python3.10/dist-packages (from pandas>=1.1.4->ultralytics) (2024.2)\n",
            "Requirement already satisfied: charset-normalizer<4,>=2 in /usr/local/lib/python3.10/dist-packages (from requests>=2.23.0->ultralytics) (3.4.0)\n",
            "Requirement already satisfied: idna<4,>=2.5 in /usr/local/lib/python3.10/dist-packages (from requests>=2.23.0->ultralytics) (3.10)\n",
            "Requirement already satisfied: urllib3<3,>=1.21.1 in /usr/local/lib/python3.10/dist-packages (from requests>=2.23.0->ultralytics) (2.2.3)\n",
            "Requirement already satisfied: certifi>=2017.4.17 in /usr/local/lib/python3.10/dist-packages (from requests>=2.23.0->ultralytics) (2024.8.30)\n",
            "Requirement already satisfied: filelock in /usr/local/lib/python3.10/dist-packages (from torch>=1.8.0->ultralytics) (3.16.1)\n",
            "Requirement already satisfied: typing-extensions>=4.8.0 in /usr/local/lib/python3.10/dist-packages (from torch>=1.8.0->ultralytics) (4.12.2)\n",
            "Requirement already satisfied: sympy in /usr/local/lib/python3.10/dist-packages (from torch>=1.8.0->ultralytics) (1.13.3)\n",
            "Requirement already satisfied: networkx in /usr/local/lib/python3.10/dist-packages (from torch>=1.8.0->ultralytics) (3.4.1)\n",
            "Requirement already satisfied: jinja2 in /usr/local/lib/python3.10/dist-packages (from torch>=1.8.0->ultralytics) (3.1.4)\n",
            "Requirement already satisfied: fsspec in /usr/local/lib/python3.10/dist-packages (from torch>=1.8.0->ultralytics) (2024.6.1)\n",
            "Requirement already satisfied: six>=1.5 in /usr/local/lib/python3.10/dist-packages (from python-dateutil>=2.7->matplotlib>=3.3.0->ultralytics) (1.16.0)\n",
            "Requirement already satisfied: MarkupSafe>=2.0 in /usr/local/lib/python3.10/dist-packages (from jinja2->torch>=1.8.0->ultralytics) (3.0.1)\n",
            "Requirement already satisfied: mpmath<1.4,>=1.1.0 in /usr/local/lib/python3.10/dist-packages (from sympy->torch>=1.8.0->ultralytics) (1.3.0)\n",
            "Downloading ultralytics-8.3.17-py3-none-any.whl (876 kB)\n",
            "\u001b[2K   \u001b[90m━━━━━━━━━━━━━━━━━━━━━━━━━━━━━━━━━━━━━━━━\u001b[0m \u001b[32m876.6/876.6 kB\u001b[0m \u001b[31m22.9 MB/s\u001b[0m eta \u001b[36m0:00:00\u001b[0m\n",
            "\u001b[?25hDownloading ultralytics_thop-2.0.9-py3-none-any.whl (26 kB)\n",
            "Installing collected packages: ultralytics-thop, ultralytics\n",
            "Successfully installed ultralytics-8.3.17 ultralytics-thop-2.0.9\n"
          ]
        }
      ],
      "source": [
        "!pip install -U ultralytics"
      ]
    },
    {
      "cell_type": "code",
      "execution_count": null,
      "metadata": {
        "id": "hFK9R1JqCJvm",
        "colab": {
          "base_uri": "https://localhost:8080/"
        },
        "outputId": "4928dcc6-6405-42cf-c788-0c27ddc68b8f"
      },
      "outputs": [
        {
          "output_type": "stream",
          "name": "stdout",
          "text": [
            "Downloading https://github.com/ultralytics/assets/releases/download/v8.3.0/yolov8s.pt to 'yolov8s.pt'...\n",
            "100% 21.5M/21.5M [00:00<00:00, 43.8MB/s]\n",
            "Ultralytics 8.3.10 🚀 Python-3.10.12 torch-2.4.1+cu121 CUDA:0 (Tesla T4, 15102MiB)\n",
            "\u001b[34m\u001b[1mengine/trainer: \u001b[0mtask=detect, mode=train, model=yolov8s.pt, data=/content/drive/My Drive/Dataset/drivedata.yaml, epochs=500, time=None, patience=50, batch=16, imgsz=416, save=True, save_period=-1, cache=disk, device=0, workers=8, project=YOLOv8, name=yolov8s, exist_ok=False, pretrained=False, optimizer=SGD, verbose=False, seed=0, deterministic=True, single_cls=False, rect=False, cos_lr=False, close_mosaic=10, resume=yolov8s.pt, amp=True, fraction=1.0, profile=False, freeze=None, multi_scale=False, overlap_mask=True, mask_ratio=4, dropout=False, val=True, split=val, save_json=False, save_hybrid=False, conf=0.001, iou=0.7, max_det=300, half=True, dnn=False, plots=False, source=ultralytics/assets/, vid_stride=1, stream_buffer=False, visualize=False, augment=False, agnostic_nms=False, classes=None, retina_masks=False, embed=None, show=False, save_frames=False, save_txt=False, save_conf=False, save_crop=False, show_labels=True, show_conf=True, show_boxes=True, line_width=None, format=torchscript, keras=False, optimize=False, int8=False, dynamic=False, simplify=False, opset=17, workspace=4, nms=False, lr0=0.01, lrf=0.01, momentum=0.937, weight_decay=0.001, warmup_epochs=3.0, warmup_momentum=0.8, warmup_bias_lr=0.1, box=7.5, cls=0.5, dfl=1.5, pose=12.0, kobj=1.0, label_smoothing=0.0, nbs=64, hsv_h=0.015, hsv_s=0.7, hsv_v=0.4, degrees=0.0, translate=0.1, scale=0.5, shear=0.0, perspective=0.0, flipud=0.0, fliplr=0.5, bgr=0.0, mosaic=1.0, mixup=0.0, copy_paste=0.0, copy_paste_mode=flip, auto_augment=randaugment, erasing=0.4, crop_fraction=1.0, cfg=None, tracker=botsort.yaml, save_dir=YOLOv8/yolov8s\n",
            "Downloading https://ultralytics.com/assets/Arial.ttf to '/root/.config/Ultralytics/Arial.ttf'...\n",
            "100% 755k/755k [00:00<00:00, 151MB/s]\n",
            "\u001b[34m\u001b[1mTensorBoard: \u001b[0mStart with 'tensorboard --logdir YOLOv8/yolov8s', view at http://localhost:6006/\n",
            "Overriding model.yaml nc=80 with nc=52\n",
            "\n",
            "                   from  n    params  module                                       arguments                     \n",
            "  0                  -1  1       928  ultralytics.nn.modules.conv.Conv             [3, 32, 3, 2]                 \n",
            "  1                  -1  1     18560  ultralytics.nn.modules.conv.Conv             [32, 64, 3, 2]                \n",
            "  2                  -1  1     29056  ultralytics.nn.modules.block.C2f             [64, 64, 1, True]             \n",
            "  3                  -1  1     73984  ultralytics.nn.modules.conv.Conv             [64, 128, 3, 2]               \n",
            "  4                  -1  2    197632  ultralytics.nn.modules.block.C2f             [128, 128, 2, True]           \n",
            "  5                  -1  1    295424  ultralytics.nn.modules.conv.Conv             [128, 256, 3, 2]              \n",
            "  6                  -1  2    788480  ultralytics.nn.modules.block.C2f             [256, 256, 2, True]           \n",
            "  7                  -1  1   1180672  ultralytics.nn.modules.conv.Conv             [256, 512, 3, 2]              \n",
            "  8                  -1  1   1838080  ultralytics.nn.modules.block.C2f             [512, 512, 1, True]           \n",
            "  9                  -1  1    656896  ultralytics.nn.modules.block.SPPF            [512, 512, 5]                 \n",
            " 10                  -1  1         0  torch.nn.modules.upsampling.Upsample         [None, 2, 'nearest']          \n",
            " 11             [-1, 6]  1         0  ultralytics.nn.modules.conv.Concat           [1]                           \n",
            " 12                  -1  1    591360  ultralytics.nn.modules.block.C2f             [768, 256, 1]                 \n",
            " 13                  -1  1         0  torch.nn.modules.upsampling.Upsample         [None, 2, 'nearest']          \n",
            " 14             [-1, 4]  1         0  ultralytics.nn.modules.conv.Concat           [1]                           \n",
            " 15                  -1  1    148224  ultralytics.nn.modules.block.C2f             [384, 128, 1]                 \n",
            " 16                  -1  1    147712  ultralytics.nn.modules.conv.Conv             [128, 128, 3, 2]              \n",
            " 17            [-1, 12]  1         0  ultralytics.nn.modules.conv.Concat           [1]                           \n",
            " 18                  -1  1    493056  ultralytics.nn.modules.block.C2f             [384, 256, 1]                 \n",
            " 19                  -1  1    590336  ultralytics.nn.modules.conv.Conv             [256, 256, 3, 2]              \n",
            " 20             [-1, 9]  1         0  ultralytics.nn.modules.conv.Concat           [1]                           \n",
            " 21                  -1  1   1969152  ultralytics.nn.modules.block.C2f             [768, 512, 1]                 \n",
            " 22        [15, 18, 21]  1    839532  ultralytics.nn.modules.head.Detect           [52, [128, 256, 512]]         \n",
            "Model summary: 249 layers, 9,859,084 parameters, 9,859,068 gradients, 23.7 GFLOPs\n",
            "\n",
            "Transferred 313/391 items from pretrained weights\n",
            "Freezing layer 'model.22.dfl.conv.weight'\n",
            "\u001b[34m\u001b[1mAMP: \u001b[0mrunning Automatic Mixed Precision (AMP) checks with YOLO11n...\n",
            "Downloading https://github.com/ultralytics/assets/releases/download/v8.3.0/yolo11n.pt to 'yolo11n.pt'...\n",
            "100% 5.35M/5.35M [00:00<00:00, 374MB/s]\n",
            "\u001b[34m\u001b[1mAMP: \u001b[0mchecks passed ✅\n",
            "\u001b[34m\u001b[1mtrain: \u001b[0mScanning /content/drive/My Drive/Dataset/train/labels.cache... 7943 images, 0 backgrounds, 0 corrupt: 100% 7943/7943 [00:00<?, ?it/s]\n",
            "WARNING ⚠️ Box and segment counts should be equal, but got len(segments) = 11, len(boxes) = 24227. To resolve this only boxes will be used and all segments will be removed. To avoid this please supply either a detect or segment dataset, not a detect-segment mixed dataset.\n",
            "\u001b[34m\u001b[1mtrain: \u001b[0mCaching images (3.8GB Disk): 100% 7943/7943 [00:02<00:00, 3128.69it/s]\n",
            "/usr/local/lib/python3.10/dist-packages/albumentations/__init__.py:13: UserWarning: A new version of Albumentations is available: 1.4.18 (you have 1.4.15). Upgrade using: pip install -U albumentations. To disable automatic update checks, set the environment variable NO_ALBUMENTATIONS_UPDATE to 1.\n",
            "  check_for_updates()\n",
            "\u001b[34m\u001b[1malbumentations: \u001b[0mBlur(p=0.01, blur_limit=(3, 7)), MedianBlur(p=0.01, blur_limit=(3, 7)), ToGray(p=0.01, num_output_channels=3, method='weighted_average'), CLAHE(p=0.01, clip_limit=(1, 4.0), tile_grid_size=(8, 8))\n",
            "\u001b[34m\u001b[1mval: \u001b[0mScanning /content/drive/My Drive/Dataset/valid/labels.cache... 1261 images, 0 backgrounds, 0 corrupt: 100% 1261/1261 [00:00<?, ?it/s]\n",
            "\u001b[34m\u001b[1mval: \u001b[0mCaching images (0.6GB Disk): 100% 1261/1261 [00:00<00:00, 3603.43it/s]\n",
            "\u001b[34m\u001b[1moptimizer:\u001b[0m SGD(lr=0.01, momentum=0.937) with parameter groups 63 weight(decay=0.0), 70 weight(decay=0.001), 69 bias(decay=0.0)\n",
            "Traceback (most recent call last):\n",
            "  File \"/usr/local/bin/yolo\", line 8, in <module>\n",
            "    sys.exit(entrypoint())\n",
            "  File \"/usr/local/lib/python3.10/dist-packages/ultralytics/cfg/__init__.py\", line 832, in entrypoint\n",
            "    getattr(model, mode)(**overrides)  # default args from model\n",
            "  File \"/usr/local/lib/python3.10/dist-packages/ultralytics/engine/model.py\", line 802, in train\n",
            "    self.trainer.train()\n",
            "  File \"/usr/local/lib/python3.10/dist-packages/ultralytics/engine/trainer.py\", line 207, in train\n",
            "    self._do_train(world_size)\n",
            "  File \"/usr/local/lib/python3.10/dist-packages/ultralytics/engine/trainer.py\", line 327, in _do_train\n",
            "    self._setup_train(world_size)\n",
            "  File \"/usr/local/lib/python3.10/dist-packages/ultralytics/engine/trainer.py\", line 319, in _setup_train\n",
            "    self.resume_training(ckpt)\n",
            "  File \"/usr/local/lib/python3.10/dist-packages/ultralytics/engine/trainer.py\", line 730, in resume_training\n",
            "    assert start_epoch > 0, (\n",
            "AssertionError: yolov8s.pt training to 500 epochs is finished, nothing to resume.\n",
            "Start a new training without resuming, i.e. 'yolo train model=yolov8s.pt'\n"
          ]
        }
      ],
      "source": [
        "!yolo task=detect mode=train model=yolov8s.pt data=\"/content/drive/My Drive/Dataset/drivedata.yaml\" epochs=5 imgsz=416 plots=True save=True save_period=300 device=0 project='YOLOv8' name='yolov8s_experiment' resume=True"
      ]
    },
    {
      "cell_type": "code",
      "execution_count": null,
      "metadata": {
        "id": "E-vOx3jvD1hG"
      },
      "outputs": [],
      "source": [
        "#yolo train model=yolov8s.pt"
      ]
    },
    {
      "cell_type": "code",
      "execution_count": null,
      "metadata": {
        "colab": {
          "base_uri": "https://localhost:8080/"
        },
        "id": "wWqbTfdqCJzA",
        "outputId": "854b845f-3bae-48ae-987a-b3fe9f118647"
      },
      "outputs": [
        {
          "output_type": "stream",
          "name": "stdout",
          "text": [
            "Ultralytics 8.3.9 🚀 Python-3.10.12 torch-2.4.1+cu121 CPU (Intel Xeon 2.20GHz)\n",
            "\u001b[34m\u001b[1mengine/trainer: \u001b[0mtask=detect, mode=train, model=yolov8s.pt, data=/content/drive/My Drive/Dataset/drivedata.yaml, epochs=5, time=None, patience=100, batch=16, imgsz=416, save=True, save_period=-1, cache=False, device=None, workers=8, project=YOLOv8, name=yolov8s_experiment, exist_ok=False, pretrained=True, optimizer=auto, verbose=True, seed=0, deterministic=True, single_cls=False, rect=False, cos_lr=False, close_mosaic=10, resume=False, amp=True, fraction=1.0, profile=False, freeze=None, multi_scale=False, overlap_mask=True, mask_ratio=4, dropout=0.0, val=True, split=val, save_json=False, save_hybrid=False, conf=None, iou=0.7, max_det=300, half=False, dnn=False, plots=True, source=None, vid_stride=1, stream_buffer=False, visualize=False, augment=False, agnostic_nms=False, classes=None, retina_masks=False, embed=None, show=False, save_frames=False, save_txt=False, save_conf=False, save_crop=False, show_labels=True, show_conf=True, show_boxes=True, line_width=None, format=torchscript, keras=False, optimize=False, int8=False, dynamic=False, simplify=True, opset=None, workspace=4, nms=False, lr0=0.01, lrf=0.01, momentum=0.937, weight_decay=0.0005, warmup_epochs=3.0, warmup_momentum=0.8, warmup_bias_lr=0.1, box=7.5, cls=0.5, dfl=1.5, pose=12.0, kobj=1.0, label_smoothing=0.0, nbs=64, hsv_h=0.015, hsv_s=0.7, hsv_v=0.4, degrees=0.0, translate=0.1, scale=0.5, shear=0.0, perspective=0.0, flipud=0.0, fliplr=0.5, bgr=0.0, mosaic=1.0, mixup=0.0, copy_paste=0.0, copy_paste_mode=flip, auto_augment=randaugment, erasing=0.4, crop_fraction=1.0, cfg=None, tracker=botsort.yaml, save_dir=YOLOv8/yolov8s_experiment\n",
            "Overriding model.yaml nc=80 with nc=52\n",
            "\n",
            "                   from  n    params  module                                       arguments                     \n",
            "  0                  -1  1       928  ultralytics.nn.modules.conv.Conv             [3, 32, 3, 2]                 \n",
            "  1                  -1  1     18560  ultralytics.nn.modules.conv.Conv             [32, 64, 3, 2]                \n",
            "  2                  -1  1     29056  ultralytics.nn.modules.block.C2f             [64, 64, 1, True]             \n",
            "  3                  -1  1     73984  ultralytics.nn.modules.conv.Conv             [64, 128, 3, 2]               \n",
            "  4                  -1  2    197632  ultralytics.nn.modules.block.C2f             [128, 128, 2, True]           \n",
            "  5                  -1  1    295424  ultralytics.nn.modules.conv.Conv             [128, 256, 3, 2]              \n",
            "  6                  -1  2    788480  ultralytics.nn.modules.block.C2f             [256, 256, 2, True]           \n",
            "  7                  -1  1   1180672  ultralytics.nn.modules.conv.Conv             [256, 512, 3, 2]              \n",
            "  8                  -1  1   1838080  ultralytics.nn.modules.block.C2f             [512, 512, 1, True]           \n",
            "  9                  -1  1    656896  ultralytics.nn.modules.block.SPPF            [512, 512, 5]                 \n",
            " 10                  -1  1         0  torch.nn.modules.upsampling.Upsample         [None, 2, 'nearest']          \n",
            " 11             [-1, 6]  1         0  ultralytics.nn.modules.conv.Concat           [1]                           \n",
            " 12                  -1  1    591360  ultralytics.nn.modules.block.C2f             [768, 256, 1]                 \n",
            " 13                  -1  1         0  torch.nn.modules.upsampling.Upsample         [None, 2, 'nearest']          \n",
            " 14             [-1, 4]  1         0  ultralytics.nn.modules.conv.Concat           [1]                           \n",
            " 15                  -1  1    148224  ultralytics.nn.modules.block.C2f             [384, 128, 1]                 \n",
            " 16                  -1  1    147712  ultralytics.nn.modules.conv.Conv             [128, 128, 3, 2]              \n",
            " 17            [-1, 12]  1         0  ultralytics.nn.modules.conv.Concat           [1]                           \n",
            " 18                  -1  1    493056  ultralytics.nn.modules.block.C2f             [384, 256, 1]                 \n",
            " 19                  -1  1    590336  ultralytics.nn.modules.conv.Conv             [256, 256, 3, 2]              \n",
            " 20             [-1, 9]  1         0  ultralytics.nn.modules.conv.Concat           [1]                           \n",
            " 21                  -1  1   1969152  ultralytics.nn.modules.block.C2f             [768, 512, 1]                 \n",
            " 22        [15, 18, 21]  1    839532  ultralytics.nn.modules.head.Detect           [52, [128, 256, 512]]         \n",
            "Model summary: 249 layers, 9,859,084 parameters, 9,859,068 gradients, 23.7 GFLOPs\n",
            "\n",
            "Transferred 313/391 items from pretrained weights\n",
            "\u001b[34m\u001b[1mTensorBoard: \u001b[0mStart with 'tensorboard --logdir YOLOv8/yolov8s_experiment', view at http://localhost:6006/\n",
            "Freezing layer 'model.22.dfl.conv.weight'\n"
          ]
        },
        {
          "output_type": "stream",
          "name": "stderr",
          "text": [
            "\u001b[34m\u001b[1mtrain: \u001b[0mScanning /content/drive/My Drive/Dataset/train/labels.cache... 7943 images, 0 backgrounds, 0 corrupt: 100%|██████████| 7943/7943 [00:00<?, ?it/s]\n"
          ]
        },
        {
          "output_type": "stream",
          "name": "stdout",
          "text": [
            "WARNING ⚠️ Box and segment counts should be equal, but got len(segments) = 11, len(boxes) = 24227. To resolve this only boxes will be used and all segments will be removed. To avoid this please supply either a detect or segment dataset, not a detect-segment mixed dataset.\n",
            "\u001b[34m\u001b[1malbumentations: \u001b[0mBlur(p=0.01, blur_limit=(3, 7)), MedianBlur(p=0.01, blur_limit=(3, 7)), ToGray(p=0.01, num_output_channels=3, method='weighted_average'), CLAHE(p=0.01, clip_limit=(1, 4.0), tile_grid_size=(8, 8))\n"
          ]
        },
        {
          "output_type": "stream",
          "name": "stderr",
          "text": [
            "/usr/local/lib/python3.10/dist-packages/albumentations/__init__.py:13: UserWarning: A new version of Albumentations is available: 1.4.18 (you have 1.4.15). Upgrade using: pip install -U albumentations. To disable automatic update checks, set the environment variable NO_ALBUMENTATIONS_UPDATE to 1.\n",
            "  check_for_updates()\n",
            "\u001b[34m\u001b[1mval: \u001b[0mScanning /content/drive/My Drive/Dataset/valid/labels.cache... 1261 images, 0 backgrounds, 0 corrupt: 100%|██████████| 1261/1261 [00:00<?, ?it/s]\n"
          ]
        },
        {
          "output_type": "stream",
          "name": "stdout",
          "text": [
            "Plotting labels to YOLOv8/yolov8s_experiment/labels.jpg... \n",
            "\u001b[34m\u001b[1moptimizer:\u001b[0m 'optimizer=auto' found, ignoring 'lr0=0.01' and 'momentum=0.937' and determining best 'optimizer', 'lr0' and 'momentum' automatically... \n",
            "\u001b[34m\u001b[1moptimizer:\u001b[0m AdamW(lr=0.000179, momentum=0.9) with parameter groups 63 weight(decay=0.0), 70 weight(decay=0.0005), 69 bias(decay=0.0)\n",
            "\u001b[34m\u001b[1mTensorBoard: \u001b[0mmodel graph visualization added ✅\n",
            "Image sizes 416 train, 416 val\n",
            "Using 0 dataloader workers\n",
            "Logging results to \u001b[1mYOLOv8/yolov8s_experiment\u001b[0m\n",
            "Starting training for 5 epochs...\n",
            "\n",
            "      Epoch    GPU_mem   box_loss   cls_loss   dfl_loss  Instances       Size\n"
          ]
        },
        {
          "output_type": "stream",
          "name": "stderr",
          "text": [
            "        1/5         0G        1.1      4.081      1.106         43        416: 100%|██████████| 497/497 [2:41:45<00:00, 19.53s/it]\n",
            "                 Class     Images  Instances      Box(P          R      mAP50  mAP50-95): 100%|██████████| 40/40 [07:49<00:00, 11.73s/it]\n"
          ]
        },
        {
          "output_type": "stream",
          "name": "stdout",
          "text": [
            "                   all       1261       3261        0.5      0.393      0.339      0.264\n",
            "\n",
            "      Epoch    GPU_mem   box_loss   cls_loss   dfl_loss  Instances       Size\n"
          ]
        },
        {
          "output_type": "stream",
          "name": "stderr",
          "text": [
            "        2/5         0G      1.079       2.93      1.024        102        416:   0%|          | 1/497 [00:31<4:19:38, 31.41s/it]"
          ]
        },
        {
          "output_type": "stream",
          "name": "stdout",
          "text": [
            "Training interrupted, model saved.\n"
          ]
        },
        {
          "output_type": "stream",
          "name": "stderr",
          "text": [
            "\n"
          ]
        }
      ],
      "source": [
        "#from ultralytics import YOLO\n",
        "\n",
        "model = YOLO('yolov8s.pt')\n",
        "\n",
        "try:\n",
        "    model.train(\n",
        "        data=\"/content/drive/My Drive/Dataset/drivedata.yaml\",\n",
        "        epochs=5,\n",
        "        batch=16,\n",
        "        imgsz=416,\n",
        "        project='YOLOv8',\n",
        "        name='yolov8s_experiment',\n",
        "        save=True\n",
        "    )\n",
        "except KeyboardInterrupt:\n",
        "    model.save('YOLOv8/yolov8s_experiment/weights/last_interrupt.pt')\n",
        "    print(\"Training interrupted, model saved.\")"
      ]
    },
    {
      "cell_type": "code",
      "execution_count": null,
      "metadata": {
        "id": "LyMKjwx2Hupr",
        "colab": {
          "base_uri": "https://localhost:8080/"
        },
        "outputId": "5dda6f40-ed45-44d4-f031-fb56f8b4ad12"
      },
      "outputs": [
        {
          "output_type": "stream",
          "name": "stdout",
          "text": [
            "Ultralytics 8.3.9 🚀 Python-3.10.12 torch-2.4.1+cu121 CUDA:0 (Tesla T4, 15102MiB)\n",
            "\u001b[34m\u001b[1mengine/trainer: \u001b[0mtask=detect, mode=train, model=YOLOv8/yolov8s_experiment/weights/last.pt, data=/content/drive/My Drive/Dataset/drivedata.yaml, epochs=10, time=None, patience=100, batch=16, imgsz=416, save=True, save_period=-1, cache=False, device=None, workers=8, project=YOLOv8, name=yolov8s_experiment3, exist_ok=False, pretrained=True, optimizer=auto, verbose=True, seed=0, deterministic=True, single_cls=False, rect=False, cos_lr=False, close_mosaic=10, resume=False, amp=True, fraction=1.0, profile=False, freeze=None, multi_scale=False, overlap_mask=True, mask_ratio=4, dropout=0.0, val=True, split=val, save_json=False, save_hybrid=False, conf=None, iou=0.7, max_det=300, half=False, dnn=False, plots=True, source=None, vid_stride=1, stream_buffer=False, visualize=False, augment=False, agnostic_nms=False, classes=None, retina_masks=False, embed=None, show=False, save_frames=False, save_txt=False, save_conf=False, save_crop=False, show_labels=True, show_conf=True, show_boxes=True, line_width=None, format=torchscript, keras=False, optimize=False, int8=False, dynamic=False, simplify=True, opset=None, workspace=4, nms=False, lr0=0.01, lrf=0.01, momentum=0.937, weight_decay=0.0005, warmup_epochs=3.0, warmup_momentum=0.8, warmup_bias_lr=0.1, box=7.5, cls=0.5, dfl=1.5, pose=12.0, kobj=1.0, label_smoothing=0.0, nbs=64, hsv_h=0.015, hsv_s=0.7, hsv_v=0.4, degrees=0.0, translate=0.1, scale=0.5, shear=0.0, perspective=0.0, flipud=0.0, fliplr=0.5, bgr=0.0, mosaic=1.0, mixup=0.0, copy_paste=0.0, copy_paste_mode=flip, auto_augment=randaugment, erasing=0.4, crop_fraction=1.0, cfg=None, tracker=botsort.yaml, save_dir=YOLOv8/yolov8s_experiment3\n",
            "\n",
            "                   from  n    params  module                                       arguments                     \n",
            "  0                  -1  1       928  ultralytics.nn.modules.conv.Conv             [3, 32, 3, 2]                 \n",
            "  1                  -1  1     18560  ultralytics.nn.modules.conv.Conv             [32, 64, 3, 2]                \n",
            "  2                  -1  1     29056  ultralytics.nn.modules.block.C2f             [64, 64, 1, True]             \n",
            "  3                  -1  1     73984  ultralytics.nn.modules.conv.Conv             [64, 128, 3, 2]               \n",
            "  4                  -1  2    197632  ultralytics.nn.modules.block.C2f             [128, 128, 2, True]           \n",
            "  5                  -1  1    295424  ultralytics.nn.modules.conv.Conv             [128, 256, 3, 2]              \n",
            "  6                  -1  2    788480  ultralytics.nn.modules.block.C2f             [256, 256, 2, True]           \n",
            "  7                  -1  1   1180672  ultralytics.nn.modules.conv.Conv             [256, 512, 3, 2]              \n",
            "  8                  -1  1   1838080  ultralytics.nn.modules.block.C2f             [512, 512, 1, True]           \n",
            "  9                  -1  1    656896  ultralytics.nn.modules.block.SPPF            [512, 512, 5]                 \n",
            " 10                  -1  1         0  torch.nn.modules.upsampling.Upsample         [None, 2, 'nearest']          \n",
            " 11             [-1, 6]  1         0  ultralytics.nn.modules.conv.Concat           [1]                           \n",
            " 12                  -1  1    591360  ultralytics.nn.modules.block.C2f             [768, 256, 1]                 \n",
            " 13                  -1  1         0  torch.nn.modules.upsampling.Upsample         [None, 2, 'nearest']          \n",
            " 14             [-1, 4]  1         0  ultralytics.nn.modules.conv.Concat           [1]                           \n",
            " 15                  -1  1    148224  ultralytics.nn.modules.block.C2f             [384, 128, 1]                 \n",
            " 16                  -1  1    147712  ultralytics.nn.modules.conv.Conv             [128, 128, 3, 2]              \n",
            " 17            [-1, 12]  1         0  ultralytics.nn.modules.conv.Concat           [1]                           \n",
            " 18                  -1  1    493056  ultralytics.nn.modules.block.C2f             [384, 256, 1]                 \n",
            " 19                  -1  1    590336  ultralytics.nn.modules.conv.Conv             [256, 256, 3, 2]              \n",
            " 20             [-1, 9]  1         0  ultralytics.nn.modules.conv.Concat           [1]                           \n",
            " 21                  -1  1   1969152  ultralytics.nn.modules.block.C2f             [768, 512, 1]                 \n",
            " 22        [15, 18, 21]  1    839532  ultralytics.nn.modules.head.Detect           [52, [128, 256, 512]]         \n",
            "Model summary: 249 layers, 9,859,084 parameters, 9,859,068 gradients, 23.7 GFLOPs\n",
            "\n",
            "Transferred 391/391 items from pretrained weights\n",
            "\u001b[34m\u001b[1mTensorBoard: \u001b[0mStart with 'tensorboard --logdir YOLOv8/yolov8s_experiment3', view at http://localhost:6006/\n",
            "Freezing layer 'model.22.dfl.conv.weight'\n",
            "\u001b[34m\u001b[1mAMP: \u001b[0mrunning Automatic Mixed Precision (AMP) checks with YOLO11n...\n",
            "\u001b[34m\u001b[1mAMP: \u001b[0mchecks passed ✅\n"
          ]
        },
        {
          "output_type": "stream",
          "name": "stderr",
          "text": [
            "\u001b[34m\u001b[1mtrain: \u001b[0mScanning /content/drive/My Drive/Dataset/train/labels.cache... 7943 images, 0 backgrounds, 0 corrupt: 100%|██████████| 7943/7943 [00:00<?, ?it/s]"
          ]
        },
        {
          "output_type": "stream",
          "name": "stdout",
          "text": [
            "WARNING ⚠️ Box and segment counts should be equal, but got len(segments) = 11, len(boxes) = 24227. To resolve this only boxes will be used and all segments will be removed. To avoid this please supply either a detect or segment dataset, not a detect-segment mixed dataset.\n",
            "\u001b[34m\u001b[1malbumentations: \u001b[0mBlur(p=0.01, blur_limit=(3, 7)), MedianBlur(p=0.01, blur_limit=(3, 7)), ToGray(p=0.01, num_output_channels=3, method='weighted_average'), CLAHE(p=0.01, clip_limit=(1, 4.0), tile_grid_size=(8, 8))\n"
          ]
        },
        {
          "output_type": "stream",
          "name": "stderr",
          "text": [
            "\n",
            "\u001b[34m\u001b[1mval: \u001b[0mScanning /content/drive/My Drive/Dataset/valid/labels.cache... 1261 images, 0 backgrounds, 0 corrupt: 100%|██████████| 1261/1261 [00:00<?, ?it/s]\n"
          ]
        },
        {
          "output_type": "stream",
          "name": "stdout",
          "text": [
            "Plotting labels to YOLOv8/yolov8s_experiment3/labels.jpg... \n",
            "\u001b[34m\u001b[1moptimizer:\u001b[0m 'optimizer=auto' found, ignoring 'lr0=0.01' and 'momentum=0.937' and determining best 'optimizer', 'lr0' and 'momentum' automatically... \n",
            "\u001b[34m\u001b[1moptimizer:\u001b[0m AdamW(lr=0.000179, momentum=0.9) with parameter groups 63 weight(decay=0.0), 70 weight(decay=0.0005), 69 bias(decay=0.0)\n",
            "\u001b[34m\u001b[1mTensorBoard: \u001b[0mmodel graph visualization added ✅\n",
            "Image sizes 416 train, 416 val\n",
            "Using 2 dataloader workers\n",
            "Logging results to \u001b[1mYOLOv8/yolov8s_experiment3\u001b[0m\n",
            "Starting training for 10 epochs...\n",
            "Closing dataloader mosaic\n",
            "\u001b[34m\u001b[1malbumentations: \u001b[0mBlur(p=0.01, blur_limit=(3, 7)), MedianBlur(p=0.01, blur_limit=(3, 7)), ToGray(p=0.01, num_output_channels=3, method='weighted_average'), CLAHE(p=0.01, clip_limit=(1, 4.0), tile_grid_size=(8, 8))\n",
            "\n",
            "      Epoch    GPU_mem   box_loss   cls_loss   dfl_loss  Instances       Size\n"
          ]
        },
        {
          "output_type": "stream",
          "name": "stderr",
          "text": [
            "       1/10      2.09G     0.7805     0.8863     0.9594         11        416: 100%|██████████| 497/497 [02:27<00:00,  3.38it/s]\n",
            "                 Class     Images  Instances      Box(P          R      mAP50  mAP50-95): 100%|██████████| 40/40 [00:10<00:00,  3.78it/s]\n"
          ]
        },
        {
          "output_type": "stream",
          "name": "stdout",
          "text": [
            "                   all       1261       3261      0.835      0.827      0.871      0.689\n",
            "\n",
            "      Epoch    GPU_mem   box_loss   cls_loss   dfl_loss  Instances       Size\n"
          ]
        },
        {
          "output_type": "stream",
          "name": "stderr",
          "text": [
            "       2/10      2.02G     0.7934      0.848     0.9596         30        416: 100%|██████████| 497/497 [02:26<00:00,  3.40it/s]\n",
            "                 Class     Images  Instances      Box(P          R      mAP50  mAP50-95): 100%|██████████| 40/40 [00:12<00:00,  3.31it/s]\n"
          ]
        },
        {
          "output_type": "stream",
          "name": "stdout",
          "text": [
            "                   all       1261       3261      0.844      0.853      0.882      0.703\n",
            "\n",
            "      Epoch    GPU_mem   box_loss   cls_loss   dfl_loss  Instances       Size\n"
          ]
        },
        {
          "output_type": "stream",
          "name": "stderr",
          "text": [
            "       3/10      2.07G     0.7996     0.8052     0.9666         25        416: 100%|██████████| 497/497 [02:20<00:00,  3.55it/s]\n",
            "                 Class     Images  Instances      Box(P          R      mAP50  mAP50-95): 100%|██████████| 40/40 [00:11<00:00,  3.42it/s]\n"
          ]
        },
        {
          "output_type": "stream",
          "name": "stdout",
          "text": [
            "                   all       1261       3261      0.821       0.88       0.88      0.698\n",
            "\n",
            "      Epoch    GPU_mem   box_loss   cls_loss   dfl_loss  Instances       Size\n"
          ]
        },
        {
          "output_type": "stream",
          "name": "stderr",
          "text": [
            "       4/10      2.07G     0.7923     0.7447     0.9632         27        416: 100%|██████████| 497/497 [02:15<00:00,  3.68it/s]\n",
            "                 Class     Images  Instances      Box(P          R      mAP50  mAP50-95): 100%|██████████| 40/40 [00:14<00:00,  2.78it/s]\n"
          ]
        },
        {
          "output_type": "stream",
          "name": "stdout",
          "text": [
            "                   all       1261       3261      0.848      0.897      0.895      0.714\n",
            "\n",
            "      Epoch    GPU_mem   box_loss   cls_loss   dfl_loss  Instances       Size\n"
          ]
        },
        {
          "output_type": "stream",
          "name": "stderr",
          "text": [
            "       5/10      1.99G     0.7764     0.6903     0.9562         32        416: 100%|██████████| 497/497 [02:20<00:00,  3.54it/s]\n",
            "                 Class     Images  Instances      Box(P          R      mAP50  mAP50-95): 100%|██████████| 40/40 [00:14<00:00,  2.83it/s]\n"
          ]
        },
        {
          "output_type": "stream",
          "name": "stdout",
          "text": [
            "                   all       1261       3261      0.878      0.886      0.889      0.717\n",
            "\n",
            "      Epoch    GPU_mem   box_loss   cls_loss   dfl_loss  Instances       Size\n"
          ]
        },
        {
          "output_type": "stream",
          "name": "stderr",
          "text": [
            "       6/10      1.99G     0.7619     0.6451     0.9512         32        416: 100%|██████████| 497/497 [02:15<00:00,  3.67it/s]\n",
            "                 Class     Images  Instances      Box(P          R      mAP50  mAP50-95): 100%|██████████| 40/40 [00:14<00:00,  2.67it/s]\n"
          ]
        },
        {
          "output_type": "stream",
          "name": "stdout",
          "text": [
            "                   all       1261       3261      0.851      0.885      0.888      0.717\n",
            "\n",
            "      Epoch    GPU_mem   box_loss   cls_loss   dfl_loss  Instances       Size\n"
          ]
        },
        {
          "output_type": "stream",
          "name": "stderr",
          "text": [
            "       7/10      1.98G     0.7493     0.6094     0.9444         12        416: 100%|██████████| 497/497 [02:15<00:00,  3.66it/s]\n",
            "                 Class     Images  Instances      Box(P          R      mAP50  mAP50-95): 100%|██████████| 40/40 [00:14<00:00,  2.80it/s]"
          ]
        },
        {
          "output_type": "stream",
          "name": "stdout",
          "text": [
            "                   all       1261       3261      0.868      0.897      0.897      0.732\n"
          ]
        },
        {
          "output_type": "stream",
          "name": "stderr",
          "text": [
            "\n"
          ]
        },
        {
          "output_type": "stream",
          "name": "stdout",
          "text": [
            "\n",
            "      Epoch    GPU_mem   box_loss   cls_loss   dfl_loss  Instances       Size\n"
          ]
        },
        {
          "output_type": "stream",
          "name": "stderr",
          "text": [
            "       8/10      2.06G     0.7414     0.5823      0.939         21        416: 100%|██████████| 497/497 [02:14<00:00,  3.69it/s]\n",
            "                 Class     Images  Instances      Box(P          R      mAP50  mAP50-95): 100%|██████████| 40/40 [00:11<00:00,  3.37it/s]\n"
          ]
        },
        {
          "output_type": "stream",
          "name": "stdout",
          "text": [
            "                   all       1261       3261      0.872      0.916      0.893      0.729\n",
            "\n",
            "      Epoch    GPU_mem   box_loss   cls_loss   dfl_loss  Instances       Size\n"
          ]
        },
        {
          "output_type": "stream",
          "name": "stderr",
          "text": [
            "       9/10      1.98G     0.7319     0.5605     0.9363         30        416: 100%|██████████| 497/497 [02:17<00:00,  3.61it/s]\n",
            "                 Class     Images  Instances      Box(P          R      mAP50  mAP50-95): 100%|██████████| 40/40 [00:12<00:00,  3.22it/s]\n"
          ]
        },
        {
          "output_type": "stream",
          "name": "stdout",
          "text": [
            "                   all       1261       3261      0.872      0.912      0.894      0.729\n",
            "\n",
            "      Epoch    GPU_mem   box_loss   cls_loss   dfl_loss  Instances       Size\n"
          ]
        },
        {
          "output_type": "stream",
          "name": "stderr",
          "text": [
            "      10/10      2.05G     0.7198     0.5408     0.9324         25        416: 100%|██████████| 497/497 [02:12<00:00,  3.74it/s]\n",
            "                 Class     Images  Instances      Box(P          R      mAP50  mAP50-95): 100%|██████████| 40/40 [00:15<00:00,  2.60it/s]"
          ]
        },
        {
          "output_type": "stream",
          "name": "stdout",
          "text": [
            "                   all       1261       3261      0.865      0.913      0.895      0.734\n"
          ]
        },
        {
          "output_type": "stream",
          "name": "stderr",
          "text": [
            "\n"
          ]
        },
        {
          "output_type": "stream",
          "name": "stdout",
          "text": [
            "\n",
            "10 epochs completed in 0.427 hours.\n",
            "Optimizer stripped from YOLOv8/yolov8s_experiment3/weights/last.pt, 20.0MB\n",
            "Optimizer stripped from YOLOv8/yolov8s_experiment3/weights/best.pt, 20.0MB\n",
            "\n",
            "Validating YOLOv8/yolov8s_experiment3/weights/best.pt...\n",
            "Ultralytics 8.3.9 🚀 Python-3.10.12 torch-2.4.1+cu121 CUDA:0 (Tesla T4, 15102MiB)\n",
            "Model summary (fused): 186 layers, 9,847,788 parameters, 0 gradients, 23.5 GFLOPs\n"
          ]
        },
        {
          "output_type": "stream",
          "name": "stderr",
          "text": [
            "                 Class     Images  Instances      Box(P          R      mAP50  mAP50-95): 100%|██████████| 40/40 [00:16<00:00,  2.50it/s]\n"
          ]
        },
        {
          "output_type": "stream",
          "name": "stdout",
          "text": [
            "                   all       1261       3261      0.865      0.912      0.895      0.733\n",
            " Complan Classic Creme         36         36          1          0          0          0\n",
            "   Complan Kesar Badam         61         90      0.682          1      0.715      0.645\n",
            "Complan Nutrigro Badam Kheer         17         17       0.97          1      0.995      0.907\n",
            "   Complan Pista Badam          9          9      0.949          1      0.995      0.808\n",
            "Complan Royal Chocolate         32         65      0.813      0.939      0.958      0.795\n",
            "EY AAAM TULSI TURMERIC FACEWASH50G        160        163      0.906     0.0368     0.0575     0.0464\n",
            "EY ADVANCED GOLDEN GLOW PEEL OFF M- 50G         12         12      0.942          1      0.995      0.815\n",
            "EY ADVANCED GOLDEN GLOW PEEL OFF M- 90G         13         13      0.929          1      0.995      0.777\n",
            "EY EXF WALNUT SCRUB AYR 200G         22         27      0.886      0.963      0.961      0.733\n",
            "EY HALDICHANDAN FP HF POWDER 25G         13         13      0.959          1      0.995      0.989\n",
            "EY HYD-EXF WALNT APR SCRUB AYR100G         14         15       0.89          1      0.995      0.883\n",
            "EY HYDR - EXF WALNUT APRICOT SCRUB 50G          3          3      0.943          1      0.995      0.808\n",
            "EY NAT GLOW ORANGE PEEL OFF AY 90G         25         35      0.984          1      0.995      0.798\n",
            "EY NATURALS NEEM FACE WASH AY 50G         24         59      0.647      0.983      0.968      0.645\n",
            "EY RJ CUCUMBER ALOEVERA FACEPAK50G         19         19      0.953          1      0.995      0.825\n",
            "EY TAN CHOCO CHERRY PACK 50G         16         16          1      0.854      0.945      0.793\n",
            "EY_SCR_PURIFYING_EXFOLTNG_NEEM_PAPAYA_50G         11         11      0.513          1      0.995       0.91\n",
            "Everyuth Naturals Body Lotion Nourishing Cocoa 200ml         55         89      0.967      0.996      0.986      0.725\n",
            "Everyuth Naturals Body Lotion Rejuvenating Flora 200ml         67         84      0.984          1      0.995      0.762\n",
            "Everyuth Naturals Body Lotion Soothing Citrus 200ml         58         58      0.944          1      0.995      0.826\n",
            "Everyuth Naturals Body Lotion Sun Care Berries SPF 15 200ml         67         80          1      0.996      0.995      0.757\n",
            "   Glucon D Nimbu Pani         79        250      0.966      0.672      0.887       0.62\n",
            "Glucon D Nimbu Pani 1-KG          1          1     0.0129          1     0.0169     0.0152\n",
            "      Glucon D Regular         71        323      0.924      0.731      0.879      0.588\n",
            " Glucon D Regular 1-KG         18         21      0.193      0.905      0.719      0.649\n",
            " Glucon D Regular 2-KG         17         17      0.655      0.882      0.956      0.873\n",
            " Glucon D Tangy orange         92        208      0.961      0.709      0.968      0.711\n",
            "Nutralite ACHARI MAYO 300g-275g-25g-         34         50      0.971          1      0.995      0.833\n",
            "Nutralite ACHARI MAYO 30g         14         14      0.962          1      0.995      0.907\n",
            "Nutralite CHEESY GARLIC MAYO 300g-275g-25g-         36         51       0.96      0.863      0.877      0.723\n",
            "Nutralite CHEESY GARLIC MAYO 30g         13         13       0.96          1      0.995      0.895\n",
            "Nutralite CHOCO SPREAD CALCIUM 275g         27         27      0.923          1      0.995      0.888\n",
            "Nutralite DOODHSHAKTHI PURE GHEE 1L         14         14      0.965          1      0.995      0.962\n",
            "Nutralite TANDOORI MAYO 300g-275g-25g-         36         54      0.946          1      0.995      0.817\n",
            "Nutralite TANDOORI MAYO 30g         15         15      0.966          1      0.995      0.917\n",
            "Nutralite VEG MAYO 300g-275g-25g-         30         36      0.985          1      0.995      0.825\n",
            "Nycil Prickly Heat Powder         39        123      0.808       0.99      0.951      0.747\n",
            "SUGAR FREE GOLD 500 PELLET         48         79      0.993          1      0.995      0.788\n",
            "SUGAR FREE GOLD POWDER 100GM         49         65      0.928      0.995       0.99      0.784\n",
            "SUGAR FREE GOLD SACHET 50         13         22      0.485      0.955      0.792      0.538\n",
            "SUGAR FREE GOLD SACHET 50 SUGAR FREE GOLD SACHET 50          6          6      0.547      0.411      0.576      0.509\n",
            "SUGAR FREE GRN 300 PELLET         31         37      0.934          1      0.995      0.706\n",
            "SUGAR FREE NATURA 500 PELLET        103        151      0.987      0.993      0.992      0.793\n",
            "SUGAR FREE NATURA DIET SUGAR         42         58      0.939      0.966      0.985      0.795\n",
            "SUGAR FREE NATURA DIET SUGAR 80GM          4          4      0.589          1      0.845      0.597\n",
            "SUGAR FREE NATURA SACHET 50         41         65       0.99      0.877      0.886      0.712\n",
            "SUGAR FREE NATURA SWEET DROPS         36         36      0.979      0.972      0.991       0.82\n",
            "SUGAR FREE NATURA_ POWDER_CONC_100G         27         30      0.907      0.971      0.989      0.797\n",
            "SUGAR FREE_GRN_ POWDER_CONC_100G         29         29      0.974      0.966      0.966      0.822\n",
            "  SUGARLITE POUCH 500G        193        548      0.984          1      0.989      0.786\n",
            "Speed: 0.1ms preprocess, 2.1ms inference, 0.0ms loss, 2.2ms postprocess per image\n",
            "Results saved to \u001b[1mYOLOv8/yolov8s_experiment3\u001b[0m\n"
          ]
        },
        {
          "output_type": "execute_result",
          "data": {
            "text/plain": [
              "ultralytics.utils.metrics.DetMetrics object with attributes:\n",
              "\n",
              "ap_class_index: array([ 0,  1,  2,  3,  4,  6,  7,  8,  9, 10, 11, 12, 13, 14, 15, 16, 17, 18, 19, 20, 21, 22, 23, 24, 25, 26, 27, 29, 30, 31, 32, 33, 34, 35, 36, 37, 38, 39, 40, 41, 42, 43, 44, 45, 46, 47, 48, 49, 50, 51])\n",
              "box: ultralytics.utils.metrics.Metric object\n",
              "confusion_matrix: <ultralytics.utils.metrics.ConfusionMatrix object at 0x7d49ce309cf0>\n",
              "curves: ['Precision-Recall(B)', 'F1-Confidence(B)', 'Precision-Confidence(B)', 'Recall-Confidence(B)']\n",
              "curves_results: [[array([          0,    0.001001,    0.002002,    0.003003,    0.004004,    0.005005,    0.006006,    0.007007,    0.008008,    0.009009,     0.01001,    0.011011,    0.012012,    0.013013,    0.014014,    0.015015,    0.016016,    0.017017,    0.018018,    0.019019,     0.02002,    0.021021,    0.022022,    0.023023,\n",
              "          0.024024,    0.025025,    0.026026,    0.027027,    0.028028,    0.029029,     0.03003,    0.031031,    0.032032,    0.033033,    0.034034,    0.035035,    0.036036,    0.037037,    0.038038,    0.039039,     0.04004,    0.041041,    0.042042,    0.043043,    0.044044,    0.045045,    0.046046,    0.047047,\n",
              "          0.048048,    0.049049,     0.05005,    0.051051,    0.052052,    0.053053,    0.054054,    0.055055,    0.056056,    0.057057,    0.058058,    0.059059,     0.06006,    0.061061,    0.062062,    0.063063,    0.064064,    0.065065,    0.066066,    0.067067,    0.068068,    0.069069,     0.07007,    0.071071,\n",
              "          0.072072,    0.073073,    0.074074,    0.075075,    0.076076,    0.077077,    0.078078,    0.079079,     0.08008,    0.081081,    0.082082,    0.083083,    0.084084,    0.085085,    0.086086,    0.087087,    0.088088,    0.089089,     0.09009,    0.091091,    0.092092,    0.093093,    0.094094,    0.095095,\n",
              "          0.096096,    0.097097,    0.098098,    0.099099,      0.1001,      0.1011,      0.1021,      0.1031,      0.1041,     0.10511,     0.10611,     0.10711,     0.10811,     0.10911,     0.11011,     0.11111,     0.11211,     0.11311,     0.11411,     0.11512,     0.11612,     0.11712,     0.11812,     0.11912,\n",
              "           0.12012,     0.12112,     0.12212,     0.12312,     0.12412,     0.12513,     0.12613,     0.12713,     0.12813,     0.12913,     0.13013,     0.13113,     0.13213,     0.13313,     0.13413,     0.13514,     0.13614,     0.13714,     0.13814,     0.13914,     0.14014,     0.14114,     0.14214,     0.14314,\n",
              "           0.14414,     0.14515,     0.14615,     0.14715,     0.14815,     0.14915,     0.15015,     0.15115,     0.15215,     0.15315,     0.15415,     0.15516,     0.15616,     0.15716,     0.15816,     0.15916,     0.16016,     0.16116,     0.16216,     0.16316,     0.16416,     0.16517,     0.16617,     0.16717,\n",
              "           0.16817,     0.16917,     0.17017,     0.17117,     0.17217,     0.17317,     0.17417,     0.17518,     0.17618,     0.17718,     0.17818,     0.17918,     0.18018,     0.18118,     0.18218,     0.18318,     0.18418,     0.18519,     0.18619,     0.18719,     0.18819,     0.18919,     0.19019,     0.19119,\n",
              "           0.19219,     0.19319,     0.19419,      0.1952,      0.1962,      0.1972,      0.1982,      0.1992,      0.2002,      0.2012,      0.2022,      0.2032,      0.2042,     0.20521,     0.20621,     0.20721,     0.20821,     0.20921,     0.21021,     0.21121,     0.21221,     0.21321,     0.21421,     0.21522,\n",
              "           0.21622,     0.21722,     0.21822,     0.21922,     0.22022,     0.22122,     0.22222,     0.22322,     0.22422,     0.22523,     0.22623,     0.22723,     0.22823,     0.22923,     0.23023,     0.23123,     0.23223,     0.23323,     0.23423,     0.23524,     0.23624,     0.23724,     0.23824,     0.23924,\n",
              "           0.24024,     0.24124,     0.24224,     0.24324,     0.24424,     0.24525,     0.24625,     0.24725,     0.24825,     0.24925,     0.25025,     0.25125,     0.25225,     0.25325,     0.25425,     0.25526,     0.25626,     0.25726,     0.25826,     0.25926,     0.26026,     0.26126,     0.26226,     0.26326,\n",
              "           0.26426,     0.26527,     0.26627,     0.26727,     0.26827,     0.26927,     0.27027,     0.27127,     0.27227,     0.27327,     0.27427,     0.27528,     0.27628,     0.27728,     0.27828,     0.27928,     0.28028,     0.28128,     0.28228,     0.28328,     0.28428,     0.28529,     0.28629,     0.28729,\n",
              "           0.28829,     0.28929,     0.29029,     0.29129,     0.29229,     0.29329,     0.29429,      0.2953,      0.2963,      0.2973,      0.2983,      0.2993,      0.3003,      0.3013,      0.3023,      0.3033,      0.3043,     0.30531,     0.30631,     0.30731,     0.30831,     0.30931,     0.31031,     0.31131,\n",
              "           0.31231,     0.31331,     0.31431,     0.31532,     0.31632,     0.31732,     0.31832,     0.31932,     0.32032,     0.32132,     0.32232,     0.32332,     0.32432,     0.32533,     0.32633,     0.32733,     0.32833,     0.32933,     0.33033,     0.33133,     0.33233,     0.33333,     0.33433,     0.33534,\n",
              "           0.33634,     0.33734,     0.33834,     0.33934,     0.34034,     0.34134,     0.34234,     0.34334,     0.34434,     0.34535,     0.34635,     0.34735,     0.34835,     0.34935,     0.35035,     0.35135,     0.35235,     0.35335,     0.35435,     0.35536,     0.35636,     0.35736,     0.35836,     0.35936,\n",
              "           0.36036,     0.36136,     0.36236,     0.36336,     0.36436,     0.36537,     0.36637,     0.36737,     0.36837,     0.36937,     0.37037,     0.37137,     0.37237,     0.37337,     0.37437,     0.37538,     0.37638,     0.37738,     0.37838,     0.37938,     0.38038,     0.38138,     0.38238,     0.38338,\n",
              "           0.38438,     0.38539,     0.38639,     0.38739,     0.38839,     0.38939,     0.39039,     0.39139,     0.39239,     0.39339,     0.39439,      0.3954,      0.3964,      0.3974,      0.3984,      0.3994,      0.4004,      0.4014,      0.4024,      0.4034,      0.4044,     0.40541,     0.40641,     0.40741,\n",
              "           0.40841,     0.40941,     0.41041,     0.41141,     0.41241,     0.41341,     0.41441,     0.41542,     0.41642,     0.41742,     0.41842,     0.41942,     0.42042,     0.42142,     0.42242,     0.42342,     0.42442,     0.42543,     0.42643,     0.42743,     0.42843,     0.42943,     0.43043,     0.43143,\n",
              "           0.43243,     0.43343,     0.43443,     0.43544,     0.43644,     0.43744,     0.43844,     0.43944,     0.44044,     0.44144,     0.44244,     0.44344,     0.44444,     0.44545,     0.44645,     0.44745,     0.44845,     0.44945,     0.45045,     0.45145,     0.45245,     0.45345,     0.45445,     0.45546,\n",
              "           0.45646,     0.45746,     0.45846,     0.45946,     0.46046,     0.46146,     0.46246,     0.46346,     0.46446,     0.46547,     0.46647,     0.46747,     0.46847,     0.46947,     0.47047,     0.47147,     0.47247,     0.47347,     0.47447,     0.47548,     0.47648,     0.47748,     0.47848,     0.47948,\n",
              "           0.48048,     0.48148,     0.48248,     0.48348,     0.48448,     0.48549,     0.48649,     0.48749,     0.48849,     0.48949,     0.49049,     0.49149,     0.49249,     0.49349,     0.49449,      0.4955,      0.4965,      0.4975,      0.4985,      0.4995,      0.5005,      0.5015,      0.5025,      0.5035,\n",
              "            0.5045,     0.50551,     0.50651,     0.50751,     0.50851,     0.50951,     0.51051,     0.51151,     0.51251,     0.51351,     0.51451,     0.51552,     0.51652,     0.51752,     0.51852,     0.51952,     0.52052,     0.52152,     0.52252,     0.52352,     0.52452,     0.52553,     0.52653,     0.52753,\n",
              "           0.52853,     0.52953,     0.53053,     0.53153,     0.53253,     0.53353,     0.53453,     0.53554,     0.53654,     0.53754,     0.53854,     0.53954,     0.54054,     0.54154,     0.54254,     0.54354,     0.54454,     0.54555,     0.54655,     0.54755,     0.54855,     0.54955,     0.55055,     0.55155,\n",
              "           0.55255,     0.55355,     0.55455,     0.55556,     0.55656,     0.55756,     0.55856,     0.55956,     0.56056,     0.56156,     0.56256,     0.56356,     0.56456,     0.56557,     0.56657,     0.56757,     0.56857,     0.56957,     0.57057,     0.57157,     0.57257,     0.57357,     0.57457,     0.57558,\n",
              "           0.57658,     0.57758,     0.57858,     0.57958,     0.58058,     0.58158,     0.58258,     0.58358,     0.58458,     0.58559,     0.58659,     0.58759,     0.58859,     0.58959,     0.59059,     0.59159,     0.59259,     0.59359,     0.59459,      0.5956,      0.5966,      0.5976,      0.5986,      0.5996,\n",
              "            0.6006,      0.6016,      0.6026,      0.6036,      0.6046,     0.60561,     0.60661,     0.60761,     0.60861,     0.60961,     0.61061,     0.61161,     0.61261,     0.61361,     0.61461,     0.61562,     0.61662,     0.61762,     0.61862,     0.61962,     0.62062,     0.62162,     0.62262,     0.62362,\n",
              "           0.62462,     0.62563,     0.62663,     0.62763,     0.62863,     0.62963,     0.63063,     0.63163,     0.63263,     0.63363,     0.63463,     0.63564,     0.63664,     0.63764,     0.63864,     0.63964,     0.64064,     0.64164,     0.64264,     0.64364,     0.64464,     0.64565,     0.64665,     0.64765,\n",
              "           0.64865,     0.64965,     0.65065,     0.65165,     0.65265,     0.65365,     0.65465,     0.65566,     0.65666,     0.65766,     0.65866,     0.65966,     0.66066,     0.66166,     0.66266,     0.66366,     0.66466,     0.66567,     0.66667,     0.66767,     0.66867,     0.66967,     0.67067,     0.67167,\n",
              "           0.67267,     0.67367,     0.67467,     0.67568,     0.67668,     0.67768,     0.67868,     0.67968,     0.68068,     0.68168,     0.68268,     0.68368,     0.68468,     0.68569,     0.68669,     0.68769,     0.68869,     0.68969,     0.69069,     0.69169,     0.69269,     0.69369,     0.69469,      0.6957,\n",
              "            0.6967,      0.6977,      0.6987,      0.6997,      0.7007,      0.7017,      0.7027,      0.7037,      0.7047,     0.70571,     0.70671,     0.70771,     0.70871,     0.70971,     0.71071,     0.71171,     0.71271,     0.71371,     0.71471,     0.71572,     0.71672,     0.71772,     0.71872,     0.71972,\n",
              "           0.72072,     0.72172,     0.72272,     0.72372,     0.72472,     0.72573,     0.72673,     0.72773,     0.72873,     0.72973,     0.73073,     0.73173,     0.73273,     0.73373,     0.73473,     0.73574,     0.73674,     0.73774,     0.73874,     0.73974,     0.74074,     0.74174,     0.74274,     0.74374,\n",
              "           0.74474,     0.74575,     0.74675,     0.74775,     0.74875,     0.74975,     0.75075,     0.75175,     0.75275,     0.75375,     0.75475,     0.75576,     0.75676,     0.75776,     0.75876,     0.75976,     0.76076,     0.76176,     0.76276,     0.76376,     0.76476,     0.76577,     0.76677,     0.76777,\n",
              "           0.76877,     0.76977,     0.77077,     0.77177,     0.77277,     0.77377,     0.77477,     0.77578,     0.77678,     0.77778,     0.77878,     0.77978,     0.78078,     0.78178,     0.78278,     0.78378,     0.78478,     0.78579,     0.78679,     0.78779,     0.78879,     0.78979,     0.79079,     0.79179,\n",
              "           0.79279,     0.79379,     0.79479,      0.7958,      0.7968,      0.7978,      0.7988,      0.7998,      0.8008,      0.8018,      0.8028,      0.8038,      0.8048,     0.80581,     0.80681,     0.80781,     0.80881,     0.80981,     0.81081,     0.81181,     0.81281,     0.81381,     0.81481,     0.81582,\n",
              "           0.81682,     0.81782,     0.81882,     0.81982,     0.82082,     0.82182,     0.82282,     0.82382,     0.82482,     0.82583,     0.82683,     0.82783,     0.82883,     0.82983,     0.83083,     0.83183,     0.83283,     0.83383,     0.83483,     0.83584,     0.83684,     0.83784,     0.83884,     0.83984,\n",
              "           0.84084,     0.84184,     0.84284,     0.84384,     0.84484,     0.84585,     0.84685,     0.84785,     0.84885,     0.84985,     0.85085,     0.85185,     0.85285,     0.85385,     0.85485,     0.85586,     0.85686,     0.85786,     0.85886,     0.85986,     0.86086,     0.86186,     0.86286,     0.86386,\n",
              "           0.86486,     0.86587,     0.86687,     0.86787,     0.86887,     0.86987,     0.87087,     0.87187,     0.87287,     0.87387,     0.87487,     0.87588,     0.87688,     0.87788,     0.87888,     0.87988,     0.88088,     0.88188,     0.88288,     0.88388,     0.88488,     0.88589,     0.88689,     0.88789,\n",
              "           0.88889,     0.88989,     0.89089,     0.89189,     0.89289,     0.89389,     0.89489,      0.8959,      0.8969,      0.8979,      0.8989,      0.8999,      0.9009,      0.9019,      0.9029,      0.9039,      0.9049,     0.90591,     0.90691,     0.90791,     0.90891,     0.90991,     0.91091,     0.91191,\n",
              "           0.91291,     0.91391,     0.91491,     0.91592,     0.91692,     0.91792,     0.91892,     0.91992,     0.92092,     0.92192,     0.92292,     0.92392,     0.92492,     0.92593,     0.92693,     0.92793,     0.92893,     0.92993,     0.93093,     0.93193,     0.93293,     0.93393,     0.93493,     0.93594,\n",
              "           0.93694,     0.93794,     0.93894,     0.93994,     0.94094,     0.94194,     0.94294,     0.94394,     0.94494,     0.94595,     0.94695,     0.94795,     0.94895,     0.94995,     0.95095,     0.95195,     0.95295,     0.95395,     0.95495,     0.95596,     0.95696,     0.95796,     0.95896,     0.95996,\n",
              "           0.96096,     0.96196,     0.96296,     0.96396,     0.96496,     0.96597,     0.96697,     0.96797,     0.96897,     0.96997,     0.97097,     0.97197,     0.97297,     0.97397,     0.97497,     0.97598,     0.97698,     0.97798,     0.97898,     0.97998,     0.98098,     0.98198,     0.98298,     0.98398,\n",
              "           0.98498,     0.98599,     0.98699,     0.98799,     0.98899,     0.98999,     0.99099,     0.99199,     0.99299,     0.99399,     0.99499,       0.996,       0.997,       0.998,       0.999,           1]), array([[          0,           0,           0, ...,           0,           0,           0],\n",
              "       [          1,           1,           1, ...,     0.71429,     0.71429,           0],\n",
              "       [          1,           1,           1, ...,           1,           1,           0],\n",
              "       ...,\n",
              "       [          1,           1,           1, ...,     0.90909,     0.90909,           0],\n",
              "       [          1,           1,           1, ...,   0.0035111,   0.0017555,           0],\n",
              "       [          1,           1,           1, ...,     0.98561,     0.98561,           0]]), 'Recall', 'Precision'], [array([          0,    0.001001,    0.002002,    0.003003,    0.004004,    0.005005,    0.006006,    0.007007,    0.008008,    0.009009,     0.01001,    0.011011,    0.012012,    0.013013,    0.014014,    0.015015,    0.016016,    0.017017,    0.018018,    0.019019,     0.02002,    0.021021,    0.022022,    0.023023,\n",
              "          0.024024,    0.025025,    0.026026,    0.027027,    0.028028,    0.029029,     0.03003,    0.031031,    0.032032,    0.033033,    0.034034,    0.035035,    0.036036,    0.037037,    0.038038,    0.039039,     0.04004,    0.041041,    0.042042,    0.043043,    0.044044,    0.045045,    0.046046,    0.047047,\n",
              "          0.048048,    0.049049,     0.05005,    0.051051,    0.052052,    0.053053,    0.054054,    0.055055,    0.056056,    0.057057,    0.058058,    0.059059,     0.06006,    0.061061,    0.062062,    0.063063,    0.064064,    0.065065,    0.066066,    0.067067,    0.068068,    0.069069,     0.07007,    0.071071,\n",
              "          0.072072,    0.073073,    0.074074,    0.075075,    0.076076,    0.077077,    0.078078,    0.079079,     0.08008,    0.081081,    0.082082,    0.083083,    0.084084,    0.085085,    0.086086,    0.087087,    0.088088,    0.089089,     0.09009,    0.091091,    0.092092,    0.093093,    0.094094,    0.095095,\n",
              "          0.096096,    0.097097,    0.098098,    0.099099,      0.1001,      0.1011,      0.1021,      0.1031,      0.1041,     0.10511,     0.10611,     0.10711,     0.10811,     0.10911,     0.11011,     0.11111,     0.11211,     0.11311,     0.11411,     0.11512,     0.11612,     0.11712,     0.11812,     0.11912,\n",
              "           0.12012,     0.12112,     0.12212,     0.12312,     0.12412,     0.12513,     0.12613,     0.12713,     0.12813,     0.12913,     0.13013,     0.13113,     0.13213,     0.13313,     0.13413,     0.13514,     0.13614,     0.13714,     0.13814,     0.13914,     0.14014,     0.14114,     0.14214,     0.14314,\n",
              "           0.14414,     0.14515,     0.14615,     0.14715,     0.14815,     0.14915,     0.15015,     0.15115,     0.15215,     0.15315,     0.15415,     0.15516,     0.15616,     0.15716,     0.15816,     0.15916,     0.16016,     0.16116,     0.16216,     0.16316,     0.16416,     0.16517,     0.16617,     0.16717,\n",
              "           0.16817,     0.16917,     0.17017,     0.17117,     0.17217,     0.17317,     0.17417,     0.17518,     0.17618,     0.17718,     0.17818,     0.17918,     0.18018,     0.18118,     0.18218,     0.18318,     0.18418,     0.18519,     0.18619,     0.18719,     0.18819,     0.18919,     0.19019,     0.19119,\n",
              "           0.19219,     0.19319,     0.19419,      0.1952,      0.1962,      0.1972,      0.1982,      0.1992,      0.2002,      0.2012,      0.2022,      0.2032,      0.2042,     0.20521,     0.20621,     0.20721,     0.20821,     0.20921,     0.21021,     0.21121,     0.21221,     0.21321,     0.21421,     0.21522,\n",
              "           0.21622,     0.21722,     0.21822,     0.21922,     0.22022,     0.22122,     0.22222,     0.22322,     0.22422,     0.22523,     0.22623,     0.22723,     0.22823,     0.22923,     0.23023,     0.23123,     0.23223,     0.23323,     0.23423,     0.23524,     0.23624,     0.23724,     0.23824,     0.23924,\n",
              "           0.24024,     0.24124,     0.24224,     0.24324,     0.24424,     0.24525,     0.24625,     0.24725,     0.24825,     0.24925,     0.25025,     0.25125,     0.25225,     0.25325,     0.25425,     0.25526,     0.25626,     0.25726,     0.25826,     0.25926,     0.26026,     0.26126,     0.26226,     0.26326,\n",
              "           0.26426,     0.26527,     0.26627,     0.26727,     0.26827,     0.26927,     0.27027,     0.27127,     0.27227,     0.27327,     0.27427,     0.27528,     0.27628,     0.27728,     0.27828,     0.27928,     0.28028,     0.28128,     0.28228,     0.28328,     0.28428,     0.28529,     0.28629,     0.28729,\n",
              "           0.28829,     0.28929,     0.29029,     0.29129,     0.29229,     0.29329,     0.29429,      0.2953,      0.2963,      0.2973,      0.2983,      0.2993,      0.3003,      0.3013,      0.3023,      0.3033,      0.3043,     0.30531,     0.30631,     0.30731,     0.30831,     0.30931,     0.31031,     0.31131,\n",
              "           0.31231,     0.31331,     0.31431,     0.31532,     0.31632,     0.31732,     0.31832,     0.31932,     0.32032,     0.32132,     0.32232,     0.32332,     0.32432,     0.32533,     0.32633,     0.32733,     0.32833,     0.32933,     0.33033,     0.33133,     0.33233,     0.33333,     0.33433,     0.33534,\n",
              "           0.33634,     0.33734,     0.33834,     0.33934,     0.34034,     0.34134,     0.34234,     0.34334,     0.34434,     0.34535,     0.34635,     0.34735,     0.34835,     0.34935,     0.35035,     0.35135,     0.35235,     0.35335,     0.35435,     0.35536,     0.35636,     0.35736,     0.35836,     0.35936,\n",
              "           0.36036,     0.36136,     0.36236,     0.36336,     0.36436,     0.36537,     0.36637,     0.36737,     0.36837,     0.36937,     0.37037,     0.37137,     0.37237,     0.37337,     0.37437,     0.37538,     0.37638,     0.37738,     0.37838,     0.37938,     0.38038,     0.38138,     0.38238,     0.38338,\n",
              "           0.38438,     0.38539,     0.38639,     0.38739,     0.38839,     0.38939,     0.39039,     0.39139,     0.39239,     0.39339,     0.39439,      0.3954,      0.3964,      0.3974,      0.3984,      0.3994,      0.4004,      0.4014,      0.4024,      0.4034,      0.4044,     0.40541,     0.40641,     0.40741,\n",
              "           0.40841,     0.40941,     0.41041,     0.41141,     0.41241,     0.41341,     0.41441,     0.41542,     0.41642,     0.41742,     0.41842,     0.41942,     0.42042,     0.42142,     0.42242,     0.42342,     0.42442,     0.42543,     0.42643,     0.42743,     0.42843,     0.42943,     0.43043,     0.43143,\n",
              "           0.43243,     0.43343,     0.43443,     0.43544,     0.43644,     0.43744,     0.43844,     0.43944,     0.44044,     0.44144,     0.44244,     0.44344,     0.44444,     0.44545,     0.44645,     0.44745,     0.44845,     0.44945,     0.45045,     0.45145,     0.45245,     0.45345,     0.45445,     0.45546,\n",
              "           0.45646,     0.45746,     0.45846,     0.45946,     0.46046,     0.46146,     0.46246,     0.46346,     0.46446,     0.46547,     0.46647,     0.46747,     0.46847,     0.46947,     0.47047,     0.47147,     0.47247,     0.47347,     0.47447,     0.47548,     0.47648,     0.47748,     0.47848,     0.47948,\n",
              "           0.48048,     0.48148,     0.48248,     0.48348,     0.48448,     0.48549,     0.48649,     0.48749,     0.48849,     0.48949,     0.49049,     0.49149,     0.49249,     0.49349,     0.49449,      0.4955,      0.4965,      0.4975,      0.4985,      0.4995,      0.5005,      0.5015,      0.5025,      0.5035,\n",
              "            0.5045,     0.50551,     0.50651,     0.50751,     0.50851,     0.50951,     0.51051,     0.51151,     0.51251,     0.51351,     0.51451,     0.51552,     0.51652,     0.51752,     0.51852,     0.51952,     0.52052,     0.52152,     0.52252,     0.52352,     0.52452,     0.52553,     0.52653,     0.52753,\n",
              "           0.52853,     0.52953,     0.53053,     0.53153,     0.53253,     0.53353,     0.53453,     0.53554,     0.53654,     0.53754,     0.53854,     0.53954,     0.54054,     0.54154,     0.54254,     0.54354,     0.54454,     0.54555,     0.54655,     0.54755,     0.54855,     0.54955,     0.55055,     0.55155,\n",
              "           0.55255,     0.55355,     0.55455,     0.55556,     0.55656,     0.55756,     0.55856,     0.55956,     0.56056,     0.56156,     0.56256,     0.56356,     0.56456,     0.56557,     0.56657,     0.56757,     0.56857,     0.56957,     0.57057,     0.57157,     0.57257,     0.57357,     0.57457,     0.57558,\n",
              "           0.57658,     0.57758,     0.57858,     0.57958,     0.58058,     0.58158,     0.58258,     0.58358,     0.58458,     0.58559,     0.58659,     0.58759,     0.58859,     0.58959,     0.59059,     0.59159,     0.59259,     0.59359,     0.59459,      0.5956,      0.5966,      0.5976,      0.5986,      0.5996,\n",
              "            0.6006,      0.6016,      0.6026,      0.6036,      0.6046,     0.60561,     0.60661,     0.60761,     0.60861,     0.60961,     0.61061,     0.61161,     0.61261,     0.61361,     0.61461,     0.61562,     0.61662,     0.61762,     0.61862,     0.61962,     0.62062,     0.62162,     0.62262,     0.62362,\n",
              "           0.62462,     0.62563,     0.62663,     0.62763,     0.62863,     0.62963,     0.63063,     0.63163,     0.63263,     0.63363,     0.63463,     0.63564,     0.63664,     0.63764,     0.63864,     0.63964,     0.64064,     0.64164,     0.64264,     0.64364,     0.64464,     0.64565,     0.64665,     0.64765,\n",
              "           0.64865,     0.64965,     0.65065,     0.65165,     0.65265,     0.65365,     0.65465,     0.65566,     0.65666,     0.65766,     0.65866,     0.65966,     0.66066,     0.66166,     0.66266,     0.66366,     0.66466,     0.66567,     0.66667,     0.66767,     0.66867,     0.66967,     0.67067,     0.67167,\n",
              "           0.67267,     0.67367,     0.67467,     0.67568,     0.67668,     0.67768,     0.67868,     0.67968,     0.68068,     0.68168,     0.68268,     0.68368,     0.68468,     0.68569,     0.68669,     0.68769,     0.68869,     0.68969,     0.69069,     0.69169,     0.69269,     0.69369,     0.69469,      0.6957,\n",
              "            0.6967,      0.6977,      0.6987,      0.6997,      0.7007,      0.7017,      0.7027,      0.7037,      0.7047,     0.70571,     0.70671,     0.70771,     0.70871,     0.70971,     0.71071,     0.71171,     0.71271,     0.71371,     0.71471,     0.71572,     0.71672,     0.71772,     0.71872,     0.71972,\n",
              "           0.72072,     0.72172,     0.72272,     0.72372,     0.72472,     0.72573,     0.72673,     0.72773,     0.72873,     0.72973,     0.73073,     0.73173,     0.73273,     0.73373,     0.73473,     0.73574,     0.73674,     0.73774,     0.73874,     0.73974,     0.74074,     0.74174,     0.74274,     0.74374,\n",
              "           0.74474,     0.74575,     0.74675,     0.74775,     0.74875,     0.74975,     0.75075,     0.75175,     0.75275,     0.75375,     0.75475,     0.75576,     0.75676,     0.75776,     0.75876,     0.75976,     0.76076,     0.76176,     0.76276,     0.76376,     0.76476,     0.76577,     0.76677,     0.76777,\n",
              "           0.76877,     0.76977,     0.77077,     0.77177,     0.77277,     0.77377,     0.77477,     0.77578,     0.77678,     0.77778,     0.77878,     0.77978,     0.78078,     0.78178,     0.78278,     0.78378,     0.78478,     0.78579,     0.78679,     0.78779,     0.78879,     0.78979,     0.79079,     0.79179,\n",
              "           0.79279,     0.79379,     0.79479,      0.7958,      0.7968,      0.7978,      0.7988,      0.7998,      0.8008,      0.8018,      0.8028,      0.8038,      0.8048,     0.80581,     0.80681,     0.80781,     0.80881,     0.80981,     0.81081,     0.81181,     0.81281,     0.81381,     0.81481,     0.81582,\n",
              "           0.81682,     0.81782,     0.81882,     0.81982,     0.82082,     0.82182,     0.82282,     0.82382,     0.82482,     0.82583,     0.82683,     0.82783,     0.82883,     0.82983,     0.83083,     0.83183,     0.83283,     0.83383,     0.83483,     0.83584,     0.83684,     0.83784,     0.83884,     0.83984,\n",
              "           0.84084,     0.84184,     0.84284,     0.84384,     0.84484,     0.84585,     0.84685,     0.84785,     0.84885,     0.84985,     0.85085,     0.85185,     0.85285,     0.85385,     0.85485,     0.85586,     0.85686,     0.85786,     0.85886,     0.85986,     0.86086,     0.86186,     0.86286,     0.86386,\n",
              "           0.86486,     0.86587,     0.86687,     0.86787,     0.86887,     0.86987,     0.87087,     0.87187,     0.87287,     0.87387,     0.87487,     0.87588,     0.87688,     0.87788,     0.87888,     0.87988,     0.88088,     0.88188,     0.88288,     0.88388,     0.88488,     0.88589,     0.88689,     0.88789,\n",
              "           0.88889,     0.88989,     0.89089,     0.89189,     0.89289,     0.89389,     0.89489,      0.8959,      0.8969,      0.8979,      0.8989,      0.8999,      0.9009,      0.9019,      0.9029,      0.9039,      0.9049,     0.90591,     0.90691,     0.90791,     0.90891,     0.90991,     0.91091,     0.91191,\n",
              "           0.91291,     0.91391,     0.91491,     0.91592,     0.91692,     0.91792,     0.91892,     0.91992,     0.92092,     0.92192,     0.92292,     0.92392,     0.92492,     0.92593,     0.92693,     0.92793,     0.92893,     0.92993,     0.93093,     0.93193,     0.93293,     0.93393,     0.93493,     0.93594,\n",
              "           0.93694,     0.93794,     0.93894,     0.93994,     0.94094,     0.94194,     0.94294,     0.94394,     0.94494,     0.94595,     0.94695,     0.94795,     0.94895,     0.94995,     0.95095,     0.95195,     0.95295,     0.95395,     0.95495,     0.95596,     0.95696,     0.95796,     0.95896,     0.95996,\n",
              "           0.96096,     0.96196,     0.96296,     0.96396,     0.96496,     0.96597,     0.96697,     0.96797,     0.96897,     0.96997,     0.97097,     0.97197,     0.97297,     0.97397,     0.97497,     0.97598,     0.97698,     0.97798,     0.97898,     0.97998,     0.98098,     0.98198,     0.98298,     0.98398,\n",
              "           0.98498,     0.98599,     0.98699,     0.98799,     0.98899,     0.98999,     0.99099,     0.99199,     0.99299,     0.99399,     0.99499,       0.996,       0.997,       0.998,       0.999,           1]), array([[          0,           0,           0, ...,           0,           0,           0],\n",
              "       [    0.46632,     0.46632,       0.604, ...,           0,           0,           0],\n",
              "       [        0.5,         0.5,     0.88671, ...,           0,           0,           0],\n",
              "       ...,\n",
              "       [    0.31414,     0.31414,     0.47632, ...,           0,           0,           0],\n",
              "       [    0.11382,     0.11382,     0.21576, ...,           0,           0,           0],\n",
              "       [    0.80176,     0.80176,     0.89496, ...,           0,           0,           0]]), 'Confidence', 'F1'], [array([          0,    0.001001,    0.002002,    0.003003,    0.004004,    0.005005,    0.006006,    0.007007,    0.008008,    0.009009,     0.01001,    0.011011,    0.012012,    0.013013,    0.014014,    0.015015,    0.016016,    0.017017,    0.018018,    0.019019,     0.02002,    0.021021,    0.022022,    0.023023,\n",
              "          0.024024,    0.025025,    0.026026,    0.027027,    0.028028,    0.029029,     0.03003,    0.031031,    0.032032,    0.033033,    0.034034,    0.035035,    0.036036,    0.037037,    0.038038,    0.039039,     0.04004,    0.041041,    0.042042,    0.043043,    0.044044,    0.045045,    0.046046,    0.047047,\n",
              "          0.048048,    0.049049,     0.05005,    0.051051,    0.052052,    0.053053,    0.054054,    0.055055,    0.056056,    0.057057,    0.058058,    0.059059,     0.06006,    0.061061,    0.062062,    0.063063,    0.064064,    0.065065,    0.066066,    0.067067,    0.068068,    0.069069,     0.07007,    0.071071,\n",
              "          0.072072,    0.073073,    0.074074,    0.075075,    0.076076,    0.077077,    0.078078,    0.079079,     0.08008,    0.081081,    0.082082,    0.083083,    0.084084,    0.085085,    0.086086,    0.087087,    0.088088,    0.089089,     0.09009,    0.091091,    0.092092,    0.093093,    0.094094,    0.095095,\n",
              "          0.096096,    0.097097,    0.098098,    0.099099,      0.1001,      0.1011,      0.1021,      0.1031,      0.1041,     0.10511,     0.10611,     0.10711,     0.10811,     0.10911,     0.11011,     0.11111,     0.11211,     0.11311,     0.11411,     0.11512,     0.11612,     0.11712,     0.11812,     0.11912,\n",
              "           0.12012,     0.12112,     0.12212,     0.12312,     0.12412,     0.12513,     0.12613,     0.12713,     0.12813,     0.12913,     0.13013,     0.13113,     0.13213,     0.13313,     0.13413,     0.13514,     0.13614,     0.13714,     0.13814,     0.13914,     0.14014,     0.14114,     0.14214,     0.14314,\n",
              "           0.14414,     0.14515,     0.14615,     0.14715,     0.14815,     0.14915,     0.15015,     0.15115,     0.15215,     0.15315,     0.15415,     0.15516,     0.15616,     0.15716,     0.15816,     0.15916,     0.16016,     0.16116,     0.16216,     0.16316,     0.16416,     0.16517,     0.16617,     0.16717,\n",
              "           0.16817,     0.16917,     0.17017,     0.17117,     0.17217,     0.17317,     0.17417,     0.17518,     0.17618,     0.17718,     0.17818,     0.17918,     0.18018,     0.18118,     0.18218,     0.18318,     0.18418,     0.18519,     0.18619,     0.18719,     0.18819,     0.18919,     0.19019,     0.19119,\n",
              "           0.19219,     0.19319,     0.19419,      0.1952,      0.1962,      0.1972,      0.1982,      0.1992,      0.2002,      0.2012,      0.2022,      0.2032,      0.2042,     0.20521,     0.20621,     0.20721,     0.20821,     0.20921,     0.21021,     0.21121,     0.21221,     0.21321,     0.21421,     0.21522,\n",
              "           0.21622,     0.21722,     0.21822,     0.21922,     0.22022,     0.22122,     0.22222,     0.22322,     0.22422,     0.22523,     0.22623,     0.22723,     0.22823,     0.22923,     0.23023,     0.23123,     0.23223,     0.23323,     0.23423,     0.23524,     0.23624,     0.23724,     0.23824,     0.23924,\n",
              "           0.24024,     0.24124,     0.24224,     0.24324,     0.24424,     0.24525,     0.24625,     0.24725,     0.24825,     0.24925,     0.25025,     0.25125,     0.25225,     0.25325,     0.25425,     0.25526,     0.25626,     0.25726,     0.25826,     0.25926,     0.26026,     0.26126,     0.26226,     0.26326,\n",
              "           0.26426,     0.26527,     0.26627,     0.26727,     0.26827,     0.26927,     0.27027,     0.27127,     0.27227,     0.27327,     0.27427,     0.27528,     0.27628,     0.27728,     0.27828,     0.27928,     0.28028,     0.28128,     0.28228,     0.28328,     0.28428,     0.28529,     0.28629,     0.28729,\n",
              "           0.28829,     0.28929,     0.29029,     0.29129,     0.29229,     0.29329,     0.29429,      0.2953,      0.2963,      0.2973,      0.2983,      0.2993,      0.3003,      0.3013,      0.3023,      0.3033,      0.3043,     0.30531,     0.30631,     0.30731,     0.30831,     0.30931,     0.31031,     0.31131,\n",
              "           0.31231,     0.31331,     0.31431,     0.31532,     0.31632,     0.31732,     0.31832,     0.31932,     0.32032,     0.32132,     0.32232,     0.32332,     0.32432,     0.32533,     0.32633,     0.32733,     0.32833,     0.32933,     0.33033,     0.33133,     0.33233,     0.33333,     0.33433,     0.33534,\n",
              "           0.33634,     0.33734,     0.33834,     0.33934,     0.34034,     0.34134,     0.34234,     0.34334,     0.34434,     0.34535,     0.34635,     0.34735,     0.34835,     0.34935,     0.35035,     0.35135,     0.35235,     0.35335,     0.35435,     0.35536,     0.35636,     0.35736,     0.35836,     0.35936,\n",
              "           0.36036,     0.36136,     0.36236,     0.36336,     0.36436,     0.36537,     0.36637,     0.36737,     0.36837,     0.36937,     0.37037,     0.37137,     0.37237,     0.37337,     0.37437,     0.37538,     0.37638,     0.37738,     0.37838,     0.37938,     0.38038,     0.38138,     0.38238,     0.38338,\n",
              "           0.38438,     0.38539,     0.38639,     0.38739,     0.38839,     0.38939,     0.39039,     0.39139,     0.39239,     0.39339,     0.39439,      0.3954,      0.3964,      0.3974,      0.3984,      0.3994,      0.4004,      0.4014,      0.4024,      0.4034,      0.4044,     0.40541,     0.40641,     0.40741,\n",
              "           0.40841,     0.40941,     0.41041,     0.41141,     0.41241,     0.41341,     0.41441,     0.41542,     0.41642,     0.41742,     0.41842,     0.41942,     0.42042,     0.42142,     0.42242,     0.42342,     0.42442,     0.42543,     0.42643,     0.42743,     0.42843,     0.42943,     0.43043,     0.43143,\n",
              "           0.43243,     0.43343,     0.43443,     0.43544,     0.43644,     0.43744,     0.43844,     0.43944,     0.44044,     0.44144,     0.44244,     0.44344,     0.44444,     0.44545,     0.44645,     0.44745,     0.44845,     0.44945,     0.45045,     0.45145,     0.45245,     0.45345,     0.45445,     0.45546,\n",
              "           0.45646,     0.45746,     0.45846,     0.45946,     0.46046,     0.46146,     0.46246,     0.46346,     0.46446,     0.46547,     0.46647,     0.46747,     0.46847,     0.46947,     0.47047,     0.47147,     0.47247,     0.47347,     0.47447,     0.47548,     0.47648,     0.47748,     0.47848,     0.47948,\n",
              "           0.48048,     0.48148,     0.48248,     0.48348,     0.48448,     0.48549,     0.48649,     0.48749,     0.48849,     0.48949,     0.49049,     0.49149,     0.49249,     0.49349,     0.49449,      0.4955,      0.4965,      0.4975,      0.4985,      0.4995,      0.5005,      0.5015,      0.5025,      0.5035,\n",
              "            0.5045,     0.50551,     0.50651,     0.50751,     0.50851,     0.50951,     0.51051,     0.51151,     0.51251,     0.51351,     0.51451,     0.51552,     0.51652,     0.51752,     0.51852,     0.51952,     0.52052,     0.52152,     0.52252,     0.52352,     0.52452,     0.52553,     0.52653,     0.52753,\n",
              "           0.52853,     0.52953,     0.53053,     0.53153,     0.53253,     0.53353,     0.53453,     0.53554,     0.53654,     0.53754,     0.53854,     0.53954,     0.54054,     0.54154,     0.54254,     0.54354,     0.54454,     0.54555,     0.54655,     0.54755,     0.54855,     0.54955,     0.55055,     0.55155,\n",
              "           0.55255,     0.55355,     0.55455,     0.55556,     0.55656,     0.55756,     0.55856,     0.55956,     0.56056,     0.56156,     0.56256,     0.56356,     0.56456,     0.56557,     0.56657,     0.56757,     0.56857,     0.56957,     0.57057,     0.57157,     0.57257,     0.57357,     0.57457,     0.57558,\n",
              "           0.57658,     0.57758,     0.57858,     0.57958,     0.58058,     0.58158,     0.58258,     0.58358,     0.58458,     0.58559,     0.58659,     0.58759,     0.58859,     0.58959,     0.59059,     0.59159,     0.59259,     0.59359,     0.59459,      0.5956,      0.5966,      0.5976,      0.5986,      0.5996,\n",
              "            0.6006,      0.6016,      0.6026,      0.6036,      0.6046,     0.60561,     0.60661,     0.60761,     0.60861,     0.60961,     0.61061,     0.61161,     0.61261,     0.61361,     0.61461,     0.61562,     0.61662,     0.61762,     0.61862,     0.61962,     0.62062,     0.62162,     0.62262,     0.62362,\n",
              "           0.62462,     0.62563,     0.62663,     0.62763,     0.62863,     0.62963,     0.63063,     0.63163,     0.63263,     0.63363,     0.63463,     0.63564,     0.63664,     0.63764,     0.63864,     0.63964,     0.64064,     0.64164,     0.64264,     0.64364,     0.64464,     0.64565,     0.64665,     0.64765,\n",
              "           0.64865,     0.64965,     0.65065,     0.65165,     0.65265,     0.65365,     0.65465,     0.65566,     0.65666,     0.65766,     0.65866,     0.65966,     0.66066,     0.66166,     0.66266,     0.66366,     0.66466,     0.66567,     0.66667,     0.66767,     0.66867,     0.66967,     0.67067,     0.67167,\n",
              "           0.67267,     0.67367,     0.67467,     0.67568,     0.67668,     0.67768,     0.67868,     0.67968,     0.68068,     0.68168,     0.68268,     0.68368,     0.68468,     0.68569,     0.68669,     0.68769,     0.68869,     0.68969,     0.69069,     0.69169,     0.69269,     0.69369,     0.69469,      0.6957,\n",
              "            0.6967,      0.6977,      0.6987,      0.6997,      0.7007,      0.7017,      0.7027,      0.7037,      0.7047,     0.70571,     0.70671,     0.70771,     0.70871,     0.70971,     0.71071,     0.71171,     0.71271,     0.71371,     0.71471,     0.71572,     0.71672,     0.71772,     0.71872,     0.71972,\n",
              "           0.72072,     0.72172,     0.72272,     0.72372,     0.72472,     0.72573,     0.72673,     0.72773,     0.72873,     0.72973,     0.73073,     0.73173,     0.73273,     0.73373,     0.73473,     0.73574,     0.73674,     0.73774,     0.73874,     0.73974,     0.74074,     0.74174,     0.74274,     0.74374,\n",
              "           0.74474,     0.74575,     0.74675,     0.74775,     0.74875,     0.74975,     0.75075,     0.75175,     0.75275,     0.75375,     0.75475,     0.75576,     0.75676,     0.75776,     0.75876,     0.75976,     0.76076,     0.76176,     0.76276,     0.76376,     0.76476,     0.76577,     0.76677,     0.76777,\n",
              "           0.76877,     0.76977,     0.77077,     0.77177,     0.77277,     0.77377,     0.77477,     0.77578,     0.77678,     0.77778,     0.77878,     0.77978,     0.78078,     0.78178,     0.78278,     0.78378,     0.78478,     0.78579,     0.78679,     0.78779,     0.78879,     0.78979,     0.79079,     0.79179,\n",
              "           0.79279,     0.79379,     0.79479,      0.7958,      0.7968,      0.7978,      0.7988,      0.7998,      0.8008,      0.8018,      0.8028,      0.8038,      0.8048,     0.80581,     0.80681,     0.80781,     0.80881,     0.80981,     0.81081,     0.81181,     0.81281,     0.81381,     0.81481,     0.81582,\n",
              "           0.81682,     0.81782,     0.81882,     0.81982,     0.82082,     0.82182,     0.82282,     0.82382,     0.82482,     0.82583,     0.82683,     0.82783,     0.82883,     0.82983,     0.83083,     0.83183,     0.83283,     0.83383,     0.83483,     0.83584,     0.83684,     0.83784,     0.83884,     0.83984,\n",
              "           0.84084,     0.84184,     0.84284,     0.84384,     0.84484,     0.84585,     0.84685,     0.84785,     0.84885,     0.84985,     0.85085,     0.85185,     0.85285,     0.85385,     0.85485,     0.85586,     0.85686,     0.85786,     0.85886,     0.85986,     0.86086,     0.86186,     0.86286,     0.86386,\n",
              "           0.86486,     0.86587,     0.86687,     0.86787,     0.86887,     0.86987,     0.87087,     0.87187,     0.87287,     0.87387,     0.87487,     0.87588,     0.87688,     0.87788,     0.87888,     0.87988,     0.88088,     0.88188,     0.88288,     0.88388,     0.88488,     0.88589,     0.88689,     0.88789,\n",
              "           0.88889,     0.88989,     0.89089,     0.89189,     0.89289,     0.89389,     0.89489,      0.8959,      0.8969,      0.8979,      0.8989,      0.8999,      0.9009,      0.9019,      0.9029,      0.9039,      0.9049,     0.90591,     0.90691,     0.90791,     0.90891,     0.90991,     0.91091,     0.91191,\n",
              "           0.91291,     0.91391,     0.91491,     0.91592,     0.91692,     0.91792,     0.91892,     0.91992,     0.92092,     0.92192,     0.92292,     0.92392,     0.92492,     0.92593,     0.92693,     0.92793,     0.92893,     0.92993,     0.93093,     0.93193,     0.93293,     0.93393,     0.93493,     0.93594,\n",
              "           0.93694,     0.93794,     0.93894,     0.93994,     0.94094,     0.94194,     0.94294,     0.94394,     0.94494,     0.94595,     0.94695,     0.94795,     0.94895,     0.94995,     0.95095,     0.95195,     0.95295,     0.95395,     0.95495,     0.95596,     0.95696,     0.95796,     0.95896,     0.95996,\n",
              "           0.96096,     0.96196,     0.96296,     0.96396,     0.96496,     0.96597,     0.96697,     0.96797,     0.96897,     0.96997,     0.97097,     0.97197,     0.97297,     0.97397,     0.97497,     0.97598,     0.97698,     0.97798,     0.97898,     0.97998,     0.98098,     0.98198,     0.98298,     0.98398,\n",
              "           0.98498,     0.98599,     0.98699,     0.98799,     0.98899,     0.98999,     0.99099,     0.99199,     0.99299,     0.99399,     0.99499,       0.996,       0.997,       0.998,       0.999,           1]), array([[          0,           0,           1, ...,           1,           1,           1],\n",
              "       [    0.30405,     0.30405,     0.43267, ...,           1,           1,           1],\n",
              "       [    0.33333,     0.33333,     0.79648, ...,           1,           1,           1],\n",
              "       ...,\n",
              "       [    0.18634,     0.18634,     0.31262, ...,           1,           1,           1],\n",
              "       [   0.060475,    0.060475,     0.12145, ...,           1,           1,           1],\n",
              "       [    0.66911,     0.66911,     0.80989, ...,           1,           1,           1]]), 'Confidence', 'Precision'], [array([          0,    0.001001,    0.002002,    0.003003,    0.004004,    0.005005,    0.006006,    0.007007,    0.008008,    0.009009,     0.01001,    0.011011,    0.012012,    0.013013,    0.014014,    0.015015,    0.016016,    0.017017,    0.018018,    0.019019,     0.02002,    0.021021,    0.022022,    0.023023,\n",
              "          0.024024,    0.025025,    0.026026,    0.027027,    0.028028,    0.029029,     0.03003,    0.031031,    0.032032,    0.033033,    0.034034,    0.035035,    0.036036,    0.037037,    0.038038,    0.039039,     0.04004,    0.041041,    0.042042,    0.043043,    0.044044,    0.045045,    0.046046,    0.047047,\n",
              "          0.048048,    0.049049,     0.05005,    0.051051,    0.052052,    0.053053,    0.054054,    0.055055,    0.056056,    0.057057,    0.058058,    0.059059,     0.06006,    0.061061,    0.062062,    0.063063,    0.064064,    0.065065,    0.066066,    0.067067,    0.068068,    0.069069,     0.07007,    0.071071,\n",
              "          0.072072,    0.073073,    0.074074,    0.075075,    0.076076,    0.077077,    0.078078,    0.079079,     0.08008,    0.081081,    0.082082,    0.083083,    0.084084,    0.085085,    0.086086,    0.087087,    0.088088,    0.089089,     0.09009,    0.091091,    0.092092,    0.093093,    0.094094,    0.095095,\n",
              "          0.096096,    0.097097,    0.098098,    0.099099,      0.1001,      0.1011,      0.1021,      0.1031,      0.1041,     0.10511,     0.10611,     0.10711,     0.10811,     0.10911,     0.11011,     0.11111,     0.11211,     0.11311,     0.11411,     0.11512,     0.11612,     0.11712,     0.11812,     0.11912,\n",
              "           0.12012,     0.12112,     0.12212,     0.12312,     0.12412,     0.12513,     0.12613,     0.12713,     0.12813,     0.12913,     0.13013,     0.13113,     0.13213,     0.13313,     0.13413,     0.13514,     0.13614,     0.13714,     0.13814,     0.13914,     0.14014,     0.14114,     0.14214,     0.14314,\n",
              "           0.14414,     0.14515,     0.14615,     0.14715,     0.14815,     0.14915,     0.15015,     0.15115,     0.15215,     0.15315,     0.15415,     0.15516,     0.15616,     0.15716,     0.15816,     0.15916,     0.16016,     0.16116,     0.16216,     0.16316,     0.16416,     0.16517,     0.16617,     0.16717,\n",
              "           0.16817,     0.16917,     0.17017,     0.17117,     0.17217,     0.17317,     0.17417,     0.17518,     0.17618,     0.17718,     0.17818,     0.17918,     0.18018,     0.18118,     0.18218,     0.18318,     0.18418,     0.18519,     0.18619,     0.18719,     0.18819,     0.18919,     0.19019,     0.19119,\n",
              "           0.19219,     0.19319,     0.19419,      0.1952,      0.1962,      0.1972,      0.1982,      0.1992,      0.2002,      0.2012,      0.2022,      0.2032,      0.2042,     0.20521,     0.20621,     0.20721,     0.20821,     0.20921,     0.21021,     0.21121,     0.21221,     0.21321,     0.21421,     0.21522,\n",
              "           0.21622,     0.21722,     0.21822,     0.21922,     0.22022,     0.22122,     0.22222,     0.22322,     0.22422,     0.22523,     0.22623,     0.22723,     0.22823,     0.22923,     0.23023,     0.23123,     0.23223,     0.23323,     0.23423,     0.23524,     0.23624,     0.23724,     0.23824,     0.23924,\n",
              "           0.24024,     0.24124,     0.24224,     0.24324,     0.24424,     0.24525,     0.24625,     0.24725,     0.24825,     0.24925,     0.25025,     0.25125,     0.25225,     0.25325,     0.25425,     0.25526,     0.25626,     0.25726,     0.25826,     0.25926,     0.26026,     0.26126,     0.26226,     0.26326,\n",
              "           0.26426,     0.26527,     0.26627,     0.26727,     0.26827,     0.26927,     0.27027,     0.27127,     0.27227,     0.27327,     0.27427,     0.27528,     0.27628,     0.27728,     0.27828,     0.27928,     0.28028,     0.28128,     0.28228,     0.28328,     0.28428,     0.28529,     0.28629,     0.28729,\n",
              "           0.28829,     0.28929,     0.29029,     0.29129,     0.29229,     0.29329,     0.29429,      0.2953,      0.2963,      0.2973,      0.2983,      0.2993,      0.3003,      0.3013,      0.3023,      0.3033,      0.3043,     0.30531,     0.30631,     0.30731,     0.30831,     0.30931,     0.31031,     0.31131,\n",
              "           0.31231,     0.31331,     0.31431,     0.31532,     0.31632,     0.31732,     0.31832,     0.31932,     0.32032,     0.32132,     0.32232,     0.32332,     0.32432,     0.32533,     0.32633,     0.32733,     0.32833,     0.32933,     0.33033,     0.33133,     0.33233,     0.33333,     0.33433,     0.33534,\n",
              "           0.33634,     0.33734,     0.33834,     0.33934,     0.34034,     0.34134,     0.34234,     0.34334,     0.34434,     0.34535,     0.34635,     0.34735,     0.34835,     0.34935,     0.35035,     0.35135,     0.35235,     0.35335,     0.35435,     0.35536,     0.35636,     0.35736,     0.35836,     0.35936,\n",
              "           0.36036,     0.36136,     0.36236,     0.36336,     0.36436,     0.36537,     0.36637,     0.36737,     0.36837,     0.36937,     0.37037,     0.37137,     0.37237,     0.37337,     0.37437,     0.37538,     0.37638,     0.37738,     0.37838,     0.37938,     0.38038,     0.38138,     0.38238,     0.38338,\n",
              "           0.38438,     0.38539,     0.38639,     0.38739,     0.38839,     0.38939,     0.39039,     0.39139,     0.39239,     0.39339,     0.39439,      0.3954,      0.3964,      0.3974,      0.3984,      0.3994,      0.4004,      0.4014,      0.4024,      0.4034,      0.4044,     0.40541,     0.40641,     0.40741,\n",
              "           0.40841,     0.40941,     0.41041,     0.41141,     0.41241,     0.41341,     0.41441,     0.41542,     0.41642,     0.41742,     0.41842,     0.41942,     0.42042,     0.42142,     0.42242,     0.42342,     0.42442,     0.42543,     0.42643,     0.42743,     0.42843,     0.42943,     0.43043,     0.43143,\n",
              "           0.43243,     0.43343,     0.43443,     0.43544,     0.43644,     0.43744,     0.43844,     0.43944,     0.44044,     0.44144,     0.44244,     0.44344,     0.44444,     0.44545,     0.44645,     0.44745,     0.44845,     0.44945,     0.45045,     0.45145,     0.45245,     0.45345,     0.45445,     0.45546,\n",
              "           0.45646,     0.45746,     0.45846,     0.45946,     0.46046,     0.46146,     0.46246,     0.46346,     0.46446,     0.46547,     0.46647,     0.46747,     0.46847,     0.46947,     0.47047,     0.47147,     0.47247,     0.47347,     0.47447,     0.47548,     0.47648,     0.47748,     0.47848,     0.47948,\n",
              "           0.48048,     0.48148,     0.48248,     0.48348,     0.48448,     0.48549,     0.48649,     0.48749,     0.48849,     0.48949,     0.49049,     0.49149,     0.49249,     0.49349,     0.49449,      0.4955,      0.4965,      0.4975,      0.4985,      0.4995,      0.5005,      0.5015,      0.5025,      0.5035,\n",
              "            0.5045,     0.50551,     0.50651,     0.50751,     0.50851,     0.50951,     0.51051,     0.51151,     0.51251,     0.51351,     0.51451,     0.51552,     0.51652,     0.51752,     0.51852,     0.51952,     0.52052,     0.52152,     0.52252,     0.52352,     0.52452,     0.52553,     0.52653,     0.52753,\n",
              "           0.52853,     0.52953,     0.53053,     0.53153,     0.53253,     0.53353,     0.53453,     0.53554,     0.53654,     0.53754,     0.53854,     0.53954,     0.54054,     0.54154,     0.54254,     0.54354,     0.54454,     0.54555,     0.54655,     0.54755,     0.54855,     0.54955,     0.55055,     0.55155,\n",
              "           0.55255,     0.55355,     0.55455,     0.55556,     0.55656,     0.55756,     0.55856,     0.55956,     0.56056,     0.56156,     0.56256,     0.56356,     0.56456,     0.56557,     0.56657,     0.56757,     0.56857,     0.56957,     0.57057,     0.57157,     0.57257,     0.57357,     0.57457,     0.57558,\n",
              "           0.57658,     0.57758,     0.57858,     0.57958,     0.58058,     0.58158,     0.58258,     0.58358,     0.58458,     0.58559,     0.58659,     0.58759,     0.58859,     0.58959,     0.59059,     0.59159,     0.59259,     0.59359,     0.59459,      0.5956,      0.5966,      0.5976,      0.5986,      0.5996,\n",
              "            0.6006,      0.6016,      0.6026,      0.6036,      0.6046,     0.60561,     0.60661,     0.60761,     0.60861,     0.60961,     0.61061,     0.61161,     0.61261,     0.61361,     0.61461,     0.61562,     0.61662,     0.61762,     0.61862,     0.61962,     0.62062,     0.62162,     0.62262,     0.62362,\n",
              "           0.62462,     0.62563,     0.62663,     0.62763,     0.62863,     0.62963,     0.63063,     0.63163,     0.63263,     0.63363,     0.63463,     0.63564,     0.63664,     0.63764,     0.63864,     0.63964,     0.64064,     0.64164,     0.64264,     0.64364,     0.64464,     0.64565,     0.64665,     0.64765,\n",
              "           0.64865,     0.64965,     0.65065,     0.65165,     0.65265,     0.65365,     0.65465,     0.65566,     0.65666,     0.65766,     0.65866,     0.65966,     0.66066,     0.66166,     0.66266,     0.66366,     0.66466,     0.66567,     0.66667,     0.66767,     0.66867,     0.66967,     0.67067,     0.67167,\n",
              "           0.67267,     0.67367,     0.67467,     0.67568,     0.67668,     0.67768,     0.67868,     0.67968,     0.68068,     0.68168,     0.68268,     0.68368,     0.68468,     0.68569,     0.68669,     0.68769,     0.68869,     0.68969,     0.69069,     0.69169,     0.69269,     0.69369,     0.69469,      0.6957,\n",
              "            0.6967,      0.6977,      0.6987,      0.6997,      0.7007,      0.7017,      0.7027,      0.7037,      0.7047,     0.70571,     0.70671,     0.70771,     0.70871,     0.70971,     0.71071,     0.71171,     0.71271,     0.71371,     0.71471,     0.71572,     0.71672,     0.71772,     0.71872,     0.71972,\n",
              "           0.72072,     0.72172,     0.72272,     0.72372,     0.72472,     0.72573,     0.72673,     0.72773,     0.72873,     0.72973,     0.73073,     0.73173,     0.73273,     0.73373,     0.73473,     0.73574,     0.73674,     0.73774,     0.73874,     0.73974,     0.74074,     0.74174,     0.74274,     0.74374,\n",
              "           0.74474,     0.74575,     0.74675,     0.74775,     0.74875,     0.74975,     0.75075,     0.75175,     0.75275,     0.75375,     0.75475,     0.75576,     0.75676,     0.75776,     0.75876,     0.75976,     0.76076,     0.76176,     0.76276,     0.76376,     0.76476,     0.76577,     0.76677,     0.76777,\n",
              "           0.76877,     0.76977,     0.77077,     0.77177,     0.77277,     0.77377,     0.77477,     0.77578,     0.77678,     0.77778,     0.77878,     0.77978,     0.78078,     0.78178,     0.78278,     0.78378,     0.78478,     0.78579,     0.78679,     0.78779,     0.78879,     0.78979,     0.79079,     0.79179,\n",
              "           0.79279,     0.79379,     0.79479,      0.7958,      0.7968,      0.7978,      0.7988,      0.7998,      0.8008,      0.8018,      0.8028,      0.8038,      0.8048,     0.80581,     0.80681,     0.80781,     0.80881,     0.80981,     0.81081,     0.81181,     0.81281,     0.81381,     0.81481,     0.81582,\n",
              "           0.81682,     0.81782,     0.81882,     0.81982,     0.82082,     0.82182,     0.82282,     0.82382,     0.82482,     0.82583,     0.82683,     0.82783,     0.82883,     0.82983,     0.83083,     0.83183,     0.83283,     0.83383,     0.83483,     0.83584,     0.83684,     0.83784,     0.83884,     0.83984,\n",
              "           0.84084,     0.84184,     0.84284,     0.84384,     0.84484,     0.84585,     0.84685,     0.84785,     0.84885,     0.84985,     0.85085,     0.85185,     0.85285,     0.85385,     0.85485,     0.85586,     0.85686,     0.85786,     0.85886,     0.85986,     0.86086,     0.86186,     0.86286,     0.86386,\n",
              "           0.86486,     0.86587,     0.86687,     0.86787,     0.86887,     0.86987,     0.87087,     0.87187,     0.87287,     0.87387,     0.87487,     0.87588,     0.87688,     0.87788,     0.87888,     0.87988,     0.88088,     0.88188,     0.88288,     0.88388,     0.88488,     0.88589,     0.88689,     0.88789,\n",
              "           0.88889,     0.88989,     0.89089,     0.89189,     0.89289,     0.89389,     0.89489,      0.8959,      0.8969,      0.8979,      0.8989,      0.8999,      0.9009,      0.9019,      0.9029,      0.9039,      0.9049,     0.90591,     0.90691,     0.90791,     0.90891,     0.90991,     0.91091,     0.91191,\n",
              "           0.91291,     0.91391,     0.91491,     0.91592,     0.91692,     0.91792,     0.91892,     0.91992,     0.92092,     0.92192,     0.92292,     0.92392,     0.92492,     0.92593,     0.92693,     0.92793,     0.92893,     0.92993,     0.93093,     0.93193,     0.93293,     0.93393,     0.93493,     0.93594,\n",
              "           0.93694,     0.93794,     0.93894,     0.93994,     0.94094,     0.94194,     0.94294,     0.94394,     0.94494,     0.94595,     0.94695,     0.94795,     0.94895,     0.94995,     0.95095,     0.95195,     0.95295,     0.95395,     0.95495,     0.95596,     0.95696,     0.95796,     0.95896,     0.95996,\n",
              "           0.96096,     0.96196,     0.96296,     0.96396,     0.96496,     0.96597,     0.96697,     0.96797,     0.96897,     0.96997,     0.97097,     0.97197,     0.97297,     0.97397,     0.97497,     0.97598,     0.97698,     0.97798,     0.97898,     0.97998,     0.98098,     0.98198,     0.98298,     0.98398,\n",
              "           0.98498,     0.98599,     0.98699,     0.98799,     0.98899,     0.98999,     0.99099,     0.99199,     0.99299,     0.99399,     0.99499,       0.996,       0.997,       0.998,       0.999,           1]), array([[          0,           0,           0, ...,           0,           0,           0],\n",
              "       [          1,           1,           1, ...,           0,           0,           0],\n",
              "       [          1,           1,           1, ...,           0,           0,           0],\n",
              "       ...,\n",
              "       [          1,           1,           1, ...,           0,           0,           0],\n",
              "       [    0.96552,     0.96552,     0.96552, ...,           0,           0,           0],\n",
              "       [          1,           1,           1, ...,           0,           0,           0]]), 'Confidence', 'Recall']]\n",
              "fitness: 0.7493627392196056\n",
              "keys: ['metrics/precision(B)', 'metrics/recall(B)', 'metrics/mAP50(B)', 'metrics/mAP50-95(B)']\n",
              "maps: array([          0,     0.64487,     0.90686,      0.8085,     0.79464,     0.73323,    0.046446,     0.81514,     0.77717,     0.73261,     0.98909,     0.88275,     0.80761,     0.79815,      0.6448,     0.82545,     0.79263,      0.9096,     0.72549,     0.76161,     0.82611,     0.75666,     0.61987,    0.015178,\n",
              "           0.58847,     0.64874,     0.87251,     0.71065,     0.73323,     0.83338,     0.90656,     0.72325,     0.89497,     0.88763,     0.96246,     0.81698,     0.91722,     0.82518,     0.74705,     0.78752,     0.78418,     0.53753,      0.5088,     0.70551,     0.79304,     0.79529,     0.59679,     0.71164,\n",
              "           0.81999,     0.79679,     0.82236,     0.78562])\n",
              "names: {0: 'Complan Classic Creme', 1: 'Complan Kesar Badam', 2: 'Complan Nutrigro Badam Kheer', 3: 'Complan Pista Badam', 4: 'Complan Royal Chocolate', 5: 'Complan Royale Chocolate', 6: 'EY AAAM TULSI TURMERIC FACEWASH50G', 7: 'EY ADVANCED GOLDEN GLOW PEEL OFF M- 50G', 8: 'EY ADVANCED GOLDEN GLOW PEEL OFF M- 90G', 9: 'EY EXF WALNUT SCRUB AYR 200G', 10: 'EY HALDICHANDAN FP HF POWDER 25G', 11: 'EY HYD-EXF WALNT APR SCRUB AYR100G', 12: 'EY HYDR - EXF WALNUT APRICOT SCRUB 50G', 13: 'EY NAT GLOW ORANGE PEEL OFF AY 90G', 14: 'EY NATURALS NEEM FACE WASH AY 50G', 15: 'EY RJ CUCUMBER ALOEVERA FACEPAK50G', 16: 'EY TAN CHOCO CHERRY PACK 50G', 17: 'EY_SCR_PURIFYING_EXFOLTNG_NEEM_PAPAYA_50G', 18: 'Everyuth Naturals Body Lotion Nourishing Cocoa 200ml', 19: 'Everyuth Naturals Body Lotion Rejuvenating Flora 200ml', 20: 'Everyuth Naturals Body Lotion Soothing Citrus 200ml', 21: 'Everyuth Naturals Body Lotion Sun Care Berries SPF 15 200ml', 22: 'Glucon D Nimbu Pani', 23: 'Glucon D Nimbu Pani 1-KG', 24: 'Glucon D Regular', 25: 'Glucon D Regular 1-KG', 26: 'Glucon D Regular 2-KG', 27: 'Glucon D Tangy orange', 28: 'Glucon D Tangy orange 1-KG', 29: 'Nutralite ACHARI MAYO 300g-275g-25g-', 30: 'Nutralite ACHARI MAYO 30g', 31: 'Nutralite CHEESY GARLIC MAYO 300g-275g-25g-', 32: 'Nutralite CHEESY GARLIC MAYO 30g', 33: 'Nutralite CHOCO SPREAD CALCIUM 275g', 34: 'Nutralite DOODHSHAKTHI PURE GHEE 1L', 35: 'Nutralite TANDOORI MAYO 300g-275g-25g-', 36: 'Nutralite TANDOORI MAYO 30g', 37: 'Nutralite VEG MAYO 300g-275g-25g-', 38: 'Nycil Prickly Heat Powder', 39: 'SUGAR FREE GOLD 500 PELLET', 40: 'SUGAR FREE GOLD POWDER 100GM', 41: 'SUGAR FREE GOLD SACHET 50', 42: 'SUGAR FREE GOLD SACHET 50 SUGAR FREE GOLD SACHET 50', 43: 'SUGAR FREE GRN 300 PELLET', 44: 'SUGAR FREE NATURA 500 PELLET', 45: 'SUGAR FREE NATURA DIET SUGAR', 46: 'SUGAR FREE NATURA DIET SUGAR 80GM', 47: 'SUGAR FREE NATURA SACHET 50', 48: 'SUGAR FREE NATURA SWEET DROPS', 49: 'SUGAR FREE NATURA_ POWDER_CONC_100G', 50: 'SUGAR FREE_GRN_ POWDER_CONC_100G', 51: 'SUGARLITE POUCH 500G'}\n",
              "plot: True\n",
              "results_dict: {'metrics/precision(B)': 0.8650567806764259, 'metrics/recall(B)': 0.912481630408577, 'metrics/mAP50(B)': 0.8945831993704683, 'metrics/mAP50-95(B)': 0.7332271325361763, 'fitness': 0.7493627392196056}\n",
              "save_dir: PosixPath('YOLOv8/yolov8s_experiment3')\n",
              "speed: {'preprocess': 0.14131245019415087, 'inference': 2.1331930425221914, 'loss': 0.0012353901632431478, 'postprocess': 2.213124336466536}\n",
              "task: 'detect'"
            ]
          },
          "metadata": {},
          "execution_count": 9
        }
      ],
      "source": [
        "model = YOLO('/content/drive/My Drive/Dataset/YOLO/last_interrupt.pt')\n",
        "\n",
        "# Resume training for 5 more epochs\n",
        "model.train(\n",
        "    data=\"/content/drive/My Drive/Dataset/drivedata.yaml\",  # Path to your dataset config\n",
        "    epochs=10,   # Continue training for 5 more epochs\n",
        "    batch=16,\n",
        "    imgsz=416,\n",
        "    resume=True,  # This ensures it resumes from the last checkpoint\n",
        "    project='YOLOv8',\n",
        "    name='yolov8s_experiment',\n",
        "    save=True\n",
        ")"
      ]
    },
    {
      "cell_type": "code",
      "execution_count": null,
      "metadata": {
        "id": "BBPgdqGxTVKr",
        "colab": {
          "base_uri": "https://localhost:8080/"
        },
        "outputId": "13a2d827-7262-46d9-ee74-8b9b19c59f56"
      },
      "outputs": [
        {
          "output_type": "stream",
          "name": "stdout",
          "text": [
            "Ultralytics 8.3.10 🚀 Python-3.10.12 torch-2.4.1+cu121 CUDA:0 (Tesla T4, 15102MiB)\n",
            "\u001b[34m\u001b[1mengine/trainer: \u001b[0mtask=detect, mode=train, model=/content/drive/My Drive/Dataset/YOLO/last_interrupt.pt, data=/content/drive/My Drive/Dataset/drivedata.yaml, epochs=5, time=None, patience=100, batch=16, imgsz=416, save=True, save_period=-1, cache=False, device=0, workers=8, project=YOLOv8, name=yolov8s_experiment, exist_ok=False, pretrained=True, optimizer=auto, verbose=True, seed=0, deterministic=True, single_cls=False, rect=False, cos_lr=False, close_mosaic=10, resume=False, amp=True, fraction=1.0, profile=False, freeze=None, multi_scale=False, overlap_mask=True, mask_ratio=4, dropout=0.0, val=True, split=val, save_json=False, save_hybrid=False, conf=None, iou=0.7, max_det=300, half=False, dnn=False, plots=True, source=None, vid_stride=1, stream_buffer=False, visualize=False, augment=False, agnostic_nms=False, classes=None, retina_masks=False, embed=None, show=False, save_frames=False, save_txt=False, save_conf=False, save_crop=False, show_labels=True, show_conf=True, show_boxes=True, line_width=None, format=torchscript, keras=False, optimize=False, int8=False, dynamic=False, simplify=True, opset=None, workspace=4, nms=False, lr0=0.01, lrf=0.01, momentum=0.937, weight_decay=0.0005, warmup_epochs=3.0, warmup_momentum=0.8, warmup_bias_lr=0.1, box=7.5, cls=0.5, dfl=1.5, pose=12.0, kobj=1.0, label_smoothing=0.0, nbs=64, hsv_h=0.015, hsv_s=0.7, hsv_v=0.4, degrees=0.0, translate=0.1, scale=0.5, shear=0.0, perspective=0.0, flipud=0.0, fliplr=0.5, bgr=0.0, mosaic=1.0, mixup=0.0, copy_paste=0.0, copy_paste_mode=flip, auto_augment=randaugment, erasing=0.4, crop_fraction=1.0, cfg=None, tracker=botsort.yaml, save_dir=YOLOv8/yolov8s_experiment\n",
            "\n",
            "                   from  n    params  module                                       arguments                     \n",
            "  0                  -1  1       928  ultralytics.nn.modules.conv.Conv             [3, 32, 3, 2]                 \n",
            "  1                  -1  1     18560  ultralytics.nn.modules.conv.Conv             [32, 64, 3, 2]                \n",
            "  2                  -1  1     29056  ultralytics.nn.modules.block.C2f             [64, 64, 1, True]             \n",
            "  3                  -1  1     73984  ultralytics.nn.modules.conv.Conv             [64, 128, 3, 2]               \n",
            "  4                  -1  2    197632  ultralytics.nn.modules.block.C2f             [128, 128, 2, True]           \n",
            "  5                  -1  1    295424  ultralytics.nn.modules.conv.Conv             [128, 256, 3, 2]              \n",
            "  6                  -1  2    788480  ultralytics.nn.modules.block.C2f             [256, 256, 2, True]           \n",
            "  7                  -1  1   1180672  ultralytics.nn.modules.conv.Conv             [256, 512, 3, 2]              \n",
            "  8                  -1  1   1838080  ultralytics.nn.modules.block.C2f             [512, 512, 1, True]           \n",
            "  9                  -1  1    656896  ultralytics.nn.modules.block.SPPF            [512, 512, 5]                 \n",
            " 10                  -1  1         0  torch.nn.modules.upsampling.Upsample         [None, 2, 'nearest']          \n",
            " 11             [-1, 6]  1         0  ultralytics.nn.modules.conv.Concat           [1]                           \n",
            " 12                  -1  1    591360  ultralytics.nn.modules.block.C2f             [768, 256, 1]                 \n",
            " 13                  -1  1         0  torch.nn.modules.upsampling.Upsample         [None, 2, 'nearest']          \n",
            " 14             [-1, 4]  1         0  ultralytics.nn.modules.conv.Concat           [1]                           \n",
            " 15                  -1  1    148224  ultralytics.nn.modules.block.C2f             [384, 128, 1]                 \n",
            " 16                  -1  1    147712  ultralytics.nn.modules.conv.Conv             [128, 128, 3, 2]              \n",
            " 17            [-1, 12]  1         0  ultralytics.nn.modules.conv.Concat           [1]                           \n",
            " 18                  -1  1    493056  ultralytics.nn.modules.block.C2f             [384, 256, 1]                 \n",
            " 19                  -1  1    590336  ultralytics.nn.modules.conv.Conv             [256, 256, 3, 2]              \n",
            " 20             [-1, 9]  1         0  ultralytics.nn.modules.conv.Concat           [1]                           \n",
            " 21                  -1  1   1969152  ultralytics.nn.modules.block.C2f             [768, 512, 1]                 \n",
            " 22        [15, 18, 21]  1    839532  ultralytics.nn.modules.head.Detect           [52, [128, 256, 512]]         \n",
            "Model summary: 249 layers, 9,859,084 parameters, 9,859,068 gradients, 23.7 GFLOPs\n",
            "\n",
            "Transferred 391/391 items from pretrained weights\n",
            "\u001b[34m\u001b[1mTensorBoard: \u001b[0mStart with 'tensorboard --logdir YOLOv8/yolov8s_experiment', view at http://localhost:6006/\n",
            "Freezing layer 'model.22.dfl.conv.weight'\n",
            "\u001b[34m\u001b[1mAMP: \u001b[0mrunning Automatic Mixed Precision (AMP) checks with YOLO11n...\n",
            "\u001b[34m\u001b[1mAMP: \u001b[0mchecks passed ✅\n"
          ]
        },
        {
          "output_type": "stream",
          "name": "stderr",
          "text": [
            "\u001b[34m\u001b[1mtrain: \u001b[0mScanning /content/drive/My Drive/Dataset/train/labels.cache... 7943 images, 0 backgrounds, 0 corrupt: 100%|██████████| 7943/7943 [00:00<?, ?it/s]"
          ]
        },
        {
          "output_type": "stream",
          "name": "stdout",
          "text": [
            "WARNING ⚠️ Box and segment counts should be equal, but got len(segments) = 11, len(boxes) = 24227. To resolve this only boxes will be used and all segments will be removed. To avoid this please supply either a detect or segment dataset, not a detect-segment mixed dataset.\n"
          ]
        },
        {
          "output_type": "stream",
          "name": "stderr",
          "text": [
            "\n"
          ]
        },
        {
          "output_type": "stream",
          "name": "stdout",
          "text": [
            "\u001b[34m\u001b[1malbumentations: \u001b[0mBlur(p=0.01, blur_limit=(3, 7)), MedianBlur(p=0.01, blur_limit=(3, 7)), ToGray(p=0.01, num_output_channels=3, method='weighted_average'), CLAHE(p=0.01, clip_limit=(1, 4.0), tile_grid_size=(8, 8))\n"
          ]
        },
        {
          "output_type": "stream",
          "name": "stderr",
          "text": [
            "/usr/local/lib/python3.10/dist-packages/albumentations/__init__.py:13: UserWarning: A new version of Albumentations is available: 1.4.18 (you have 1.4.15). Upgrade using: pip install -U albumentations. To disable automatic update checks, set the environment variable NO_ALBUMENTATIONS_UPDATE to 1.\n",
            "  check_for_updates()\n",
            "\u001b[34m\u001b[1mval: \u001b[0mScanning /content/drive/My Drive/Dataset/valid/labels.cache... 1261 images, 0 backgrounds, 0 corrupt: 100%|██████████| 1261/1261 [00:00<?, ?it/s]\n"
          ]
        },
        {
          "output_type": "stream",
          "name": "stdout",
          "text": [
            "Plotting labels to YOLOv8/yolov8s_experiment/labels.jpg... \n",
            "\u001b[34m\u001b[1moptimizer:\u001b[0m 'optimizer=auto' found, ignoring 'lr0=0.01' and 'momentum=0.937' and determining best 'optimizer', 'lr0' and 'momentum' automatically... \n",
            "\u001b[34m\u001b[1moptimizer:\u001b[0m AdamW(lr=0.000179, momentum=0.9) with parameter groups 63 weight(decay=0.0), 70 weight(decay=0.0005), 69 bias(decay=0.0)\n",
            "\u001b[34m\u001b[1mTensorBoard: \u001b[0mmodel graph visualization added ✅\n",
            "Image sizes 416 train, 416 val\n",
            "Using 2 dataloader workers\n",
            "Logging results to \u001b[1mYOLOv8/yolov8s_experiment\u001b[0m\n",
            "Starting training for 5 epochs...\n",
            "\n",
            "      Epoch    GPU_mem   box_loss   cls_loss   dfl_loss  Instances       Size\n"
          ]
        },
        {
          "output_type": "stream",
          "name": "stderr",
          "text": [
            "        1/5      2.04G     0.9632      2.362       1.02         21        416: 100%|██████████| 497/497 [1:01:45<00:00,  7.46s/it]\n",
            "                 Class     Images  Instances      Box(P          R      mAP50  mAP50-95): 100%|██████████| 40/40 [00:23<00:00,  1.68it/s]\n"
          ]
        },
        {
          "output_type": "stream",
          "name": "stdout",
          "text": [
            "                   all       1261       3261       0.74      0.566      0.603      0.484\n",
            "\n",
            "      Epoch    GPU_mem   box_loss   cls_loss   dfl_loss  Instances       Size\n"
          ]
        },
        {
          "output_type": "stream",
          "name": "stderr",
          "text": [
            "        2/5      1.99G     0.8943      1.592     0.9997         22        416: 100%|██████████| 497/497 [02:09<00:00,  3.84it/s]\n",
            "                 Class     Images  Instances      Box(P          R      mAP50  mAP50-95): 100%|██████████| 40/40 [00:13<00:00,  2.98it/s]"
          ]
        },
        {
          "output_type": "stream",
          "name": "stdout",
          "text": [
            "                   all       1261       3261      0.763      0.697      0.755      0.604\n"
          ]
        },
        {
          "output_type": "stream",
          "name": "stderr",
          "text": [
            "\n"
          ]
        },
        {
          "output_type": "stream",
          "name": "stdout",
          "text": [
            "\n",
            "      Epoch    GPU_mem   box_loss   cls_loss   dfl_loss  Instances       Size\n"
          ]
        },
        {
          "output_type": "stream",
          "name": "stderr",
          "text": [
            "        3/5      1.99G       0.84      1.208     0.9793         36        416: 100%|██████████| 497/497 [02:08<00:00,  3.87it/s]\n",
            "                 Class     Images  Instances      Box(P          R      mAP50  mAP50-95): 100%|██████████| 40/40 [00:10<00:00,  3.82it/s]\n"
          ]
        },
        {
          "output_type": "stream",
          "name": "stdout",
          "text": [
            "                   all       1261       3261      0.813      0.787      0.852      0.676\n",
            "\n",
            "      Epoch    GPU_mem   box_loss   cls_loss   dfl_loss  Instances       Size\n"
          ]
        },
        {
          "output_type": "stream",
          "name": "stderr",
          "text": [
            "        4/5      1.99G     0.8099      1.034     0.9663         43        416: 100%|██████████| 497/497 [02:03<00:00,  4.03it/s]\n",
            "                 Class     Images  Instances      Box(P          R      mAP50  mAP50-95): 100%|██████████| 40/40 [00:14<00:00,  2.86it/s]\n"
          ]
        },
        {
          "output_type": "stream",
          "name": "stdout",
          "text": [
            "                   all       1261       3261      0.785      0.857      0.858      0.673\n",
            "\n",
            "      Epoch    GPU_mem   box_loss   cls_loss   dfl_loss  Instances       Size\n"
          ]
        },
        {
          "output_type": "stream",
          "name": "stderr",
          "text": [
            "        5/5      1.94G     0.7754     0.9093     0.9564         13        416: 100%|██████████| 497/497 [02:03<00:00,  4.03it/s]\n",
            "                 Class     Images  Instances      Box(P          R      mAP50  mAP50-95): 100%|██████████| 40/40 [00:13<00:00,  3.03it/s]\n"
          ]
        },
        {
          "output_type": "stream",
          "name": "stdout",
          "text": [
            "                   all       1261       3261      0.814      0.867      0.874      0.702\n",
            "\n",
            "5 epochs completed in 1.194 hours.\n",
            "Optimizer stripped from YOLOv8/yolov8s_experiment/weights/last.pt, 19.9MB\n",
            "Optimizer stripped from YOLOv8/yolov8s_experiment/weights/best.pt, 19.9MB\n",
            "\n",
            "Validating YOLOv8/yolov8s_experiment/weights/best.pt...\n",
            "Ultralytics 8.3.10 🚀 Python-3.10.12 torch-2.4.1+cu121 CUDA:0 (Tesla T4, 15102MiB)\n",
            "Model summary (fused): 186 layers, 9,847,788 parameters, 0 gradients, 23.5 GFLOPs\n"
          ]
        },
        {
          "output_type": "stream",
          "name": "stderr",
          "text": [
            "                 Class     Images  Instances      Box(P          R      mAP50  mAP50-95): 100%|██████████| 40/40 [00:16<00:00,  2.40it/s]\n"
          ]
        },
        {
          "output_type": "stream",
          "name": "stdout",
          "text": [
            "                   all       1261       3261      0.815      0.865      0.874      0.701\n",
            " Complan Classic Creme         36         36          0          0          0          0\n",
            "   Complan Kesar Badam         61         90      0.655          1      0.711      0.617\n",
            "Complan Nutrigro Badam Kheer         17         17      0.981          1      0.995      0.854\n",
            "   Complan Pista Badam          9          9      0.949          1      0.995      0.795\n",
            "Complan Royal Chocolate         32         65      0.877      0.874      0.934      0.774\n",
            "EY AAAM TULSI TURMERIC FACEWASH50G        160        163      0.606     0.0368     0.0394     0.0317\n",
            "EY ADVANCED GOLDEN GLOW PEEL OFF M- 50G         12         12      0.676          1      0.968      0.734\n",
            "EY ADVANCED GOLDEN GLOW PEEL OFF M- 90G         13         13      0.955          1      0.995      0.807\n",
            "EY EXF WALNUT SCRUB AYR 200G         22         27      0.916      0.926      0.975      0.743\n",
            "EY HALDICHANDAN FP HF POWDER 25G         13         13      0.969          1      0.995      0.956\n",
            "EY HYD-EXF WALNT APR SCRUB AYR100G         14         15          1      0.921      0.964       0.85\n",
            "EY HYDR - EXF WALNUT APRICOT SCRUB 50G          3          3      0.624      0.333      0.434      0.379\n",
            "EY NAT GLOW ORANGE PEEL OFF AY 90G         25         35      0.876          1      0.986      0.763\n",
            "EY NATURALS NEEM FACE WASH AY 50G         24         59      0.649      0.983      0.962      0.589\n",
            "EY RJ CUCUMBER ALOEVERA FACEPAK50G         19         19      0.814      0.789      0.926      0.803\n",
            "EY TAN CHOCO CHERRY PACK 50G         16         16      0.955      0.812      0.819      0.726\n",
            "EY_SCR_PURIFYING_EXFOLTNG_NEEM_PAPAYA_50G         11         11      0.755          1      0.995      0.909\n",
            "Everyuth Naturals Body Lotion Nourishing Cocoa 200ml         55         89       0.89      0.906      0.972      0.709\n",
            "Everyuth Naturals Body Lotion Rejuvenating Flora 200ml         67         84      0.988      0.986      0.995      0.705\n",
            "Everyuth Naturals Body Lotion Soothing Citrus 200ml         58         58      0.891      0.847      0.964      0.771\n",
            "Everyuth Naturals Body Lotion Sun Care Berries SPF 15 200ml         67         80      0.918      0.986      0.984      0.738\n",
            "   Glucon D Nimbu Pani         79        250      0.953      0.648      0.869      0.584\n",
            "Glucon D Nimbu Pani 1-KG          1          1     0.0134          1     0.0203     0.0183\n",
            "      Glucon D Regular         71        323      0.919      0.636      0.873      0.577\n",
            " Glucon D Regular 1-KG         18         21      0.227      0.905      0.797      0.696\n",
            " Glucon D Regular 2-KG         17         17      0.599      0.941      0.953      0.867\n",
            " Glucon D Tangy orange         92        208      0.955      0.659      0.963      0.696\n",
            "Nutralite ACHARI MAYO 300g-275g-25g-         34         50      0.727          1      0.954      0.805\n",
            "Nutralite ACHARI MAYO 30g         14         14      0.968          1      0.995      0.904\n",
            "Nutralite CHEESY GARLIC MAYO 300g-275g-25g-         36         51      0.688      0.725      0.692      0.549\n",
            "Nutralite CHEESY GARLIC MAYO 30g         13         13      0.971          1      0.995      0.867\n",
            "Nutralite CHOCO SPREAD CALCIUM 275g         27         27      0.975          1      0.995      0.851\n",
            "Nutralite DOODHSHAKTHI PURE GHEE 1L         14         14      0.969          1      0.995      0.937\n",
            "Nutralite TANDOORI MAYO 300g-275g-25g-         36         54       0.92          1      0.968       0.78\n",
            "Nutralite TANDOORI MAYO 30g         15         15      0.972          1      0.995      0.889\n",
            "Nutralite VEG MAYO 300g-275g-25g-         30         36      0.988          1      0.995      0.818\n",
            "Nycil Prickly Heat Powder         39        123       0.83      0.754      0.925      0.703\n",
            "SUGAR FREE GOLD 500 PELLET         48         79      0.971          1      0.995      0.744\n",
            "SUGAR FREE GOLD POWDER 100GM         49         65      0.871      0.933      0.972      0.732\n",
            "SUGAR FREE GOLD SACHET 50         13         22      0.521      0.727      0.769      0.502\n",
            "SUGAR FREE GOLD SACHET 50 SUGAR FREE GOLD SACHET 50          6          6      0.461      0.575      0.695      0.612\n",
            "SUGAR FREE GRN 300 PELLET         31         37       0.92          1      0.995      0.688\n",
            "SUGAR FREE NATURA 500 PELLET        103        151       0.94       0.98      0.993      0.765\n",
            "SUGAR FREE NATURA DIET SUGAR         42         58      0.982      0.966      0.994      0.747\n",
            "SUGAR FREE NATURA DIET SUGAR 80GM          4          4      0.769      0.846      0.945      0.736\n",
            "SUGAR FREE NATURA SACHET 50         41         65      0.997      0.877      0.878      0.676\n",
            "SUGAR FREE NATURA SWEET DROPS         36         36      0.821      0.917      0.955      0.747\n",
            "SUGAR FREE NATURA_ POWDER_CONC_100G         27         30       0.96      0.804      0.976      0.748\n",
            "SUGAR FREE_GRN_ POWDER_CONC_100G         29         29      0.944      0.966      0.965       0.81\n",
            "  SUGARLITE POUCH 500G        193        548      0.956          1      0.984      0.769\n",
            "Speed: 0.1ms preprocess, 2.1ms inference, 0.0ms loss, 2.3ms postprocess per image\n",
            "Results saved to \u001b[1mYOLOv8/yolov8s_experiment\u001b[0m\n"
          ]
        }
      ],
      "source": [
        "model = YOLO('/content/drive/My Drive/Dataset/YOLO/last_interrupt.pt')\n",
        "\n",
        "# Resume training for 5 more epochs\n",
        "try:\n",
        "  model.train(\n",
        "      data=\"/content/drive/My Drive/Dataset/drivedata.yaml\",  # Path to your dataset config\n",
        "      epochs=5,   # Continue training for 5 more epochs\n",
        "      batch=16,\n",
        "      imgsz=416,\n",
        "      device=0,\n",
        "      #resume=True,  # This ensures it resumes from the last checkpoint\n",
        "      project='YOLOv8',\n",
        "      name='yolov8s_experiment',\n",
        "      save=True\n",
        ")\n",
        "except KeyboardInterrupt:\n",
        "    model.save('YOLOv8/yolov8s_experiment/weights/last_interrupt.pt')\n",
        "    print(\"Training interrupted, model saved.\")"
      ]
    },
    {
      "cell_type": "code",
      "execution_count": null,
      "metadata": {
        "id": "6xoQFj5sYDKO"
      },
      "outputs": [],
      "source": [
        "  model.save('/content/drive/My Drive/Dataset/YOLO/model_1.pt')"
      ]
    },
    {
      "cell_type": "code",
      "source": [
        "model = YOLO('/content/drive/My Drive/Dataset/YOLO/model_1.pt')\n",
        "\n",
        "# Resume training for 5 more epochs\n",
        "try:\n",
        "  model.train(\n",
        "      data=\"/content/drive/My Drive/Dataset/drivedata.yaml\",  # Path to your dataset config\n",
        "      epochs=5,   # Continue training for 5 more epochs\n",
        "      batch=16,\n",
        "      imgsz=416,\n",
        "      device=0,\n",
        "      #resume=True,  # This ensures it resumes from the last checkpoint\n",
        "      project='YOLOv8',\n",
        "      name='yolov8s_experiment',\n",
        "      save=True\n",
        ")\n",
        "except KeyboardInterrupt:\n",
        "    model.save('/content/drive/My Drive/Dataset/YOLO/model_2.pt')\n",
        "    print(\"Training interrupted, model saved.\")"
      ],
      "metadata": {
        "id": "BW5uY2Lm1ULv",
        "colab": {
          "base_uri": "https://localhost:8080/"
        },
        "outputId": "aa0965f4-3d71-4d89-d2e5-b8798bfcb979"
      },
      "execution_count": null,
      "outputs": [
        {
          "output_type": "stream",
          "name": "stdout",
          "text": [
            "Ultralytics 8.3.12 🚀 Python-3.10.12 torch-2.4.1+cu121 CUDA:0 (Tesla T4, 15102MiB)\n",
            "\u001b[34m\u001b[1mengine/trainer: \u001b[0mtask=detect, mode=train, model=/content/drive/My Drive/Dataset/YOLO/model_1.pt, data=/content/drive/My Drive/Dataset/drivedata.yaml, epochs=5, time=None, patience=100, batch=16, imgsz=416, save=True, save_period=-1, cache=False, device=0, workers=8, project=YOLOv8, name=yolov8s_experiment, exist_ok=False, pretrained=True, optimizer=auto, verbose=True, seed=0, deterministic=True, single_cls=False, rect=False, cos_lr=False, close_mosaic=10, resume=False, amp=True, fraction=1.0, profile=False, freeze=None, multi_scale=False, overlap_mask=True, mask_ratio=4, dropout=0.0, val=True, split=val, save_json=False, save_hybrid=False, conf=None, iou=0.7, max_det=300, half=False, dnn=False, plots=True, source=None, vid_stride=1, stream_buffer=False, visualize=False, augment=False, agnostic_nms=False, classes=None, retina_masks=False, embed=None, show=False, save_frames=False, save_txt=False, save_conf=False, save_crop=False, show_labels=True, show_conf=True, show_boxes=True, line_width=None, format=torchscript, keras=False, optimize=False, int8=False, dynamic=False, simplify=True, opset=None, workspace=4, nms=False, lr0=0.01, lrf=0.01, momentum=0.937, weight_decay=0.0005, warmup_epochs=3.0, warmup_momentum=0.8, warmup_bias_lr=0.1, box=7.5, cls=0.5, dfl=1.5, pose=12.0, kobj=1.0, label_smoothing=0.0, nbs=64, hsv_h=0.015, hsv_s=0.7, hsv_v=0.4, degrees=0.0, translate=0.1, scale=0.5, shear=0.0, perspective=0.0, flipud=0.0, fliplr=0.5, bgr=0.0, mosaic=1.0, mixup=0.0, copy_paste=0.0, copy_paste_mode=flip, auto_augment=randaugment, erasing=0.4, crop_fraction=1.0, cfg=None, tracker=botsort.yaml, save_dir=YOLOv8/yolov8s_experiment\n",
            "Downloading https://ultralytics.com/assets/Arial.ttf to '/root/.config/Ultralytics/Arial.ttf'...\n"
          ]
        },
        {
          "output_type": "stream",
          "name": "stderr",
          "text": [
            "100%|██████████| 755k/755k [00:00<00:00, 28.1MB/s]\n"
          ]
        },
        {
          "output_type": "stream",
          "name": "stdout",
          "text": [
            "\n",
            "                   from  n    params  module                                       arguments                     \n",
            "  0                  -1  1       928  ultralytics.nn.modules.conv.Conv             [3, 32, 3, 2]                 \n",
            "  1                  -1  1     18560  ultralytics.nn.modules.conv.Conv             [32, 64, 3, 2]                \n",
            "  2                  -1  1     29056  ultralytics.nn.modules.block.C2f             [64, 64, 1, True]             \n",
            "  3                  -1  1     73984  ultralytics.nn.modules.conv.Conv             [64, 128, 3, 2]               \n",
            "  4                  -1  2    197632  ultralytics.nn.modules.block.C2f             [128, 128, 2, True]           \n",
            "  5                  -1  1    295424  ultralytics.nn.modules.conv.Conv             [128, 256, 3, 2]              \n",
            "  6                  -1  2    788480  ultralytics.nn.modules.block.C2f             [256, 256, 2, True]           \n",
            "  7                  -1  1   1180672  ultralytics.nn.modules.conv.Conv             [256, 512, 3, 2]              \n",
            "  8                  -1  1   1838080  ultralytics.nn.modules.block.C2f             [512, 512, 1, True]           \n",
            "  9                  -1  1    656896  ultralytics.nn.modules.block.SPPF            [512, 512, 5]                 \n",
            " 10                  -1  1         0  torch.nn.modules.upsampling.Upsample         [None, 2, 'nearest']          \n",
            " 11             [-1, 6]  1         0  ultralytics.nn.modules.conv.Concat           [1]                           \n",
            " 12                  -1  1    591360  ultralytics.nn.modules.block.C2f             [768, 256, 1]                 \n",
            " 13                  -1  1         0  torch.nn.modules.upsampling.Upsample         [None, 2, 'nearest']          \n",
            " 14             [-1, 4]  1         0  ultralytics.nn.modules.conv.Concat           [1]                           \n",
            " 15                  -1  1    148224  ultralytics.nn.modules.block.C2f             [384, 128, 1]                 \n",
            " 16                  -1  1    147712  ultralytics.nn.modules.conv.Conv             [128, 128, 3, 2]              \n",
            " 17            [-1, 12]  1         0  ultralytics.nn.modules.conv.Concat           [1]                           \n",
            " 18                  -1  1    493056  ultralytics.nn.modules.block.C2f             [384, 256, 1]                 \n",
            " 19                  -1  1    590336  ultralytics.nn.modules.conv.Conv             [256, 256, 3, 2]              \n",
            " 20             [-1, 9]  1         0  ultralytics.nn.modules.conv.Concat           [1]                           \n",
            " 21                  -1  1   1969152  ultralytics.nn.modules.block.C2f             [768, 512, 1]                 \n",
            " 22        [15, 18, 21]  1    839532  ultralytics.nn.modules.head.Detect           [52, [128, 256, 512]]         \n",
            "Model summary: 249 layers, 9,859,084 parameters, 9,859,068 gradients, 23.7 GFLOPs\n",
            "\n",
            "Transferred 391/391 items from pretrained weights\n",
            "\u001b[34m\u001b[1mTensorBoard: \u001b[0mStart with 'tensorboard --logdir YOLOv8/yolov8s_experiment', view at http://localhost:6006/\n",
            "Freezing layer 'model.22.dfl.conv.weight'\n",
            "\u001b[34m\u001b[1mAMP: \u001b[0mrunning Automatic Mixed Precision (AMP) checks with YOLO11n...\n",
            "Downloading https://github.com/ultralytics/assets/releases/download/v8.3.0/yolo11n.pt to 'yolo11n.pt'...\n"
          ]
        },
        {
          "output_type": "stream",
          "name": "stderr",
          "text": [
            "100%|██████████| 5.35M/5.35M [00:00<00:00, 100MB/s]\n"
          ]
        },
        {
          "output_type": "stream",
          "name": "stdout",
          "text": [
            "\u001b[34m\u001b[1mAMP: \u001b[0mchecks passed ✅\n"
          ]
        },
        {
          "output_type": "stream",
          "name": "stderr",
          "text": [
            "\u001b[34m\u001b[1mtrain: \u001b[0mScanning /content/drive/My Drive/Dataset/train/labels.cache... 7943 images, 0 backgrounds, 0 corrupt: 100%|██████████| 7943/7943 [00:00<?, ?it/s]"
          ]
        },
        {
          "output_type": "stream",
          "name": "stdout",
          "text": [
            "WARNING ⚠️ Box and segment counts should be equal, but got len(segments) = 11, len(boxes) = 24227. To resolve this only boxes will be used and all segments will be removed. To avoid this please supply either a detect or segment dataset, not a detect-segment mixed dataset.\n"
          ]
        },
        {
          "output_type": "stream",
          "name": "stderr",
          "text": [
            "\n"
          ]
        },
        {
          "output_type": "stream",
          "name": "stdout",
          "text": [
            "\u001b[34m\u001b[1malbumentations: \u001b[0mBlur(p=0.01, blur_limit=(3, 7)), MedianBlur(p=0.01, blur_limit=(3, 7)), ToGray(p=0.01, num_output_channels=3, method='weighted_average'), CLAHE(p=0.01, clip_limit=(1, 4.0), tile_grid_size=(8, 8))\n"
          ]
        },
        {
          "output_type": "stream",
          "name": "stderr",
          "text": [
            "/usr/local/lib/python3.10/dist-packages/albumentations/__init__.py:13: UserWarning: A new version of Albumentations is available: 1.4.18 (you have 1.4.15). Upgrade using: pip install -U albumentations. To disable automatic update checks, set the environment variable NO_ALBUMENTATIONS_UPDATE to 1.\n",
            "  check_for_updates()\n",
            "\u001b[34m\u001b[1mval: \u001b[0mScanning /content/drive/My Drive/Dataset/valid/labels.cache... 1261 images, 0 backgrounds, 0 corrupt: 100%|██████████| 1261/1261 [00:00<?, ?it/s]\n"
          ]
        },
        {
          "output_type": "stream",
          "name": "stdout",
          "text": [
            "Plotting labels to YOLOv8/yolov8s_experiment/labels.jpg... \n",
            "\u001b[34m\u001b[1moptimizer:\u001b[0m 'optimizer=auto' found, ignoring 'lr0=0.01' and 'momentum=0.937' and determining best 'optimizer', 'lr0' and 'momentum' automatically... \n",
            "\u001b[34m\u001b[1moptimizer:\u001b[0m AdamW(lr=0.000179, momentum=0.9) with parameter groups 63 weight(decay=0.0), 70 weight(decay=0.0005), 69 bias(decay=0.0)\n",
            "\u001b[34m\u001b[1mTensorBoard: \u001b[0mmodel graph visualization added ✅\n",
            "Image sizes 416 train, 416 val\n",
            "Using 2 dataloader workers\n",
            "Logging results to \u001b[1mYOLOv8/yolov8s_experiment\u001b[0m\n",
            "Starting training for 5 epochs...\n",
            "\n",
            "      Epoch    GPU_mem   box_loss   cls_loss   dfl_loss  Instances       Size\n"
          ]
        },
        {
          "output_type": "stream",
          "name": "stderr",
          "text": [
            "        1/5      2.04G     0.7649     0.8655     0.9518         21        416: 100%|██████████| 497/497 [25:44<00:00,  3.11s/it]\n",
            "                 Class     Images  Instances      Box(P          R      mAP50  mAP50-95): 100%|██████████| 40/40 [00:15<00:00,  2.62it/s]"
          ]
        },
        {
          "output_type": "stream",
          "name": "stdout",
          "text": [
            "                   all       1261       3261       0.83      0.867      0.875      0.689\n"
          ]
        },
        {
          "output_type": "stream",
          "name": "stderr",
          "text": [
            "\n"
          ]
        },
        {
          "output_type": "stream",
          "name": "stdout",
          "text": [
            "\n",
            "      Epoch    GPU_mem   box_loss   cls_loss   dfl_loss  Instances       Size\n"
          ]
        },
        {
          "output_type": "stream",
          "name": "stderr",
          "text": [
            "        2/5      1.99G     0.7669      0.833      0.953         22        416: 100%|██████████| 497/497 [02:11<00:00,  3.79it/s]\n",
            "                 Class     Images  Instances      Box(P          R      mAP50  mAP50-95): 100%|██████████| 40/40 [00:14<00:00,  2.80it/s]\n"
          ]
        },
        {
          "output_type": "stream",
          "name": "stdout",
          "text": [
            "                   all       1261       3261      0.826      0.878      0.879      0.697\n",
            "\n",
            "      Epoch    GPU_mem   box_loss   cls_loss   dfl_loss  Instances       Size\n"
          ]
        },
        {
          "output_type": "stream",
          "name": "stderr",
          "text": [
            "        3/5      1.99G     0.7561     0.7812     0.9482         36        416: 100%|██████████| 497/497 [02:31<00:00,  3.28it/s]\n",
            "                 Class     Images  Instances      Box(P          R      mAP50  mAP50-95): 100%|██████████| 40/40 [00:11<00:00,  3.59it/s]\n"
          ]
        },
        {
          "output_type": "stream",
          "name": "stdout",
          "text": [
            "                   all       1261       3261      0.861      0.863      0.876      0.691\n",
            "\n",
            "      Epoch    GPU_mem   box_loss   cls_loss   dfl_loss  Instances       Size\n"
          ]
        },
        {
          "output_type": "stream",
          "name": "stderr",
          "text": [
            "        4/5      1.98G     0.7469     0.7463     0.9447         43        416: 100%|██████████| 497/497 [02:05<00:00,  3.97it/s]\n",
            "                 Class     Images  Instances      Box(P          R      mAP50  mAP50-95): 100%|██████████| 40/40 [00:12<00:00,  3.15it/s]\n"
          ]
        },
        {
          "output_type": "stream",
          "name": "stdout",
          "text": [
            "                   all       1261       3261      0.819      0.887      0.882      0.697\n",
            "\n",
            "      Epoch    GPU_mem   box_loss   cls_loss   dfl_loss  Instances       Size\n"
          ]
        },
        {
          "output_type": "stream",
          "name": "stderr",
          "text": [
            "        5/5      1.92G     0.7309     0.6982     0.9414         13        416: 100%|██████████| 497/497 [02:06<00:00,  3.94it/s]\n",
            "                 Class     Images  Instances      Box(P          R      mAP50  mAP50-95): 100%|██████████| 40/40 [00:12<00:00,  3.31it/s]\n"
          ]
        },
        {
          "output_type": "stream",
          "name": "stdout",
          "text": [
            "                   all       1261       3261       0.85      0.881      0.886      0.717\n",
            "\n",
            "5 epochs completed in 0.599 hours.\n",
            "Optimizer stripped from YOLOv8/yolov8s_experiment/weights/last.pt, 19.9MB\n",
            "Optimizer stripped from YOLOv8/yolov8s_experiment/weights/best.pt, 19.9MB\n",
            "\n",
            "Validating YOLOv8/yolov8s_experiment/weights/best.pt...\n",
            "Ultralytics 8.3.12 🚀 Python-3.10.12 torch-2.4.1+cu121 CUDA:0 (Tesla T4, 15102MiB)\n",
            "Model summary (fused): 186 layers, 9,847,788 parameters, 0 gradients, 23.5 GFLOPs\n"
          ]
        },
        {
          "output_type": "stream",
          "name": "stderr",
          "text": [
            "                 Class     Images  Instances      Box(P          R      mAP50  mAP50-95): 100%|██████████| 40/40 [00:14<00:00,  2.79it/s]\n"
          ]
        },
        {
          "output_type": "stream",
          "name": "stdout",
          "text": [
            "                   all       1261       3261      0.851      0.879      0.886      0.715\n",
            " Complan Classic Creme         36         36          0          0          0          0\n",
            "   Complan Kesar Badam         61         90      0.676          1      0.709       0.62\n",
            "Complan Nutrigro Badam Kheer         17         17      0.977          1      0.995      0.844\n",
            "   Complan Pista Badam          9          9      0.954          1      0.995      0.793\n",
            "Complan Royal Chocolate         32         65      0.837      0.946      0.936      0.777\n",
            "EY AAAM TULSI TURMERIC FACEWASH50G        160        163       0.86     0.0368     0.0495       0.04\n",
            "EY ADVANCED GOLDEN GLOW PEEL OFF M- 50G         12         12      0.953          1      0.995      0.782\n",
            "EY ADVANCED GOLDEN GLOW PEEL OFF M- 90G         13         13      0.975          1      0.995      0.813\n",
            "EY EXF WALNUT SCRUB AYR 200G         22         27      0.947      0.963      0.983      0.711\n",
            "EY HALDICHANDAN FP HF POWDER 25G         13         13      0.969          1      0.995      0.985\n",
            "EY HYD-EXF WALNT APR SCRUB AYR100G         14         15      0.848          1      0.987      0.845\n",
            "EY HYDR - EXF WALNUT APRICOT SCRUB 50G          3          3      0.562      0.667      0.723       0.59\n",
            "EY NAT GLOW ORANGE PEEL OFF AY 90G         25         35       0.98          1      0.995      0.802\n",
            "EY NATURALS NEEM FACE WASH AY 50G         24         59      0.902      0.983      0.956      0.575\n",
            "EY RJ CUCUMBER ALOEVERA FACEPAK50G         19         19      0.956          1      0.995      0.836\n",
            "EY TAN CHOCO CHERRY PACK 50G         16         16      0.943      0.812      0.822      0.708\n",
            "EY_SCR_PURIFYING_EXFOLTNG_NEEM_PAPAYA_50G         11         11      0.369          1      0.995      0.923\n",
            "Everyuth Naturals Body Lotion Nourishing Cocoa 200ml         55         89      0.967      0.978      0.988       0.71\n",
            "Everyuth Naturals Body Lotion Rejuvenating Flora 200ml         67         84      0.992      0.988      0.995      0.746\n",
            "Everyuth Naturals Body Lotion Soothing Citrus 200ml         58         58      0.978      0.983      0.994      0.811\n",
            "Everyuth Naturals Body Lotion Sun Care Berries SPF 15 200ml         67         80          1      0.985      0.995      0.741\n",
            "   Glucon D Nimbu Pani         79        250      0.962      0.607      0.882      0.604\n",
            "Glucon D Nimbu Pani 1-KG          1          1     0.0153          1     0.0249     0.0224\n",
            "      Glucon D Regular         71        323      0.916      0.645      0.879      0.594\n",
            " Glucon D Regular 1-KG         18         21      0.252      0.905      0.694      0.609\n",
            " Glucon D Regular 2-KG         17         17      0.695      0.882      0.953      0.868\n",
            " Glucon D Tangy orange         92        208      0.961      0.705      0.967      0.699\n",
            "Nutralite ACHARI MAYO 300g-275g-25g-         34         50      0.982          1      0.995      0.818\n",
            "Nutralite ACHARI MAYO 30g         14         14      0.973          1      0.995      0.905\n",
            "Nutralite CHEESY GARLIC MAYO 300g-275g-25g-         36         51      0.962      0.863      0.868      0.698\n",
            "Nutralite CHEESY GARLIC MAYO 30g         13         13      0.976          1      0.995      0.915\n",
            "Nutralite CHOCO SPREAD CALCIUM 275g         27         27      0.982          1      0.995       0.85\n",
            "Nutralite DOODHSHAKTHI PURE GHEE 1L         14         14      0.974          1      0.995      0.931\n",
            "Nutralite TANDOORI MAYO 300g-275g-25g-         36         54      0.926          1      0.967      0.794\n",
            "Nutralite TANDOORI MAYO 30g         15         15      0.974          1      0.995      0.897\n",
            "Nutralite VEG MAYO 300g-275g-25g-         30         36      0.991          1      0.995      0.803\n",
            "Nycil Prickly Heat Powder         39        123      0.868      0.691      0.931      0.708\n",
            "SUGAR FREE GOLD 500 PELLET         48         79      0.994          1      0.995      0.765\n",
            "SUGAR FREE GOLD POWDER 100GM         49         65      0.929      0.985      0.984      0.743\n",
            "SUGAR FREE GOLD SACHET 50         13         22      0.596      0.682      0.804      0.534\n",
            "SUGAR FREE GOLD SACHET 50 SUGAR FREE GOLD SACHET 50          6          6      0.531      0.167      0.638      0.571\n",
            "SUGAR FREE GRN 300 PELLET         31         37      0.968      0.919      0.962      0.683\n",
            "SUGAR FREE NATURA 500 PELLET        103        151      0.987      0.987      0.995      0.778\n",
            "SUGAR FREE NATURA DIET SUGAR         42         58          1      0.975      0.995      0.768\n",
            "SUGAR FREE NATURA DIET SUGAR 80GM          4          4      0.654      0.953      0.912      0.763\n",
            "SUGAR FREE NATURA SACHET 50         41         65      0.995      0.877      0.883      0.684\n",
            "SUGAR FREE NATURA SWEET DROPS         36         36      0.986      0.972      0.989      0.774\n",
            "SUGAR FREE NATURA_ POWDER_CONC_100G         27         30      0.973      0.833       0.99      0.761\n",
            "SUGAR FREE_GRN_ POWDER_CONC_100G         29         29      0.934      0.966      0.965      0.809\n",
            "  SUGARLITE POUCH 500G        193        548       0.96      0.997      0.983      0.775\n",
            "Speed: 0.1ms preprocess, 2.2ms inference, 0.0ms loss, 1.8ms postprocess per image\n",
            "Results saved to \u001b[1mYOLOv8/yolov8s_experiment\u001b[0m\n"
          ]
        }
      ]
    },
    {
      "cell_type": "code",
      "source": [
        "import torch\n",
        "device = torch.device(\"cpu\")\n"
      ],
      "metadata": {
        "id": "y4fcWEUaPewB"
      },
      "execution_count": null,
      "outputs": []
    },
    {
      "cell_type": "code",
      "source": [
        "model.save('/content/drive/My Drive/Dataset/YOLO/model_2.pt')"
      ],
      "metadata": {
        "id": "Y4EU4-iaH0B3"
      },
      "execution_count": null,
      "outputs": []
    },
    {
      "cell_type": "code",
      "source": [
        "model2 = YOLO('/content/drive/My Drive/Dataset/YOLO/model_2.pt')\n",
        "\n",
        "# Resume training for 5 more epochs\n",
        "try:\n",
        "  model2.train(\n",
        "      data=\"/content/drive/My Drive/Dataset/drivedata.yaml\",  # Path to your dataset config\n",
        "      epochs=5,   # Continue training for 5 more epochs\n",
        "      batch=16,\n",
        "      imgsz=416,\n",
        "      device=0,\n",
        "      #resume=True,  # This ensures it resumes from the last checkpoint\n",
        "      project='YOLOv8',\n",
        "      name='yolov8s_experiment',\n",
        "      save=True\n",
        ")\n",
        "except KeyboardInterrupt:\n",
        "    model2.save('/content/drive/My Drive/Dataset/YOLO/model_4.pt')\n",
        "    print(\"Training interrupted, model saved.\")\n",
        "\n",
        "model2.save('/content/drive/My Drive/Dataset/YOLO/model_4.pt')"
      ],
      "metadata": {
        "id": "PpjYbBR6-nnb",
        "colab": {
          "base_uri": "https://localhost:8080/"
        },
        "outputId": "1f827533-6212-4a95-e337-833f45d5f02a"
      },
      "execution_count": null,
      "outputs": [
        {
          "output_type": "stream",
          "name": "stdout",
          "text": [
            "Ultralytics 8.3.12 🚀 Python-3.10.12 torch-2.4.1+cu121 CUDA:0 (Tesla T4, 15102MiB)\n",
            "\u001b[34m\u001b[1mengine/trainer: \u001b[0mtask=detect, mode=train, model=/content/drive/My Drive/Dataset/YOLO/model_2.pt, data=/content/drive/My Drive/Dataset/drivedata.yaml, epochs=5, time=None, patience=100, batch=16, imgsz=416, save=True, save_period=-1, cache=False, device=0, workers=8, project=YOLOv8, name=yolov8s_experiment3, exist_ok=False, pretrained=True, optimizer=auto, verbose=True, seed=0, deterministic=True, single_cls=False, rect=False, cos_lr=False, close_mosaic=10, resume=False, amp=True, fraction=1.0, profile=False, freeze=None, multi_scale=False, overlap_mask=True, mask_ratio=4, dropout=0.0, val=True, split=val, save_json=False, save_hybrid=False, conf=None, iou=0.7, max_det=300, half=False, dnn=False, plots=True, source=None, vid_stride=1, stream_buffer=False, visualize=False, augment=False, agnostic_nms=False, classes=None, retina_masks=False, embed=None, show=False, save_frames=False, save_txt=False, save_conf=False, save_crop=False, show_labels=True, show_conf=True, show_boxes=True, line_width=None, format=torchscript, keras=False, optimize=False, int8=False, dynamic=False, simplify=True, opset=None, workspace=4, nms=False, lr0=0.01, lrf=0.01, momentum=0.937, weight_decay=0.0005, warmup_epochs=3.0, warmup_momentum=0.8, warmup_bias_lr=0.1, box=7.5, cls=0.5, dfl=1.5, pose=12.0, kobj=1.0, label_smoothing=0.0, nbs=64, hsv_h=0.015, hsv_s=0.7, hsv_v=0.4, degrees=0.0, translate=0.1, scale=0.5, shear=0.0, perspective=0.0, flipud=0.0, fliplr=0.5, bgr=0.0, mosaic=1.0, mixup=0.0, copy_paste=0.0, copy_paste_mode=flip, auto_augment=randaugment, erasing=0.4, crop_fraction=1.0, cfg=None, tracker=botsort.yaml, save_dir=YOLOv8/yolov8s_experiment3\n",
            "\n",
            "                   from  n    params  module                                       arguments                     \n",
            "  0                  -1  1       928  ultralytics.nn.modules.conv.Conv             [3, 32, 3, 2]                 \n",
            "  1                  -1  1     18560  ultralytics.nn.modules.conv.Conv             [32, 64, 3, 2]                \n",
            "  2                  -1  1     29056  ultralytics.nn.modules.block.C2f             [64, 64, 1, True]             \n",
            "  3                  -1  1     73984  ultralytics.nn.modules.conv.Conv             [64, 128, 3, 2]               \n",
            "  4                  -1  2    197632  ultralytics.nn.modules.block.C2f             [128, 128, 2, True]           \n",
            "  5                  -1  1    295424  ultralytics.nn.modules.conv.Conv             [128, 256, 3, 2]              \n",
            "  6                  -1  2    788480  ultralytics.nn.modules.block.C2f             [256, 256, 2, True]           \n",
            "  7                  -1  1   1180672  ultralytics.nn.modules.conv.Conv             [256, 512, 3, 2]              \n",
            "  8                  -1  1   1838080  ultralytics.nn.modules.block.C2f             [512, 512, 1, True]           \n",
            "  9                  -1  1    656896  ultralytics.nn.modules.block.SPPF            [512, 512, 5]                 \n",
            " 10                  -1  1         0  torch.nn.modules.upsampling.Upsample         [None, 2, 'nearest']          \n",
            " 11             [-1, 6]  1         0  ultralytics.nn.modules.conv.Concat           [1]                           \n",
            " 12                  -1  1    591360  ultralytics.nn.modules.block.C2f             [768, 256, 1]                 \n",
            " 13                  -1  1         0  torch.nn.modules.upsampling.Upsample         [None, 2, 'nearest']          \n",
            " 14             [-1, 4]  1         0  ultralytics.nn.modules.conv.Concat           [1]                           \n",
            " 15                  -1  1    148224  ultralytics.nn.modules.block.C2f             [384, 128, 1]                 \n",
            " 16                  -1  1    147712  ultralytics.nn.modules.conv.Conv             [128, 128, 3, 2]              \n",
            " 17            [-1, 12]  1         0  ultralytics.nn.modules.conv.Concat           [1]                           \n",
            " 18                  -1  1    493056  ultralytics.nn.modules.block.C2f             [384, 256, 1]                 \n",
            " 19                  -1  1    590336  ultralytics.nn.modules.conv.Conv             [256, 256, 3, 2]              \n",
            " 20             [-1, 9]  1         0  ultralytics.nn.modules.conv.Concat           [1]                           \n",
            " 21                  -1  1   1969152  ultralytics.nn.modules.block.C2f             [768, 512, 1]                 \n",
            " 22        [15, 18, 21]  1    839532  ultralytics.nn.modules.head.Detect           [52, [128, 256, 512]]         \n",
            "Model summary: 249 layers, 9,859,084 parameters, 9,859,068 gradients, 23.7 GFLOPs\n",
            "\n",
            "Transferred 391/391 items from pretrained weights\n",
            "\u001b[34m\u001b[1mTensorBoard: \u001b[0mStart with 'tensorboard --logdir YOLOv8/yolov8s_experiment3', view at http://localhost:6006/\n",
            "Freezing layer 'model.22.dfl.conv.weight'\n",
            "\u001b[34m\u001b[1mAMP: \u001b[0mrunning Automatic Mixed Precision (AMP) checks with YOLO11n...\n",
            "\u001b[34m\u001b[1mAMP: \u001b[0mchecks passed ✅\n"
          ]
        },
        {
          "output_type": "stream",
          "name": "stderr",
          "text": [
            "\u001b[34m\u001b[1mtrain: \u001b[0mScanning /content/drive/My Drive/Dataset/train/labels.cache... 7943 images, 0 backgrounds, 0 corrupt: 100%|██████████| 7943/7943 [00:00<?, ?it/s]"
          ]
        },
        {
          "output_type": "stream",
          "name": "stdout",
          "text": [
            "WARNING ⚠️ Box and segment counts should be equal, but got len(segments) = 11, len(boxes) = 24227. To resolve this only boxes will be used and all segments will be removed. To avoid this please supply either a detect or segment dataset, not a detect-segment mixed dataset.\n",
            "\u001b[34m\u001b[1malbumentations: \u001b[0mBlur(p=0.01, blur_limit=(3, 7)), MedianBlur(p=0.01, blur_limit=(3, 7)), ToGray(p=0.01, num_output_channels=3, method='weighted_average'), CLAHE(p=0.01, clip_limit=(1, 4.0), tile_grid_size=(8, 8))\n"
          ]
        },
        {
          "output_type": "stream",
          "name": "stderr",
          "text": [
            "\n",
            "\u001b[34m\u001b[1mval: \u001b[0mScanning /content/drive/My Drive/Dataset/valid/labels.cache... 1261 images, 0 backgrounds, 0 corrupt: 100%|██████████| 1261/1261 [00:00<?, ?it/s]\n"
          ]
        },
        {
          "output_type": "stream",
          "name": "stdout",
          "text": [
            "Plotting labels to YOLOv8/yolov8s_experiment3/labels.jpg... \n",
            "\u001b[34m\u001b[1moptimizer:\u001b[0m 'optimizer=auto' found, ignoring 'lr0=0.01' and 'momentum=0.937' and determining best 'optimizer', 'lr0' and 'momentum' automatically... \n",
            "\u001b[34m\u001b[1moptimizer:\u001b[0m AdamW(lr=0.000179, momentum=0.9) with parameter groups 63 weight(decay=0.0), 70 weight(decay=0.0005), 69 bias(decay=0.0)\n",
            "\u001b[34m\u001b[1mTensorBoard: \u001b[0mmodel graph visualization added ✅\n",
            "Image sizes 416 train, 416 val\n",
            "Using 2 dataloader workers\n",
            "Logging results to \u001b[1mYOLOv8/yolov8s_experiment3\u001b[0m\n",
            "Starting training for 5 epochs...\n",
            "\n",
            "      Epoch    GPU_mem   box_loss   cls_loss   dfl_loss  Instances       Size\n"
          ]
        },
        {
          "output_type": "stream",
          "name": "stderr",
          "text": [
            "        1/5      2.27G      0.719     0.6684     0.9374         21        416: 100%|██████████| 497/497 [02:30<00:00,  3.31it/s]\n",
            "                 Class     Images  Instances      Box(P          R      mAP50  mAP50-95): 100%|██████████| 40/40 [00:10<00:00,  4.00it/s]\n"
          ]
        },
        {
          "output_type": "stream",
          "name": "stdout",
          "text": [
            "                   all       1261       3261      0.894      0.869      0.883        0.7\n",
            "\n",
            "      Epoch    GPU_mem   box_loss   cls_loss   dfl_loss  Instances       Size\n"
          ]
        },
        {
          "output_type": "stream",
          "name": "stderr",
          "text": [
            "        2/5       2.2G     0.7102     0.6482     0.9345         22        416: 100%|██████████| 497/497 [02:22<00:00,  3.48it/s]\n",
            "                 Class     Images  Instances      Box(P          R      mAP50  mAP50-95): 100%|██████████| 40/40 [00:10<00:00,  3.76it/s]\n"
          ]
        },
        {
          "output_type": "stream",
          "name": "stdout",
          "text": [
            "                   all       1261       3261      0.845      0.892      0.896      0.717\n",
            "\n",
            "      Epoch    GPU_mem   box_loss   cls_loss   dfl_loss  Instances       Size\n"
          ]
        },
        {
          "output_type": "stream",
          "name": "stderr",
          "text": [
            "        3/5      2.21G     0.7045     0.6338     0.9323         36        416: 100%|██████████| 497/497 [02:22<00:00,  3.50it/s]\n",
            "                 Class     Images  Instances      Box(P          R      mAP50  mAP50-95): 100%|██████████| 40/40 [00:12<00:00,  3.21it/s]\n"
          ]
        },
        {
          "output_type": "stream",
          "name": "stdout",
          "text": [
            "                   all       1261       3261      0.848      0.883      0.876      0.698\n",
            "\n",
            "      Epoch    GPU_mem   box_loss   cls_loss   dfl_loss  Instances       Size\n"
          ]
        },
        {
          "output_type": "stream",
          "name": "stderr",
          "text": [
            "        4/5       2.2G     0.7059     0.6257     0.9322         43        416: 100%|██████████| 497/497 [02:15<00:00,  3.67it/s]\n",
            "                 Class     Images  Instances      Box(P          R      mAP50  mAP50-95): 100%|██████████| 40/40 [00:11<00:00,  3.51it/s]\n"
          ]
        },
        {
          "output_type": "stream",
          "name": "stdout",
          "text": [
            "                   all       1261       3261      0.859       0.89      0.889      0.707\n",
            "\n",
            "      Epoch    GPU_mem   box_loss   cls_loss   dfl_loss  Instances       Size\n"
          ]
        },
        {
          "output_type": "stream",
          "name": "stderr",
          "text": [
            "        5/5      2.13G      0.704     0.6067     0.9333         13        416: 100%|██████████| 497/497 [02:19<00:00,  3.56it/s]\n",
            "                 Class     Images  Instances      Box(P          R      mAP50  mAP50-95): 100%|██████████| 40/40 [00:13<00:00,  3.06it/s]\n"
          ]
        },
        {
          "output_type": "stream",
          "name": "stdout",
          "text": [
            "                   all       1261       3261      0.842      0.901      0.888      0.718\n",
            "\n",
            "5 epochs completed in 0.222 hours.\n",
            "Optimizer stripped from YOLOv8/yolov8s_experiment3/weights/last.pt, 19.9MB\n",
            "Optimizer stripped from YOLOv8/yolov8s_experiment3/weights/best.pt, 19.9MB\n",
            "\n",
            "Validating YOLOv8/yolov8s_experiment3/weights/best.pt...\n",
            "Ultralytics 8.3.12 🚀 Python-3.10.12 torch-2.4.1+cu121 CUDA:0 (Tesla T4, 15102MiB)\n",
            "Model summary (fused): 186 layers, 9,847,788 parameters, 0 gradients, 23.5 GFLOPs\n"
          ]
        },
        {
          "output_type": "stream",
          "name": "stderr",
          "text": [
            "                 Class     Images  Instances      Box(P          R      mAP50  mAP50-95): 100%|██████████| 40/40 [00:14<00:00,  2.85it/s]\n"
          ]
        },
        {
          "output_type": "stream",
          "name": "stdout",
          "text": [
            "                   all       1261       3261      0.842      0.901      0.888      0.718\n",
            " Complan Classic Creme         36         36          0          0          0          0\n",
            "   Complan Kesar Badam         61         90      0.644          1      0.866      0.753\n",
            "Complan Nutrigro Badam Kheer         17         17      0.973          1      0.995      0.845\n",
            "   Complan Pista Badam          9          9      0.905          1      0.995      0.809\n",
            "Complan Royal Chocolate         32         65       0.82      0.892      0.949      0.793\n",
            "EY AAAM TULSI TURMERIC FACEWASH50G        160        163      0.891     0.0368     0.0566     0.0472\n",
            "EY ADVANCED GOLDEN GLOW PEEL OFF M- 50G         12         12      0.947          1      0.995      0.764\n",
            "EY ADVANCED GOLDEN GLOW PEEL OFF M- 90G         13         13      0.919          1      0.995      0.819\n",
            "EY EXF WALNUT SCRUB AYR 200G         22         27      0.922      0.963      0.967      0.693\n",
            "EY HALDICHANDAN FP HF POWDER 25G         13         13      0.963          1      0.995      0.977\n",
            "EY HYD-EXF WALNT APR SCRUB AYR100G         14         15      0.733          1      0.937      0.824\n",
            "EY HYDR - EXF WALNUT APRICOT SCRUB 50G          3          3      0.696      0.667      0.806      0.662\n",
            "EY NAT GLOW ORANGE PEEL OFF AY 90G         25         35      0.986          1      0.995      0.769\n",
            "EY NATURALS NEEM FACE WASH AY 50G         24         59      0.899      0.983      0.952      0.587\n",
            "EY RJ CUCUMBER ALOEVERA FACEPAK50G         19         19       0.92          1      0.995      0.823\n",
            "EY TAN CHOCO CHERRY PACK 50G         16         16      0.492      0.812      0.833       0.72\n",
            "EY_SCR_PURIFYING_EXFOLTNG_NEEM_PAPAYA_50G         11         11      0.849          1      0.995      0.904\n",
            "Everyuth Naturals Body Lotion Nourishing Cocoa 200ml         55         89      0.955      0.989      0.988      0.716\n",
            "Everyuth Naturals Body Lotion Rejuvenating Flora 200ml         67         84      0.984          1      0.995      0.739\n",
            "Everyuth Naturals Body Lotion Soothing Citrus 200ml         58         58      0.928          1      0.995      0.804\n",
            "Everyuth Naturals Body Lotion Sun Care Berries SPF 15 200ml         67         80      0.975      0.988      0.995      0.752\n",
            "   Glucon D Nimbu Pani         79        250      0.963      0.625      0.878      0.608\n",
            "Glucon D Nimbu Pani 1-KG          1          1     0.0139          1     0.0216     0.0195\n",
            "      Glucon D Regular         71        323      0.925      0.687      0.884      0.599\n",
            " Glucon D Regular 1-KG         18         21      0.231      0.905      0.596      0.501\n",
            " Glucon D Regular 2-KG         17         17      0.693      0.882      0.941      0.843\n",
            " Glucon D Tangy orange         92        208      0.964      0.767      0.966      0.697\n",
            "Nutralite ACHARI MAYO 300g-275g-25g-         34         50      0.989          1      0.995      0.828\n",
            "Nutralite ACHARI MAYO 30g         14         14      0.967          1      0.995       0.91\n",
            "Nutralite CHEESY GARLIC MAYO 300g-275g-25g-         36         51      0.957      0.863      0.873      0.714\n",
            "Nutralite CHEESY GARLIC MAYO 30g         13         13      0.966          1      0.995        0.9\n",
            "Nutralite CHOCO SPREAD CALCIUM 275g         27         27       0.98          1      0.995      0.851\n",
            "Nutralite DOODHSHAKTHI PURE GHEE 1L         14         14       0.97          1      0.995      0.966\n",
            "Nutralite TANDOORI MAYO 300g-275g-25g-         36         54      0.948          1      0.972      0.794\n",
            "Nutralite TANDOORI MAYO 30g         15         15      0.969          1      0.995      0.892\n",
            "Nutralite VEG MAYO 300g-275g-25g-         30         36      0.987          1      0.995      0.796\n",
            "Nycil Prickly Heat Powder         39        123      0.826      0.878      0.941      0.728\n",
            "SUGAR FREE GOLD 500 PELLET         48         79      0.995          1      0.995      0.766\n",
            "SUGAR FREE GOLD POWDER 100GM         49         65      0.902      0.987      0.987      0.751\n",
            "SUGAR FREE GOLD SACHET 50         13         22      0.558      0.746      0.781      0.556\n",
            "SUGAR FREE GOLD SACHET 50 SUGAR FREE GOLD SACHET 50          6          6      0.489      0.801      0.543      0.478\n",
            "SUGAR FREE GRN 300 PELLET         31         37      0.999          1      0.995      0.704\n",
            "SUGAR FREE NATURA 500 PELLET        103        151      0.989      0.987      0.994      0.774\n",
            "SUGAR FREE NATURA DIET SUGAR         42         58      0.966      0.967      0.993      0.793\n",
            "SUGAR FREE NATURA DIET SUGAR 80GM          4          4      0.632          1      0.995      0.821\n",
            "SUGAR FREE NATURA SACHET 50         41         65      0.992      0.877      0.887      0.707\n",
            "SUGAR FREE NATURA SWEET DROPS         36         36      0.938      0.972       0.99      0.778\n",
            "SUGAR FREE NATURA_ POWDER_CONC_100G         27         30       0.96      0.796       0.98      0.754\n",
            "SUGAR FREE_GRN_ POWDER_CONC_100G         29         29       0.95      0.966      0.966       0.81\n",
            "  SUGARLITE POUCH 500G        193        548       0.97          1      0.981      0.782\n",
            "Speed: 0.1ms preprocess, 2.1ms inference, 0.0ms loss, 1.8ms postprocess per image\n",
            "Results saved to \u001b[1mYOLOv8/yolov8s_experiment3\u001b[0m\n"
          ]
        }
      ]
    },
    {
      "cell_type": "code",
      "source": [
        "model2.save('/content/drive/My Drive/Dataset/YOLO/model_3_last.pt')"
      ],
      "metadata": {
        "id": "egDfzDI90ZmW"
      },
      "execution_count": null,
      "outputs": []
    },
    {
      "cell_type": "code",
      "source": [
        "model3 = YOLO('/content/drive/My Drive/Dataset/YOLO/model_4.pt')\n",
        "\n",
        "# Resume training for 5 more epochs\n",
        "try:\n",
        "  model3.train(\n",
        "      data=\"/content/drive/My Drive/Dataset/drivedata.yaml\",  # Path to your dataset config\n",
        "      epochs=5,   # Continue training for 5 more epochs\n",
        "      batch=16,\n",
        "      imgsz=416,\n",
        "      device=0,\n",
        "      #resume=True,  # This ensures it resumes from the last checkpoint\n",
        "      project='YOLOv8',\n",
        "      name='yolov8s_experiment',\n",
        "      save=True\n",
        ")\n",
        "except KeyboardInterrupt:\n",
        "    model3.save('/content/drive/My Drive/Dataset/YOLO/model_5.pt')\n",
        "    print(\"Training interrupted, model saved.\")\n",
        "\n",
        "model3.save('/content/drive/My Drive/Dataset/YOLO/model_5.pt')"
      ],
      "metadata": {
        "id": "cbWWrIiI3w6Z",
        "colab": {
          "base_uri": "https://localhost:8080/"
        },
        "outputId": "3ff4578d-c4ba-4f47-cddc-cdeccf18fa10"
      },
      "execution_count": null,
      "outputs": [
        {
          "output_type": "stream",
          "name": "stdout",
          "text": [
            "Ultralytics 8.3.13 🚀 Python-3.10.12 torch-2.4.1+cu121 CUDA:0 (Tesla T4, 15102MiB)\n",
            "\u001b[34m\u001b[1mengine/trainer: \u001b[0mtask=detect, mode=train, model=/content/drive/My Drive/Dataset/YOLO/model_4.pt, data=/content/drive/My Drive/Dataset/drivedata.yaml, epochs=5, time=None, patience=100, batch=16, imgsz=416, save=True, save_period=-1, cache=False, device=0, workers=8, project=YOLOv8, name=yolov8s_experiment, exist_ok=False, pretrained=True, optimizer=auto, verbose=True, seed=0, deterministic=True, single_cls=False, rect=False, cos_lr=False, close_mosaic=10, resume=False, amp=True, fraction=1.0, profile=False, freeze=None, multi_scale=False, overlap_mask=True, mask_ratio=4, dropout=0.0, val=True, split=val, save_json=False, save_hybrid=False, conf=None, iou=0.7, max_det=300, half=False, dnn=False, plots=True, source=None, vid_stride=1, stream_buffer=False, visualize=False, augment=False, agnostic_nms=False, classes=None, retina_masks=False, embed=None, show=False, save_frames=False, save_txt=False, save_conf=False, save_crop=False, show_labels=True, show_conf=True, show_boxes=True, line_width=None, format=torchscript, keras=False, optimize=False, int8=False, dynamic=False, simplify=True, opset=None, workspace=4, nms=False, lr0=0.01, lrf=0.01, momentum=0.937, weight_decay=0.0005, warmup_epochs=3.0, warmup_momentum=0.8, warmup_bias_lr=0.1, box=7.5, cls=0.5, dfl=1.5, pose=12.0, kobj=1.0, label_smoothing=0.0, nbs=64, hsv_h=0.015, hsv_s=0.7, hsv_v=0.4, degrees=0.0, translate=0.1, scale=0.5, shear=0.0, perspective=0.0, flipud=0.0, fliplr=0.5, bgr=0.0, mosaic=1.0, mixup=0.0, copy_paste=0.0, copy_paste_mode=flip, auto_augment=randaugment, erasing=0.4, crop_fraction=1.0, cfg=None, tracker=botsort.yaml, save_dir=YOLOv8/yolov8s_experiment\n",
            "Downloading https://ultralytics.com/assets/Arial.ttf to '/root/.config/Ultralytics/Arial.ttf'...\n"
          ]
        },
        {
          "output_type": "stream",
          "name": "stderr",
          "text": [
            "100%|██████████| 755k/755k [00:00<00:00, 23.3MB/s]\n"
          ]
        },
        {
          "output_type": "stream",
          "name": "stdout",
          "text": [
            "\n",
            "                   from  n    params  module                                       arguments                     \n",
            "  0                  -1  1       928  ultralytics.nn.modules.conv.Conv             [3, 32, 3, 2]                 \n",
            "  1                  -1  1     18560  ultralytics.nn.modules.conv.Conv             [32, 64, 3, 2]                \n",
            "  2                  -1  1     29056  ultralytics.nn.modules.block.C2f             [64, 64, 1, True]             \n",
            "  3                  -1  1     73984  ultralytics.nn.modules.conv.Conv             [64, 128, 3, 2]               \n",
            "  4                  -1  2    197632  ultralytics.nn.modules.block.C2f             [128, 128, 2, True]           \n",
            "  5                  -1  1    295424  ultralytics.nn.modules.conv.Conv             [128, 256, 3, 2]              \n",
            "  6                  -1  2    788480  ultralytics.nn.modules.block.C2f             [256, 256, 2, True]           \n",
            "  7                  -1  1   1180672  ultralytics.nn.modules.conv.Conv             [256, 512, 3, 2]              \n",
            "  8                  -1  1   1838080  ultralytics.nn.modules.block.C2f             [512, 512, 1, True]           \n",
            "  9                  -1  1    656896  ultralytics.nn.modules.block.SPPF            [512, 512, 5]                 \n",
            " 10                  -1  1         0  torch.nn.modules.upsampling.Upsample         [None, 2, 'nearest']          \n",
            " 11             [-1, 6]  1         0  ultralytics.nn.modules.conv.Concat           [1]                           \n",
            " 12                  -1  1    591360  ultralytics.nn.modules.block.C2f             [768, 256, 1]                 \n",
            " 13                  -1  1         0  torch.nn.modules.upsampling.Upsample         [None, 2, 'nearest']          \n",
            " 14             [-1, 4]  1         0  ultralytics.nn.modules.conv.Concat           [1]                           \n",
            " 15                  -1  1    148224  ultralytics.nn.modules.block.C2f             [384, 128, 1]                 \n",
            " 16                  -1  1    147712  ultralytics.nn.modules.conv.Conv             [128, 128, 3, 2]              \n",
            " 17            [-1, 12]  1         0  ultralytics.nn.modules.conv.Concat           [1]                           \n",
            " 18                  -1  1    493056  ultralytics.nn.modules.block.C2f             [384, 256, 1]                 \n",
            " 19                  -1  1    590336  ultralytics.nn.modules.conv.Conv             [256, 256, 3, 2]              \n",
            " 20             [-1, 9]  1         0  ultralytics.nn.modules.conv.Concat           [1]                           \n",
            " 21                  -1  1   1969152  ultralytics.nn.modules.block.C2f             [768, 512, 1]                 \n",
            " 22        [15, 18, 21]  1    839532  ultralytics.nn.modules.head.Detect           [52, [128, 256, 512]]         \n",
            "Model summary: 249 layers, 9,859,084 parameters, 9,859,068 gradients, 23.7 GFLOPs\n",
            "\n",
            "Transferred 391/391 items from pretrained weights\n",
            "\u001b[34m\u001b[1mTensorBoard: \u001b[0mStart with 'tensorboard --logdir YOLOv8/yolov8s_experiment', view at http://localhost:6006/\n",
            "Freezing layer 'model.22.dfl.conv.weight'\n",
            "\u001b[34m\u001b[1mAMP: \u001b[0mrunning Automatic Mixed Precision (AMP) checks with YOLO11n...\n",
            "Downloading https://github.com/ultralytics/assets/releases/download/v8.3.0/yolo11n.pt to 'yolo11n.pt'...\n"
          ]
        },
        {
          "output_type": "stream",
          "name": "stderr",
          "text": [
            "100%|██████████| 5.35M/5.35M [00:00<00:00, 96.9MB/s]\n"
          ]
        },
        {
          "output_type": "stream",
          "name": "stdout",
          "text": [
            "\u001b[34m\u001b[1mAMP: \u001b[0mchecks passed ✅\n"
          ]
        },
        {
          "output_type": "stream",
          "name": "stderr",
          "text": [
            "\u001b[34m\u001b[1mtrain: \u001b[0mScanning /content/drive/My Drive/Dataset/train/labels.cache... 7943 images, 0 backgrounds, 0 corrupt: 100%|██████████| 7943/7943 [00:00<?, ?it/s]"
          ]
        },
        {
          "output_type": "stream",
          "name": "stdout",
          "text": [
            "WARNING ⚠️ Box and segment counts should be equal, but got len(segments) = 11, len(boxes) = 24227. To resolve this only boxes will be used and all segments will be removed. To avoid this please supply either a detect or segment dataset, not a detect-segment mixed dataset.\n"
          ]
        },
        {
          "output_type": "stream",
          "name": "stderr",
          "text": [
            "\n"
          ]
        },
        {
          "output_type": "stream",
          "name": "stdout",
          "text": [
            "\u001b[34m\u001b[1malbumentations: \u001b[0mBlur(p=0.01, blur_limit=(3, 7)), MedianBlur(p=0.01, blur_limit=(3, 7)), ToGray(p=0.01, num_output_channels=3, method='weighted_average'), CLAHE(p=0.01, clip_limit=(1, 4.0), tile_grid_size=(8, 8))\n"
          ]
        },
        {
          "output_type": "stream",
          "name": "stderr",
          "text": [
            "/usr/local/lib/python3.10/dist-packages/albumentations/__init__.py:13: UserWarning: A new version of Albumentations is available: 1.4.18 (you have 1.4.15). Upgrade using: pip install -U albumentations. To disable automatic update checks, set the environment variable NO_ALBUMENTATIONS_UPDATE to 1.\n",
            "  check_for_updates()\n",
            "\u001b[34m\u001b[1mval: \u001b[0mScanning /content/drive/My Drive/Dataset/valid/labels.cache... 1261 images, 0 backgrounds, 0 corrupt: 100%|██████████| 1261/1261 [00:00<?, ?it/s]\n"
          ]
        },
        {
          "output_type": "stream",
          "name": "stdout",
          "text": [
            "Plotting labels to YOLOv8/yolov8s_experiment/labels.jpg... \n",
            "\u001b[34m\u001b[1moptimizer:\u001b[0m 'optimizer=auto' found, ignoring 'lr0=0.01' and 'momentum=0.937' and determining best 'optimizer', 'lr0' and 'momentum' automatically... \n",
            "\u001b[34m\u001b[1moptimizer:\u001b[0m AdamW(lr=0.000179, momentum=0.9) with parameter groups 63 weight(decay=0.0), 70 weight(decay=0.0005), 69 bias(decay=0.0)\n",
            "\u001b[34m\u001b[1mTensorBoard: \u001b[0mmodel graph visualization added ✅\n",
            "Image sizes 416 train, 416 val\n",
            "Using 2 dataloader workers\n",
            "Logging results to \u001b[1mYOLOv8/yolov8s_experiment\u001b[0m\n",
            "Starting training for 5 epochs...\n",
            "\n",
            "      Epoch    GPU_mem   box_loss   cls_loss   dfl_loss  Instances       Size\n"
          ]
        },
        {
          "output_type": "stream",
          "name": "stderr",
          "text": [
            "        1/5      2.02G     0.6865     0.5759     0.9278         21        416: 100%|██████████| 497/497 [30:51<00:00,  3.72s/it]\n",
            "                 Class     Images  Instances      Box(P          R      mAP50  mAP50-95): 100%|██████████| 40/40 [00:38<00:00,  1.03it/s]"
          ]
        },
        {
          "output_type": "stream",
          "name": "stdout",
          "text": [
            "                   all       1261       3261       0.89      0.863      0.879      0.703\n"
          ]
        },
        {
          "output_type": "stream",
          "name": "stderr",
          "text": [
            "\n"
          ]
        },
        {
          "output_type": "stream",
          "name": "stdout",
          "text": [
            "\n",
            "      Epoch    GPU_mem   box_loss   cls_loss   dfl_loss  Instances       Size\n"
          ]
        },
        {
          "output_type": "stream",
          "name": "stderr",
          "text": [
            "        2/5      1.98G     0.6649      0.548     0.9213         22        416: 100%|██████████| 497/497 [02:10<00:00,  3.82it/s]\n",
            "                 Class     Images  Instances      Box(P          R      mAP50  mAP50-95): 100%|██████████| 40/40 [00:11<00:00,  3.44it/s]\n"
          ]
        },
        {
          "output_type": "stream",
          "name": "stdout",
          "text": [
            "                   all       1261       3261      0.871      0.884      0.882      0.704\n",
            "\n",
            "      Epoch    GPU_mem   box_loss   cls_loss   dfl_loss  Instances       Size\n"
          ]
        },
        {
          "output_type": "stream",
          "name": "stderr",
          "text": [
            "        3/5      1.99G     0.6625     0.5434     0.9201         36        416: 100%|██████████| 497/497 [02:11<00:00,  3.77it/s]\n",
            "                 Class     Images  Instances      Box(P          R      mAP50  mAP50-95): 100%|██████████| 40/40 [00:10<00:00,  3.68it/s]\n"
          ]
        },
        {
          "output_type": "stream",
          "name": "stdout",
          "text": [
            "                   all       1261       3261      0.877      0.888      0.868      0.689\n",
            "\n",
            "      Epoch    GPU_mem   box_loss   cls_loss   dfl_loss  Instances       Size\n"
          ]
        },
        {
          "output_type": "stream",
          "name": "stderr",
          "text": [
            "        4/5      1.99G     0.6738     0.5486     0.9228         43        416: 100%|██████████| 497/497 [02:04<00:00,  4.00it/s]\n",
            "                 Class     Images  Instances      Box(P          R      mAP50  mAP50-95): 100%|██████████| 40/40 [00:12<00:00,  3.09it/s]\n"
          ]
        },
        {
          "output_type": "stream",
          "name": "stdout",
          "text": [
            "                   all       1261       3261      0.857      0.892      0.876      0.699\n",
            "\n",
            "      Epoch    GPU_mem   box_loss   cls_loss   dfl_loss  Instances       Size\n"
          ]
        },
        {
          "output_type": "stream",
          "name": "stderr",
          "text": [
            "        5/5      1.92G     0.6835      0.546     0.9276         13        416: 100%|██████████| 497/497 [02:07<00:00,  3.90it/s]\n",
            "                 Class     Images  Instances      Box(P          R      mAP50  mAP50-95): 100%|██████████| 40/40 [00:12<00:00,  3.25it/s]\n"
          ]
        },
        {
          "output_type": "stream",
          "name": "stdout",
          "text": [
            "                   all       1261       3261      0.864      0.886      0.891       0.72\n",
            "\n",
            "5 epochs completed in 0.684 hours.\n",
            "Optimizer stripped from YOLOv8/yolov8s_experiment/weights/last.pt, 19.9MB\n",
            "Optimizer stripped from YOLOv8/yolov8s_experiment/weights/best.pt, 19.9MB\n",
            "\n",
            "Validating YOLOv8/yolov8s_experiment/weights/best.pt...\n",
            "Ultralytics 8.3.13 🚀 Python-3.10.12 torch-2.4.1+cu121 CUDA:0 (Tesla T4, 15102MiB)\n",
            "Model summary (fused): 186 layers, 9,847,788 parameters, 0 gradients, 23.5 GFLOPs\n"
          ]
        },
        {
          "output_type": "stream",
          "name": "stderr",
          "text": [
            "                 Class     Images  Instances      Box(P          R      mAP50  mAP50-95): 100%|██████████| 40/40 [00:14<00:00,  2.81it/s]\n"
          ]
        },
        {
          "output_type": "stream",
          "name": "stdout",
          "text": [
            "                   all       1261       3261       0.86      0.892      0.891      0.721\n",
            " Complan Classic Creme         36         36          0          0          0          0\n",
            "   Complan Kesar Badam         61         90      0.683          1       0.88       0.77\n",
            "Complan Nutrigro Badam Kheer         17         17      0.976          1      0.995      0.878\n",
            "   Complan Pista Badam          9          9       0.87          1      0.995      0.798\n",
            "Complan Royal Chocolate         32         65      0.829      0.897      0.958      0.818\n",
            "EY AAAM TULSI TURMERIC FACEWASH50G        160        163      0.855     0.0368     0.0607     0.0503\n",
            "EY ADVANCED GOLDEN GLOW PEEL OFF M- 50G         12         12      0.957          1      0.995      0.785\n",
            "EY ADVANCED GOLDEN GLOW PEEL OFF M- 90G         13         13       0.96          1      0.995      0.799\n",
            "EY EXF WALNUT SCRUB AYR 200G         22         27      0.874      0.963      0.964      0.687\n",
            "EY HALDICHANDAN FP HF POWDER 25G         13         13      0.967          1      0.995      0.976\n",
            "EY HYD-EXF WALNT APR SCRUB AYR100G         14         15      0.937      0.987      0.974      0.862\n",
            "EY HYDR - EXF WALNUT APRICOT SCRUB 50G          3          3       0.95          1      0.995      0.813\n",
            "EY NAT GLOW ORANGE PEEL OFF AY 90G         25         35      0.987          1      0.995      0.801\n",
            "EY NATURALS NEEM FACE WASH AY 50G         24         59      0.951      0.966      0.952      0.578\n",
            "EY RJ CUCUMBER ALOEVERA FACEPAK50G         19         19      0.952          1      0.995      0.815\n",
            "EY TAN CHOCO CHERRY PACK 50G         16         16      0.409      0.812      0.841      0.733\n",
            "EY_SCR_PURIFYING_EXFOLTNG_NEEM_PAPAYA_50G         11         11      0.904          1      0.995      0.906\n",
            "Everyuth Naturals Body Lotion Nourishing Cocoa 200ml         55         89       0.98      0.989      0.991      0.715\n",
            "Everyuth Naturals Body Lotion Rejuvenating Flora 200ml         67         84      0.991          1      0.995      0.745\n",
            "Everyuth Naturals Body Lotion Soothing Citrus 200ml         58         58      0.966      0.969      0.994      0.792\n",
            "Everyuth Naturals Body Lotion Sun Care Berries SPF 15 200ml         67         80      0.983      0.988      0.995      0.752\n",
            "   Glucon D Nimbu Pani         79        250      0.969      0.615      0.872      0.605\n",
            "Glucon D Nimbu Pani 1-KG          1          1     0.0154          1     0.0163     0.0147\n",
            "      Glucon D Regular         71        323      0.928      0.683       0.88       0.59\n",
            " Glucon D Regular 1-KG         18         21      0.215       0.81      0.514      0.444\n",
            " Glucon D Regular 2-KG         17         17      0.672      0.882       0.88      0.791\n",
            " Glucon D Tangy orange         92        208       0.96       0.74      0.953       0.69\n",
            "Nutralite ACHARI MAYO 300g-275g-25g-         34         50      0.989          1      0.995      0.824\n",
            "Nutralite ACHARI MAYO 30g         14         14      0.965          1      0.995      0.917\n",
            "Nutralite CHEESY GARLIC MAYO 300g-275g-25g-         36         51      0.965      0.863      0.878      0.715\n",
            "Nutralite CHEESY GARLIC MAYO 30g         13         13      0.968          1      0.995       0.89\n",
            "Nutralite CHOCO SPREAD CALCIUM 275g         27         27      0.986          1      0.995      0.863\n",
            "Nutralite DOODHSHAKTHI PURE GHEE 1L         14         14       0.97          1      0.995      0.946\n",
            "Nutralite TANDOORI MAYO 300g-275g-25g-         36         54      0.947          1      0.986      0.803\n",
            "Nutralite TANDOORI MAYO 30g         15         15      0.971          1      0.995      0.907\n",
            "Nutralite VEG MAYO 300g-275g-25g-         30         36      0.988          1      0.995      0.795\n",
            "Nycil Prickly Heat Powder         39        123      0.881       0.72      0.935      0.722\n",
            "SUGAR FREE GOLD 500 PELLET         48         79      0.993          1      0.995       0.77\n",
            "SUGAR FREE GOLD POWDER 100GM         49         65      0.916      0.969      0.982      0.758\n",
            "SUGAR FREE GOLD SACHET 50         13         22      0.607      0.682      0.775      0.538\n",
            "SUGAR FREE GOLD SACHET 50 SUGAR FREE GOLD SACHET 50          6          6      0.742      0.485      0.755      0.668\n",
            "SUGAR FREE GRN 300 PELLET         31         37      0.972      0.951      0.962      0.674\n",
            "SUGAR FREE NATURA 500 PELLET        103        151      0.986      0.993      0.995      0.792\n",
            "SUGAR FREE NATURA DIET SUGAR         42         58          1      0.974      0.995      0.764\n",
            "SUGAR FREE NATURA DIET SUGAR 80GM          4          4       0.62          1      0.828      0.643\n",
            "SUGAR FREE NATURA SACHET 50         41         65      0.994      0.877      0.891      0.711\n",
            "SUGAR FREE NATURA SWEET DROPS         36         36      0.927      0.972       0.99      0.772\n",
            "SUGAR FREE NATURA_ POWDER_CONC_100G         27         30      0.923      0.802      0.979      0.758\n",
            "SUGAR FREE_GRN_ POWDER_CONC_100G         29         29      0.966      0.966      0.966      0.806\n",
            "  SUGARLITE POUCH 500G        193        548      0.976          1      0.984      0.789\n",
            "Speed: 0.1ms preprocess, 2.3ms inference, 0.0ms loss, 2.3ms postprocess per image\n",
            "Results saved to \u001b[1mYOLOv8/yolov8s_experiment\u001b[0m\n"
          ]
        }
      ]
    },
    {
      "cell_type": "code",
      "source": [
        "model4 = YOLO('/content/drive/My Drive/Dataset/YOLO/model_5.pt')\n",
        "\n",
        "# Resume training for 5 more epochs\n",
        "try:\n",
        "  model4.train(\n",
        "      data=\"/content/drive/My Drive/Dataset/drivedata.yaml\",  # Path to your dataset config\n",
        "      epochs=5,   # Continue training for 5 more epochs\n",
        "      batch=16,\n",
        "      imgsz=416,\n",
        "      device=0,\n",
        "      #resume=True,  # This ensures it resumes from the last checkpoint\n",
        "      project='YOLOv8',\n",
        "      name='yolov8s_experiment',\n",
        "      save=True\n",
        ")\n",
        "except KeyboardInterrupt:\n",
        "    model4.save('/content/drive/My Drive/Dataset/YOLO/model_6.pt')\n",
        "    print(\"Training interrupted, model saved.\")\n",
        "\n",
        "model4.save('/content/drive/My Drive/Dataset/YOLO/model_6.pt')"
      ],
      "metadata": {
        "id": "OX2zj7IXnmD6",
        "colab": {
          "base_uri": "https://localhost:8080/"
        },
        "outputId": "221bad35-2249-483e-d1b0-de6ab891ca5d"
      },
      "execution_count": null,
      "outputs": [
        {
          "output_type": "stream",
          "name": "stdout",
          "text": [
            "Ultralytics 8.3.13 🚀 Python-3.10.12 torch-2.4.1+cu121 CUDA:0 (Tesla T4, 15102MiB)\n",
            "\u001b[34m\u001b[1mengine/trainer: \u001b[0mtask=detect, mode=train, model=/content/drive/My Drive/Dataset/YOLO/model_5.pt, data=/content/drive/My Drive/Dataset/drivedata.yaml, epochs=5, time=None, patience=100, batch=16, imgsz=416, save=True, save_period=-1, cache=False, device=0, workers=8, project=YOLOv8, name=yolov8s_experiment2, exist_ok=False, pretrained=True, optimizer=auto, verbose=True, seed=0, deterministic=True, single_cls=False, rect=False, cos_lr=False, close_mosaic=10, resume=False, amp=True, fraction=1.0, profile=False, freeze=None, multi_scale=False, overlap_mask=True, mask_ratio=4, dropout=0.0, val=True, split=val, save_json=False, save_hybrid=False, conf=None, iou=0.7, max_det=300, half=False, dnn=False, plots=True, source=None, vid_stride=1, stream_buffer=False, visualize=False, augment=False, agnostic_nms=False, classes=None, retina_masks=False, embed=None, show=False, save_frames=False, save_txt=False, save_conf=False, save_crop=False, show_labels=True, show_conf=True, show_boxes=True, line_width=None, format=torchscript, keras=False, optimize=False, int8=False, dynamic=False, simplify=True, opset=None, workspace=4, nms=False, lr0=0.01, lrf=0.01, momentum=0.937, weight_decay=0.0005, warmup_epochs=3.0, warmup_momentum=0.8, warmup_bias_lr=0.1, box=7.5, cls=0.5, dfl=1.5, pose=12.0, kobj=1.0, label_smoothing=0.0, nbs=64, hsv_h=0.015, hsv_s=0.7, hsv_v=0.4, degrees=0.0, translate=0.1, scale=0.5, shear=0.0, perspective=0.0, flipud=0.0, fliplr=0.5, bgr=0.0, mosaic=1.0, mixup=0.0, copy_paste=0.0, copy_paste_mode=flip, auto_augment=randaugment, erasing=0.4, crop_fraction=1.0, cfg=None, tracker=botsort.yaml, save_dir=YOLOv8/yolov8s_experiment2\n",
            "\n",
            "                   from  n    params  module                                       arguments                     \n",
            "  0                  -1  1       928  ultralytics.nn.modules.conv.Conv             [3, 32, 3, 2]                 \n",
            "  1                  -1  1     18560  ultralytics.nn.modules.conv.Conv             [32, 64, 3, 2]                \n",
            "  2                  -1  1     29056  ultralytics.nn.modules.block.C2f             [64, 64, 1, True]             \n",
            "  3                  -1  1     73984  ultralytics.nn.modules.conv.Conv             [64, 128, 3, 2]               \n",
            "  4                  -1  2    197632  ultralytics.nn.modules.block.C2f             [128, 128, 2, True]           \n",
            "  5                  -1  1    295424  ultralytics.nn.modules.conv.Conv             [128, 256, 3, 2]              \n",
            "  6                  -1  2    788480  ultralytics.nn.modules.block.C2f             [256, 256, 2, True]           \n",
            "  7                  -1  1   1180672  ultralytics.nn.modules.conv.Conv             [256, 512, 3, 2]              \n",
            "  8                  -1  1   1838080  ultralytics.nn.modules.block.C2f             [512, 512, 1, True]           \n",
            "  9                  -1  1    656896  ultralytics.nn.modules.block.SPPF            [512, 512, 5]                 \n",
            " 10                  -1  1         0  torch.nn.modules.upsampling.Upsample         [None, 2, 'nearest']          \n",
            " 11             [-1, 6]  1         0  ultralytics.nn.modules.conv.Concat           [1]                           \n",
            " 12                  -1  1    591360  ultralytics.nn.modules.block.C2f             [768, 256, 1]                 \n",
            " 13                  -1  1         0  torch.nn.modules.upsampling.Upsample         [None, 2, 'nearest']          \n",
            " 14             [-1, 4]  1         0  ultralytics.nn.modules.conv.Concat           [1]                           \n",
            " 15                  -1  1    148224  ultralytics.nn.modules.block.C2f             [384, 128, 1]                 \n",
            " 16                  -1  1    147712  ultralytics.nn.modules.conv.Conv             [128, 128, 3, 2]              \n",
            " 17            [-1, 12]  1         0  ultralytics.nn.modules.conv.Concat           [1]                           \n",
            " 18                  -1  1    493056  ultralytics.nn.modules.block.C2f             [384, 256, 1]                 \n",
            " 19                  -1  1    590336  ultralytics.nn.modules.conv.Conv             [256, 256, 3, 2]              \n",
            " 20             [-1, 9]  1         0  ultralytics.nn.modules.conv.Concat           [1]                           \n",
            " 21                  -1  1   1969152  ultralytics.nn.modules.block.C2f             [768, 512, 1]                 \n",
            " 22        [15, 18, 21]  1    839532  ultralytics.nn.modules.head.Detect           [52, [128, 256, 512]]         \n",
            "Model summary: 249 layers, 9,859,084 parameters, 9,859,068 gradients, 23.7 GFLOPs\n",
            "\n",
            "Transferred 391/391 items from pretrained weights\n",
            "\u001b[34m\u001b[1mTensorBoard: \u001b[0mStart with 'tensorboard --logdir YOLOv8/yolov8s_experiment2', view at http://localhost:6006/\n",
            "Freezing layer 'model.22.dfl.conv.weight'\n",
            "\u001b[34m\u001b[1mAMP: \u001b[0mrunning Automatic Mixed Precision (AMP) checks with YOLO11n...\n",
            "\u001b[34m\u001b[1mAMP: \u001b[0mchecks passed ✅\n"
          ]
        },
        {
          "output_type": "stream",
          "name": "stderr",
          "text": [
            "\u001b[34m\u001b[1mtrain: \u001b[0mScanning /content/drive/My Drive/Dataset/train/labels.cache... 7943 images, 0 backgrounds, 0 corrupt: 100%|██████████| 7943/7943 [00:00<?, ?it/s]"
          ]
        },
        {
          "output_type": "stream",
          "name": "stdout",
          "text": [
            "WARNING ⚠️ Box and segment counts should be equal, but got len(segments) = 11, len(boxes) = 24227. To resolve this only boxes will be used and all segments will be removed. To avoid this please supply either a detect or segment dataset, not a detect-segment mixed dataset.\n",
            "\u001b[34m\u001b[1malbumentations: \u001b[0mBlur(p=0.01, blur_limit=(3, 7)), MedianBlur(p=0.01, blur_limit=(3, 7)), ToGray(p=0.01, num_output_channels=3, method='weighted_average'), CLAHE(p=0.01, clip_limit=(1, 4.0), tile_grid_size=(8, 8))\n"
          ]
        },
        {
          "output_type": "stream",
          "name": "stderr",
          "text": [
            "\n",
            "\u001b[34m\u001b[1mval: \u001b[0mScanning /content/drive/My Drive/Dataset/valid/labels.cache... 1261 images, 0 backgrounds, 0 corrupt: 100%|██████████| 1261/1261 [00:00<?, ?it/s]\n"
          ]
        },
        {
          "output_type": "stream",
          "name": "stdout",
          "text": [
            "Plotting labels to YOLOv8/yolov8s_experiment2/labels.jpg... \n",
            "\u001b[34m\u001b[1moptimizer:\u001b[0m 'optimizer=auto' found, ignoring 'lr0=0.01' and 'momentum=0.937' and determining best 'optimizer', 'lr0' and 'momentum' automatically... \n",
            "\u001b[34m\u001b[1moptimizer:\u001b[0m AdamW(lr=0.000179, momentum=0.9) with parameter groups 63 weight(decay=0.0), 70 weight(decay=0.0005), 69 bias(decay=0.0)\n",
            "\u001b[34m\u001b[1mTensorBoard: \u001b[0mmodel graph visualization added ✅\n",
            "Image sizes 416 train, 416 val\n",
            "Using 2 dataloader workers\n",
            "Logging results to \u001b[1mYOLOv8/yolov8s_experiment2\u001b[0m\n",
            "Starting training for 5 epochs...\n",
            "\n",
            "      Epoch    GPU_mem   box_loss   cls_loss   dfl_loss  Instances       Size\n"
          ]
        },
        {
          "output_type": "stream",
          "name": "stderr",
          "text": [
            "        1/5      2.25G     0.6602     0.5161     0.9205         21        416: 100%|██████████| 497/497 [02:40<00:00,  3.09it/s]\n",
            "                 Class     Images  Instances      Box(P          R      mAP50  mAP50-95): 100%|██████████| 40/40 [00:11<00:00,  3.51it/s]\n"
          ]
        },
        {
          "output_type": "stream",
          "name": "stdout",
          "text": [
            "                   all       1261       3261      0.858      0.887      0.874      0.692\n",
            "\n",
            "      Epoch    GPU_mem   box_loss   cls_loss   dfl_loss  Instances       Size\n"
          ]
        },
        {
          "output_type": "stream",
          "name": "stderr",
          "text": [
            "        2/5      2.19G     0.6284     0.4872     0.9108         22        416: 100%|██████████| 497/497 [02:17<00:00,  3.62it/s]\n",
            "                 Class     Images  Instances      Box(P          R      mAP50  mAP50-95): 100%|██████████| 40/40 [00:11<00:00,  3.60it/s]\n"
          ]
        },
        {
          "output_type": "stream",
          "name": "stdout",
          "text": [
            "                   all       1261       3261      0.879      0.879      0.874      0.695\n",
            "\n",
            "      Epoch    GPU_mem   box_loss   cls_loss   dfl_loss  Instances       Size\n"
          ]
        },
        {
          "output_type": "stream",
          "name": "stderr",
          "text": [
            "        3/5       2.2G     0.6296     0.4869     0.9103         36        416: 100%|██████████| 497/497 [02:17<00:00,  3.61it/s]\n",
            "                 Class     Images  Instances      Box(P          R      mAP50  mAP50-95): 100%|██████████| 40/40 [00:13<00:00,  3.04it/s]\n"
          ]
        },
        {
          "output_type": "stream",
          "name": "stdout",
          "text": [
            "                   all       1261       3261      0.877      0.895      0.867      0.689\n",
            "\n",
            "      Epoch    GPU_mem   box_loss   cls_loss   dfl_loss  Instances       Size\n"
          ]
        },
        {
          "output_type": "stream",
          "name": "stderr",
          "text": [
            "        4/5      2.19G     0.6441     0.4963     0.9138         43        416: 100%|██████████| 497/497 [02:12<00:00,  3.74it/s]\n",
            "                 Class     Images  Instances      Box(P          R      mAP50  mAP50-95): 100%|██████████| 40/40 [00:13<00:00,  2.87it/s]\n"
          ]
        },
        {
          "output_type": "stream",
          "name": "stdout",
          "text": [
            "                   all       1261       3261      0.904      0.857      0.871      0.697\n",
            "\n",
            "      Epoch    GPU_mem   box_loss   cls_loss   dfl_loss  Instances       Size\n"
          ]
        },
        {
          "output_type": "stream",
          "name": "stderr",
          "text": [
            "        5/5      2.19G      0.665     0.4998     0.9223         13        416: 100%|██████████| 497/497 [02:17<00:00,  3.62it/s]\n",
            "                 Class     Images  Instances      Box(P          R      mAP50  mAP50-95): 100%|██████████| 40/40 [00:13<00:00,  3.00it/s]\n"
          ]
        },
        {
          "output_type": "stream",
          "name": "stdout",
          "text": [
            "                   all       1261       3261      0.899      0.858      0.878      0.709\n",
            "\n",
            "5 epochs completed in 0.218 hours.\n",
            "Optimizer stripped from YOLOv8/yolov8s_experiment2/weights/last.pt, 19.9MB\n",
            "Optimizer stripped from YOLOv8/yolov8s_experiment2/weights/best.pt, 19.9MB\n",
            "\n",
            "Validating YOLOv8/yolov8s_experiment2/weights/best.pt...\n",
            "Ultralytics 8.3.13 🚀 Python-3.10.12 torch-2.4.1+cu121 CUDA:0 (Tesla T4, 15102MiB)\n",
            "Model summary (fused): 186 layers, 9,847,788 parameters, 0 gradients, 23.5 GFLOPs\n"
          ]
        },
        {
          "output_type": "stream",
          "name": "stderr",
          "text": [
            "                 Class     Images  Instances      Box(P          R      mAP50  mAP50-95): 100%|██████████| 40/40 [00:15<00:00,  2.51it/s]\n"
          ]
        },
        {
          "output_type": "stream",
          "name": "stdout",
          "text": [
            "                   all       1261       3261      0.899      0.858      0.878       0.71\n",
            " Complan Classic Creme         36         36          1          0          0          0\n",
            "   Complan Kesar Badam         61         90      0.689          1      0.722      0.634\n",
            "Complan Nutrigro Badam Kheer         17         17      0.985          1      0.995      0.873\n",
            "   Complan Pista Badam          9          9      0.876          1      0.995      0.791\n",
            "Complan Royal Chocolate         32         65      0.843      0.892      0.948      0.791\n",
            "EY AAAM TULSI TURMERIC FACEWASH50G        160        163      0.939     0.0368     0.0695     0.0554\n",
            "EY ADVANCED GOLDEN GLOW PEEL OFF M- 50G         12         12      0.973          1      0.995      0.761\n",
            "EY ADVANCED GOLDEN GLOW PEEL OFF M- 90G         13         13      0.939          1      0.995      0.798\n",
            "EY EXF WALNUT SCRUB AYR 200G         22         27      0.868      0.963      0.968      0.714\n",
            "EY HALDICHANDAN FP HF POWDER 25G         13         13      0.977          1      0.995      0.981\n",
            "EY HYD-EXF WALNT APR SCRUB AYR100G         14         15      0.925          1      0.982      0.859\n",
            "EY HYDR - EXF WALNUT APRICOT SCRUB 50G          3          3      0.979          1      0.995      0.813\n",
            "EY NAT GLOW ORANGE PEEL OFF AY 90G         25         35      0.992          1      0.995       0.78\n",
            "EY NATURALS NEEM FACE WASH AY 50G         24         59      0.935      0.966      0.944      0.561\n",
            "EY RJ CUCUMBER ALOEVERA FACEPAK50G         19         19      0.973          1      0.995      0.808\n",
            "EY TAN CHOCO CHERRY PACK 50G         16         16      0.935      0.812       0.89      0.768\n",
            "EY_SCR_PURIFYING_EXFOLTNG_NEEM_PAPAYA_50G         11         11      0.932          1      0.995      0.891\n",
            "Everyuth Naturals Body Lotion Nourishing Cocoa 200ml         55         89      0.979      0.989      0.994      0.722\n",
            "Everyuth Naturals Body Lotion Rejuvenating Flora 200ml         67         84          1      0.988      0.995       0.75\n",
            "Everyuth Naturals Body Lotion Soothing Citrus 200ml         58         58      0.983      0.976      0.994      0.807\n",
            "Everyuth Naturals Body Lotion Sun Care Berries SPF 15 200ml         67         80          1       0.99      0.995      0.747\n",
            "   Glucon D Nimbu Pani         79        250      0.963      0.518      0.847      0.589\n",
            "Glucon D Nimbu Pani 1-KG          1          1          0          0     0.0105    0.00943\n",
            "      Glucon D Regular         71        323      0.931      0.543      0.848      0.572\n",
            " Glucon D Regular 1-KG         18         21      0.172       0.81      0.257      0.215\n",
            " Glucon D Regular 2-KG         17         17      0.651      0.882      0.891      0.793\n",
            " Glucon D Tangy orange         92        208      0.963      0.629      0.902      0.648\n",
            "Nutralite ACHARI MAYO 300g-275g-25g-         34         50      0.991          1      0.995      0.822\n",
            "Nutralite ACHARI MAYO 30g         14         14      0.981          1      0.995      0.913\n",
            "Nutralite CHEESY GARLIC MAYO 300g-275g-25g-         36         51      0.972      0.863       0.88      0.714\n",
            "Nutralite CHEESY GARLIC MAYO 30g         13         13      0.982          1      0.995      0.901\n",
            "Nutralite CHOCO SPREAD CALCIUM 275g         27         27      0.986          1      0.995      0.864\n",
            "Nutralite DOODHSHAKTHI PURE GHEE 1L         14         14      0.981          1      0.995      0.954\n",
            "Nutralite TANDOORI MAYO 300g-275g-25g-         36         54      0.958          1      0.986      0.807\n",
            "Nutralite TANDOORI MAYO 30g         15         15      0.979          1      0.995      0.883\n",
            "Nutralite VEG MAYO 300g-275g-25g-         30         36      0.992          1      0.995      0.816\n",
            "Nycil Prickly Heat Powder         39        123      0.922       0.61      0.924      0.715\n",
            "SUGAR FREE GOLD 500 PELLET         48         79      0.997          1      0.995      0.769\n",
            "SUGAR FREE GOLD POWDER 100GM         49         65      0.925      0.954       0.98      0.749\n",
            "SUGAR FREE GOLD SACHET 50         13         22      0.631      0.682      0.735      0.515\n",
            "SUGAR FREE GOLD SACHET 50 SUGAR FREE GOLD SACHET 50          6          6      0.777      0.333      0.728      0.647\n",
            "SUGAR FREE GRN 300 PELLET         31         37      0.971      0.904      0.967      0.692\n",
            "SUGAR FREE NATURA 500 PELLET        103        151      0.993      0.982      0.994      0.795\n",
            "SUGAR FREE NATURA DIET SUGAR         42         58          1      0.969      0.995      0.786\n",
            "SUGAR FREE NATURA DIET SUGAR 80GM          4          4       0.64          1      0.745      0.572\n",
            "SUGAR FREE NATURA SACHET 50         41         65          1       0.87      0.895      0.704\n",
            "SUGAR FREE NATURA SWEET DROPS         36         36      0.972      0.963       0.99      0.783\n",
            "SUGAR FREE NATURA_ POWDER_CONC_100G         27         30      0.924      0.808      0.961      0.766\n",
            "SUGAR FREE_GRN_ POWDER_CONC_100G         29         29      0.964      0.966      0.967      0.806\n",
            "  SUGARLITE POUCH 500G        193        548      0.986      0.998      0.982      0.782\n",
            "Speed: 0.1ms preprocess, 2.4ms inference, 0.0ms loss, 2.6ms postprocess per image\n",
            "Results saved to \u001b[1mYOLOv8/yolov8s_experiment2\u001b[0m\n"
          ]
        }
      ]
    },
    {
      "cell_type": "code",
      "source": [
        "model5 = YOLO('/content/drive/My Drive/Dataset/YOLO/model_6.pt')\n",
        "\n",
        "# Resume training for 5 more epochs\n",
        "try:\n",
        "  model5.train(\n",
        "      data=\"/content/drive/My Drive/Dataset/drivedata.yaml\",  # Path to your dataset config\n",
        "      epochs=5,   # Continue training for 5 more epochs\n",
        "      batch=16,\n",
        "      imgsz=416,\n",
        "      device=0,\n",
        "      #resume=True,  # This ensures it resumes from the last checkpoint\n",
        "      project='YOLOv8',\n",
        "      name='yolov8s_experiment',\n",
        "      save=True\n",
        ")\n",
        "except KeyboardInterrupt:\n",
        "    model5.save('/content/drive/My Drive/Dataset/YOLO/model_7.pt')\n",
        "    print(\"Training interrupted, model saved.\")\n",
        "\n",
        "model5.save('/content/drive/My Drive/Dataset/YOLO/model_7.pt')"
      ],
      "metadata": {
        "colab": {
          "base_uri": "https://localhost:8080/"
        },
        "id": "-BxMxqDriFXG",
        "outputId": "51c8997d-ca12-4484-9117-baa24c83ccbd"
      },
      "execution_count": null,
      "outputs": [
        {
          "output_type": "stream",
          "name": "stdout",
          "text": [
            "Ultralytics 8.3.13 🚀 Python-3.10.12 torch-2.4.1+cu121 CUDA:0 (Tesla T4, 15102MiB)\n",
            "\u001b[34m\u001b[1mengine/trainer: \u001b[0mtask=detect, mode=train, model=/content/drive/My Drive/Dataset/YOLO/model_6.pt, data=/content/drive/My Drive/Dataset/drivedata.yaml, epochs=5, time=None, patience=100, batch=16, imgsz=416, save=True, save_period=-1, cache=False, device=0, workers=8, project=YOLOv8, name=yolov8s_experiment3, exist_ok=False, pretrained=True, optimizer=auto, verbose=True, seed=0, deterministic=True, single_cls=False, rect=False, cos_lr=False, close_mosaic=10, resume=False, amp=True, fraction=1.0, profile=False, freeze=None, multi_scale=False, overlap_mask=True, mask_ratio=4, dropout=0.0, val=True, split=val, save_json=False, save_hybrid=False, conf=None, iou=0.7, max_det=300, half=False, dnn=False, plots=True, source=None, vid_stride=1, stream_buffer=False, visualize=False, augment=False, agnostic_nms=False, classes=None, retina_masks=False, embed=None, show=False, save_frames=False, save_txt=False, save_conf=False, save_crop=False, show_labels=True, show_conf=True, show_boxes=True, line_width=None, format=torchscript, keras=False, optimize=False, int8=False, dynamic=False, simplify=True, opset=None, workspace=4, nms=False, lr0=0.01, lrf=0.01, momentum=0.937, weight_decay=0.0005, warmup_epochs=3.0, warmup_momentum=0.8, warmup_bias_lr=0.1, box=7.5, cls=0.5, dfl=1.5, pose=12.0, kobj=1.0, label_smoothing=0.0, nbs=64, hsv_h=0.015, hsv_s=0.7, hsv_v=0.4, degrees=0.0, translate=0.1, scale=0.5, shear=0.0, perspective=0.0, flipud=0.0, fliplr=0.5, bgr=0.0, mosaic=1.0, mixup=0.0, copy_paste=0.0, copy_paste_mode=flip, auto_augment=randaugment, erasing=0.4, crop_fraction=1.0, cfg=None, tracker=botsort.yaml, save_dir=YOLOv8/yolov8s_experiment3\n",
            "\n",
            "                   from  n    params  module                                       arguments                     \n",
            "  0                  -1  1       928  ultralytics.nn.modules.conv.Conv             [3, 32, 3, 2]                 \n",
            "  1                  -1  1     18560  ultralytics.nn.modules.conv.Conv             [32, 64, 3, 2]                \n",
            "  2                  -1  1     29056  ultralytics.nn.modules.block.C2f             [64, 64, 1, True]             \n",
            "  3                  -1  1     73984  ultralytics.nn.modules.conv.Conv             [64, 128, 3, 2]               \n",
            "  4                  -1  2    197632  ultralytics.nn.modules.block.C2f             [128, 128, 2, True]           \n",
            "  5                  -1  1    295424  ultralytics.nn.modules.conv.Conv             [128, 256, 3, 2]              \n",
            "  6                  -1  2    788480  ultralytics.nn.modules.block.C2f             [256, 256, 2, True]           \n",
            "  7                  -1  1   1180672  ultralytics.nn.modules.conv.Conv             [256, 512, 3, 2]              \n",
            "  8                  -1  1   1838080  ultralytics.nn.modules.block.C2f             [512, 512, 1, True]           \n",
            "  9                  -1  1    656896  ultralytics.nn.modules.block.SPPF            [512, 512, 5]                 \n",
            " 10                  -1  1         0  torch.nn.modules.upsampling.Upsample         [None, 2, 'nearest']          \n",
            " 11             [-1, 6]  1         0  ultralytics.nn.modules.conv.Concat           [1]                           \n",
            " 12                  -1  1    591360  ultralytics.nn.modules.block.C2f             [768, 256, 1]                 \n",
            " 13                  -1  1         0  torch.nn.modules.upsampling.Upsample         [None, 2, 'nearest']          \n",
            " 14             [-1, 4]  1         0  ultralytics.nn.modules.conv.Concat           [1]                           \n",
            " 15                  -1  1    148224  ultralytics.nn.modules.block.C2f             [384, 128, 1]                 \n",
            " 16                  -1  1    147712  ultralytics.nn.modules.conv.Conv             [128, 128, 3, 2]              \n",
            " 17            [-1, 12]  1         0  ultralytics.nn.modules.conv.Concat           [1]                           \n",
            " 18                  -1  1    493056  ultralytics.nn.modules.block.C2f             [384, 256, 1]                 \n",
            " 19                  -1  1    590336  ultralytics.nn.modules.conv.Conv             [256, 256, 3, 2]              \n",
            " 20             [-1, 9]  1         0  ultralytics.nn.modules.conv.Concat           [1]                           \n",
            " 21                  -1  1   1969152  ultralytics.nn.modules.block.C2f             [768, 512, 1]                 \n",
            " 22        [15, 18, 21]  1    839532  ultralytics.nn.modules.head.Detect           [52, [128, 256, 512]]         \n",
            "Model summary: 249 layers, 9,859,084 parameters, 9,859,068 gradients, 23.7 GFLOPs\n",
            "\n",
            "Transferred 391/391 items from pretrained weights\n",
            "\u001b[34m\u001b[1mTensorBoard: \u001b[0mStart with 'tensorboard --logdir YOLOv8/yolov8s_experiment3', view at http://localhost:6006/\n",
            "Freezing layer 'model.22.dfl.conv.weight'\n",
            "\u001b[34m\u001b[1mAMP: \u001b[0mrunning Automatic Mixed Precision (AMP) checks with YOLO11n...\n",
            "\u001b[34m\u001b[1mAMP: \u001b[0mchecks passed ✅\n"
          ]
        },
        {
          "output_type": "stream",
          "name": "stderr",
          "text": [
            "\u001b[34m\u001b[1mtrain: \u001b[0mScanning /content/drive/My Drive/Dataset/train/labels.cache... 7943 images, 0 backgrounds, 0 corrupt: 100%|██████████| 7943/7943 [00:00<?, ?it/s]"
          ]
        },
        {
          "output_type": "stream",
          "name": "stdout",
          "text": [
            "WARNING ⚠️ Box and segment counts should be equal, but got len(segments) = 11, len(boxes) = 24227. To resolve this only boxes will be used and all segments will be removed. To avoid this please supply either a detect or segment dataset, not a detect-segment mixed dataset.\n",
            "\u001b[34m\u001b[1malbumentations: \u001b[0mBlur(p=0.01, blur_limit=(3, 7)), MedianBlur(p=0.01, blur_limit=(3, 7)), ToGray(p=0.01, num_output_channels=3, method='weighted_average'), CLAHE(p=0.01, clip_limit=(1, 4.0), tile_grid_size=(8, 8))\n"
          ]
        },
        {
          "output_type": "stream",
          "name": "stderr",
          "text": [
            "\n",
            "\u001b[34m\u001b[1mval: \u001b[0mScanning /content/drive/My Drive/Dataset/valid/labels.cache... 1261 images, 0 backgrounds, 0 corrupt: 100%|██████████| 1261/1261 [00:00<?, ?it/s]\n"
          ]
        },
        {
          "output_type": "stream",
          "name": "stdout",
          "text": [
            "Plotting labels to YOLOv8/yolov8s_experiment3/labels.jpg... \n",
            "\u001b[34m\u001b[1moptimizer:\u001b[0m 'optimizer=auto' found, ignoring 'lr0=0.01' and 'momentum=0.937' and determining best 'optimizer', 'lr0' and 'momentum' automatically... \n",
            "\u001b[34m\u001b[1moptimizer:\u001b[0m AdamW(lr=0.000179, momentum=0.9) with parameter groups 63 weight(decay=0.0), 70 weight(decay=0.0005), 69 bias(decay=0.0)\n",
            "\u001b[34m\u001b[1mTensorBoard: \u001b[0mmodel graph visualization added ✅\n",
            "Image sizes 416 train, 416 val\n",
            "Using 2 dataloader workers\n",
            "Logging results to \u001b[1mYOLOv8/yolov8s_experiment3\u001b[0m\n",
            "Starting training for 5 epochs...\n",
            "\n",
            "      Epoch    GPU_mem   box_loss   cls_loss   dfl_loss  Instances       Size\n"
          ]
        },
        {
          "output_type": "stream",
          "name": "stderr",
          "text": [
            "        1/5      2.46G     0.6371     0.4724     0.9144         21        416: 100%|██████████| 497/497 [02:50<00:00,  2.91it/s]\n",
            "                 Class     Images  Instances      Box(P          R      mAP50  mAP50-95): 100%|██████████| 40/40 [00:14<00:00,  2.70it/s]"
          ]
        },
        {
          "output_type": "stream",
          "name": "stdout",
          "text": [
            "                   all       1261       3261      0.869      0.886      0.868      0.693\n"
          ]
        },
        {
          "output_type": "stream",
          "name": "stderr",
          "text": [
            "\n"
          ]
        },
        {
          "output_type": "stream",
          "name": "stdout",
          "text": [
            "\n",
            "      Epoch    GPU_mem   box_loss   cls_loss   dfl_loss  Instances       Size\n"
          ]
        },
        {
          "output_type": "stream",
          "name": "stderr",
          "text": [
            "        2/5       2.4G     0.5965     0.4466     0.9013         22        416: 100%|██████████| 497/497 [02:27<00:00,  3.37it/s]\n",
            "                 Class     Images  Instances      Box(P          R      mAP50  mAP50-95): 100%|██████████| 40/40 [00:12<00:00,  3.30it/s]"
          ]
        },
        {
          "output_type": "stream",
          "name": "stdout",
          "text": [
            "                   all       1261       3261      0.879      0.897      0.876      0.696\n"
          ]
        },
        {
          "output_type": "stream",
          "name": "stderr",
          "text": [
            "\n"
          ]
        },
        {
          "output_type": "stream",
          "name": "stdout",
          "text": [
            "\n",
            "      Epoch    GPU_mem   box_loss   cls_loss   dfl_loss  Instances       Size\n"
          ]
        },
        {
          "output_type": "stream",
          "name": "stderr",
          "text": [
            "        3/5      2.41G     0.6015       0.45     0.9021         36        416: 100%|██████████| 497/497 [02:30<00:00,  3.29it/s]\n",
            "                 Class     Images  Instances      Box(P          R      mAP50  mAP50-95): 100%|██████████| 40/40 [00:13<00:00,  2.98it/s]\n"
          ]
        },
        {
          "output_type": "stream",
          "name": "stdout",
          "text": [
            "                   all       1261       3261      0.896       0.89      0.875      0.689\n",
            "\n",
            "      Epoch    GPU_mem   box_loss   cls_loss   dfl_loss  Instances       Size\n"
          ]
        },
        {
          "output_type": "stream",
          "name": "stderr",
          "text": [
            "        4/5      2.41G     0.6191     0.4543     0.9068         43        416: 100%|██████████| 497/497 [02:24<00:00,  3.43it/s]\n",
            "                 Class     Images  Instances      Box(P          R      mAP50  mAP50-95): 100%|██████████| 40/40 [00:13<00:00,  3.04it/s]\n"
          ]
        },
        {
          "output_type": "stream",
          "name": "stdout",
          "text": [
            "                   all       1261       3261      0.881      0.895      0.867      0.689\n",
            "\n",
            "      Epoch    GPU_mem   box_loss   cls_loss   dfl_loss  Instances       Size\n"
          ]
        },
        {
          "output_type": "stream",
          "name": "stderr",
          "text": [
            "        5/5      2.33G     0.6491     0.4655      0.918         13        416: 100%|██████████| 497/497 [02:28<00:00,  3.36it/s]\n",
            "                 Class     Images  Instances      Box(P          R      mAP50  mAP50-95): 100%|██████████| 40/40 [00:13<00:00,  2.99it/s]\n"
          ]
        },
        {
          "output_type": "stream",
          "name": "stdout",
          "text": [
            "                   all       1261       3261       0.89      0.871      0.868        0.7\n",
            "\n",
            "5 epochs completed in 0.235 hours.\n",
            "Optimizer stripped from YOLOv8/yolov8s_experiment3/weights/last.pt, 19.9MB\n",
            "Optimizer stripped from YOLOv8/yolov8s_experiment3/weights/best.pt, 19.9MB\n",
            "\n",
            "Validating YOLOv8/yolov8s_experiment3/weights/best.pt...\n",
            "Ultralytics 8.3.13 🚀 Python-3.10.12 torch-2.4.1+cu121 CUDA:0 (Tesla T4, 15102MiB)\n",
            "Model summary (fused): 186 layers, 9,847,788 parameters, 0 gradients, 23.5 GFLOPs\n"
          ]
        },
        {
          "output_type": "stream",
          "name": "stderr",
          "text": [
            "                 Class     Images  Instances      Box(P          R      mAP50  mAP50-95): 100%|██████████| 40/40 [00:16<00:00,  2.39it/s]\n"
          ]
        },
        {
          "output_type": "stream",
          "name": "stdout",
          "text": [
            "                   all       1261       3261       0.89       0.87      0.868        0.7\n",
            " Complan Classic Creme         36         36          1          0          0          0\n",
            "   Complan Kesar Badam         61         90      0.682          1      0.689      0.606\n",
            "Complan Nutrigro Badam Kheer         17         17      0.984          1      0.995      0.879\n",
            "   Complan Pista Badam          9          9      0.885          1      0.995      0.817\n",
            "Complan Royal Chocolate         32         65      0.862      0.867      0.934      0.792\n",
            "EY AAAM TULSI TURMERIC FACEWASH50G        160        163      0.919     0.0368     0.0722     0.0593\n",
            "EY ADVANCED GOLDEN GLOW PEEL OFF M- 50G         12         12      0.972          1      0.995      0.782\n",
            "EY ADVANCED GOLDEN GLOW PEEL OFF M- 90G         13         13       0.97          1      0.995      0.796\n",
            "EY EXF WALNUT SCRUB AYR 200G         22         27      0.944      0.963      0.985      0.734\n",
            "EY HALDICHANDAN FP HF POWDER 25G         13         13      0.976          1      0.995      0.987\n",
            "EY HYD-EXF WALNT APR SCRUB AYR100G         14         15      0.935      0.968      0.991      0.852\n",
            "EY HYDR - EXF WALNUT APRICOT SCRUB 50G          3          3          1      0.966      0.995      0.813\n",
            "EY NAT GLOW ORANGE PEEL OFF AY 90G         25         35      0.995          1      0.995      0.774\n",
            "EY NATURALS NEEM FACE WASH AY 50G         24         59      0.855      0.983      0.943      0.566\n",
            "EY RJ CUCUMBER ALOEVERA FACEPAK50G         19         19      0.976          1      0.995      0.788\n",
            "EY TAN CHOCO CHERRY PACK 50G         16         16      0.705      0.875      0.897      0.781\n",
            "EY_SCR_PURIFYING_EXFOLTNG_NEEM_PAPAYA_50G         11         11      0.927          1      0.995       0.89\n",
            "Everyuth Naturals Body Lotion Nourishing Cocoa 200ml         55         89      0.975          1      0.995      0.725\n",
            "Everyuth Naturals Body Lotion Rejuvenating Flora 200ml         67         84      0.998          1      0.995      0.737\n",
            "Everyuth Naturals Body Lotion Soothing Citrus 200ml         58         58      0.983      0.993      0.995      0.805\n",
            "Everyuth Naturals Body Lotion Sun Care Berries SPF 15 200ml         67         80      0.997      0.988      0.995      0.758\n",
            "   Glucon D Nimbu Pani         79        250      0.956      0.522      0.824      0.574\n",
            "Glucon D Nimbu Pani 1-KG          1          1          0          0     0.0105    0.00838\n",
            "      Glucon D Regular         71        323       0.92      0.638      0.846      0.566\n",
            " Glucon D Regular 1-KG         18         21      0.234       0.81      0.261      0.221\n",
            " Glucon D Regular 2-KG         17         17      0.701      0.882       0.71      0.636\n",
            " Glucon D Tangy orange         92        208      0.952      0.662      0.893       0.64\n",
            "Nutralite ACHARI MAYO 300g-275g-25g-         34         50      0.991          1      0.995      0.827\n",
            "Nutralite ACHARI MAYO 30g         14         14      0.977          1      0.995      0.909\n",
            "Nutralite CHEESY GARLIC MAYO 300g-275g-25g-         36         51      0.985      0.863      0.882      0.717\n",
            "Nutralite CHEESY GARLIC MAYO 30g         13         13      0.982          1      0.995      0.871\n",
            "Nutralite CHOCO SPREAD CALCIUM 275g         27         27      0.989          1      0.995      0.858\n",
            "Nutralite DOODHSHAKTHI PURE GHEE 1L         14         14      0.981          1      0.995       0.94\n",
            "Nutralite TANDOORI MAYO 300g-275g-25g-         36         54       0.96          1      0.986      0.807\n",
            "Nutralite TANDOORI MAYO 30g         15         15       0.98          1      0.995      0.919\n",
            "Nutralite VEG MAYO 300g-275g-25g-         30         36      0.993          1      0.995      0.804\n",
            "Nycil Prickly Heat Powder         39        123      0.895      0.626       0.92      0.709\n",
            "SUGAR FREE GOLD 500 PELLET         48         79      0.997          1      0.995      0.771\n",
            "SUGAR FREE GOLD POWDER 100GM         49         65       0.92      0.938      0.979       0.76\n",
            "SUGAR FREE GOLD SACHET 50         13         22      0.568      0.599      0.738      0.519\n",
            "SUGAR FREE GOLD SACHET 50 SUGAR FREE GOLD SACHET 50          6          6      0.492      0.808      0.497      0.393\n",
            "SUGAR FREE GRN 300 PELLET         31         37          1      0.941      0.995      0.696\n",
            "SUGAR FREE NATURA 500 PELLET        103        151      0.993       0.99      0.994      0.787\n",
            "SUGAR FREE NATURA DIET SUGAR         42         58      0.992      0.966      0.993      0.759\n",
            "SUGAR FREE NATURA DIET SUGAR 80GM          4          4      0.634          1      0.663      0.482\n",
            "SUGAR FREE NATURA SACHET 50         41         65          1       0.87      0.894       0.71\n",
            "SUGAR FREE NATURA SWEET DROPS         36         36      0.964      0.972      0.994      0.794\n",
            "SUGAR FREE NATURA_ POWDER_CONC_100G         27         30      0.952        0.8      0.974      0.785\n",
            "SUGAR FREE_GRN_ POWDER_CONC_100G         29         29      0.972      0.966      0.967      0.795\n",
            "  SUGARLITE POUCH 500G        193        548      0.979      0.999      0.984      0.782\n",
            "Speed: 0.1ms preprocess, 2.2ms inference, 0.0ms loss, 2.8ms postprocess per image\n",
            "Results saved to \u001b[1mYOLOv8/yolov8s_experiment3\u001b[0m\n"
          ]
        }
      ]
    },
    {
      "cell_type": "code",
      "source": [
        "model6 = YOLO('/content/drive/My Drive/Dataset/YOLO/model_7.pt')\n",
        "\n",
        "# Resume training for 5 more epochs\n",
        "try:\n",
        "  model6.train(\n",
        "      data=\"/content/drive/My Drive/Dataset/drivedata.yaml\",  # Path to your dataset config\n",
        "      epochs=10,   # Continue training for 5 more epochs\n",
        "      batch=16,\n",
        "      imgsz=416,\n",
        "      device=0,\n",
        "      #resume=True,  # This ensures it resumes from the last checkpoint\n",
        "      project='YOLOv8',\n",
        "      name='yolov8s_experiment',\n",
        "      save=True\n",
        ")\n",
        "except KeyboardInterrupt:\n",
        "    model6.save('/content/drive/My Drive/Dataset/YOLO/model_8.pt')\n",
        "    print(\"Training interrupted, model saved.\")\n",
        "\n",
        "model6.save('/content/drive/My Drive/Dataset/YOLO/model_8.pt')"
      ],
      "metadata": {
        "id": "CehLVD_Dljdj",
        "colab": {
          "base_uri": "https://localhost:8080/",
          "height": 1000,
          "referenced_widgets": [
            "ced96bac94784897a4fdf22313254144",
            "e377798e8b3444b5ab9bc7836cdf46b9",
            "8e6771b9882247cfb59d6fe6ea852804",
            "0e180a982e3c47a48cdc641a85aee77f",
            "a38b866acaba4639b12661f985c59339",
            "9b4ccd862dcc47e49a2890f59e2a8706",
            "8abf19c7a17c456aae92bf2307de0b53",
            "4d7f58bca8ca4e30bd54d22ff19c15a5"
          ]
        },
        "outputId": "8a028755-8b3b-4d0c-8abe-602f2998422c"
      },
      "execution_count": null,
      "outputs": [
        {
          "output_type": "stream",
          "name": "stdout",
          "text": [
            "Ultralytics 8.3.17 🚀 Python-3.10.12 torch-2.4.1+cu121 CUDA:0 (Tesla T4, 15102MiB)\n",
            "\u001b[34m\u001b[1mengine/trainer: \u001b[0mtask=detect, mode=train, model=/content/drive/My Drive/Dataset/YOLO/model_7.pt, data=/content/drive/My Drive/Dataset/drivedata.yaml, epochs=10, time=None, patience=100, batch=16, imgsz=416, save=True, save_period=-1, cache=False, device=0, workers=8, project=YOLOv8, name=yolov8s_experiment, exist_ok=False, pretrained=True, optimizer=auto, verbose=True, seed=0, deterministic=True, single_cls=False, rect=False, cos_lr=False, close_mosaic=10, resume=False, amp=True, fraction=1.0, profile=False, freeze=None, multi_scale=False, overlap_mask=True, mask_ratio=4, dropout=0.0, val=True, split=val, save_json=False, save_hybrid=False, conf=None, iou=0.7, max_det=300, half=False, dnn=False, plots=True, source=None, vid_stride=1, stream_buffer=False, visualize=False, augment=False, agnostic_nms=False, classes=None, retina_masks=False, embed=None, show=False, save_frames=False, save_txt=False, save_conf=False, save_crop=False, show_labels=True, show_conf=True, show_boxes=True, line_width=None, format=torchscript, keras=False, optimize=False, int8=False, dynamic=False, simplify=True, opset=None, workspace=4, nms=False, lr0=0.01, lrf=0.01, momentum=0.937, weight_decay=0.0005, warmup_epochs=3.0, warmup_momentum=0.8, warmup_bias_lr=0.1, box=7.5, cls=0.5, dfl=1.5, pose=12.0, kobj=1.0, label_smoothing=0.0, nbs=64, hsv_h=0.015, hsv_s=0.7, hsv_v=0.4, degrees=0.0, translate=0.1, scale=0.5, shear=0.0, perspective=0.0, flipud=0.0, fliplr=0.5, bgr=0.0, mosaic=1.0, mixup=0.0, copy_paste=0.0, copy_paste_mode=flip, auto_augment=randaugment, erasing=0.4, crop_fraction=1.0, cfg=None, tracker=botsort.yaml, save_dir=YOLOv8/yolov8s_experiment\n",
            "Downloading https://ultralytics.com/assets/Arial.ttf to '/root/.config/Ultralytics/Arial.ttf'...\n"
          ]
        },
        {
          "output_type": "stream",
          "name": "stderr",
          "text": [
            "100%|██████████| 755k/755k [00:00<00:00, 24.0MB/s]\n"
          ]
        },
        {
          "output_type": "stream",
          "name": "stdout",
          "text": [
            "\n",
            "                   from  n    params  module                                       arguments                     \n",
            "  0                  -1  1       928  ultralytics.nn.modules.conv.Conv             [3, 32, 3, 2]                 \n",
            "  1                  -1  1     18560  ultralytics.nn.modules.conv.Conv             [32, 64, 3, 2]                \n",
            "  2                  -1  1     29056  ultralytics.nn.modules.block.C2f             [64, 64, 1, True]             \n",
            "  3                  -1  1     73984  ultralytics.nn.modules.conv.Conv             [64, 128, 3, 2]               \n",
            "  4                  -1  2    197632  ultralytics.nn.modules.block.C2f             [128, 128, 2, True]           \n",
            "  5                  -1  1    295424  ultralytics.nn.modules.conv.Conv             [128, 256, 3, 2]              \n",
            "  6                  -1  2    788480  ultralytics.nn.modules.block.C2f             [256, 256, 2, True]           \n",
            "  7                  -1  1   1180672  ultralytics.nn.modules.conv.Conv             [256, 512, 3, 2]              \n",
            "  8                  -1  1   1838080  ultralytics.nn.modules.block.C2f             [512, 512, 1, True]           \n",
            "  9                  -1  1    656896  ultralytics.nn.modules.block.SPPF            [512, 512, 5]                 \n",
            " 10                  -1  1         0  torch.nn.modules.upsampling.Upsample         [None, 2, 'nearest']          \n",
            " 11             [-1, 6]  1         0  ultralytics.nn.modules.conv.Concat           [1]                           \n",
            " 12                  -1  1    591360  ultralytics.nn.modules.block.C2f             [768, 256, 1]                 \n",
            " 13                  -1  1         0  torch.nn.modules.upsampling.Upsample         [None, 2, 'nearest']          \n",
            " 14             [-1, 4]  1         0  ultralytics.nn.modules.conv.Concat           [1]                           \n",
            " 15                  -1  1    148224  ultralytics.nn.modules.block.C2f             [384, 128, 1]                 \n",
            " 16                  -1  1    147712  ultralytics.nn.modules.conv.Conv             [128, 128, 3, 2]              \n",
            " 17            [-1, 12]  1         0  ultralytics.nn.modules.conv.Concat           [1]                           \n",
            " 18                  -1  1    493056  ultralytics.nn.modules.block.C2f             [384, 256, 1]                 \n",
            " 19                  -1  1    590336  ultralytics.nn.modules.conv.Conv             [256, 256, 3, 2]              \n",
            " 20             [-1, 9]  1         0  ultralytics.nn.modules.conv.Concat           [1]                           \n",
            " 21                  -1  1   1969152  ultralytics.nn.modules.block.C2f             [768, 512, 1]                 \n",
            " 22        [15, 18, 21]  1   2136172  ultralytics.nn.modules.head.Detect           [52, [128, 256, 512]]         \n",
            "Model summary: 225 layers, 11,155,724 parameters, 11,155,708 gradients, 28.8 GFLOPs\n",
            "\n",
            "Transferred 319/355 items from pretrained weights\n",
            "\u001b[34m\u001b[1mTensorBoard: \u001b[0mStart with 'tensorboard --logdir YOLOv8/yolov8s_experiment', view at http://localhost:6006/\n"
          ]
        },
        {
          "output_type": "stream",
          "name": "stderr",
          "text": [
            "\u001b[34m\u001b[1mwandb\u001b[0m: Using wandb-core as the SDK backend. Please refer to https://wandb.me/wandb-core for more information.\n"
          ]
        },
        {
          "output_type": "display_data",
          "data": {
            "text/plain": [
              "<IPython.core.display.Javascript object>"
            ],
            "application/javascript": [
              "\n",
              "        window._wandbApiKey = new Promise((resolve, reject) => {\n",
              "            function loadScript(url) {\n",
              "            return new Promise(function(resolve, reject) {\n",
              "                let newScript = document.createElement(\"script\");\n",
              "                newScript.onerror = reject;\n",
              "                newScript.onload = resolve;\n",
              "                document.body.appendChild(newScript);\n",
              "                newScript.src = url;\n",
              "            });\n",
              "            }\n",
              "            loadScript(\"https://cdn.jsdelivr.net/npm/postmate/build/postmate.min.js\").then(() => {\n",
              "            const iframe = document.createElement('iframe')\n",
              "            iframe.style.cssText = \"width:0;height:0;border:none\"\n",
              "            document.body.appendChild(iframe)\n",
              "            const handshake = new Postmate({\n",
              "                container: iframe,\n",
              "                url: 'https://wandb.ai/authorize'\n",
              "            });\n",
              "            const timeout = setTimeout(() => reject(\"Couldn't auto authenticate\"), 5000)\n",
              "            handshake.then(function(child) {\n",
              "                child.on('authorize', data => {\n",
              "                    clearTimeout(timeout)\n",
              "                    resolve(data)\n",
              "                });\n",
              "            });\n",
              "            })\n",
              "        });\n",
              "    "
            ]
          },
          "metadata": {}
        },
        {
          "output_type": "stream",
          "name": "stderr",
          "text": [
            "\u001b[34m\u001b[1mwandb\u001b[0m: Appending key for api.wandb.ai to your netrc file: /root/.netrc\n"
          ]
        },
        {
          "output_type": "display_data",
          "data": {
            "text/plain": [
              "<IPython.core.display.HTML object>"
            ],
            "text/html": [
              "Tracking run with wandb version 0.18.3"
            ]
          },
          "metadata": {}
        },
        {
          "output_type": "display_data",
          "data": {
            "text/plain": [
              "<IPython.core.display.HTML object>"
            ],
            "text/html": [
              "Run data is saved locally in <code>/content/wandb/run-20241019_125312-972a4ezl</code>"
            ]
          },
          "metadata": {}
        },
        {
          "output_type": "display_data",
          "data": {
            "text/plain": [
              "<IPython.core.display.HTML object>"
            ],
            "text/html": [
              "Syncing run <strong><a href='https://wandb.ai/me23btech11038-iit-hyderabad/YOLOv8/runs/972a4ezl' target=\"_blank\">yolov8s_experiment</a></strong> to <a href='https://wandb.ai/me23btech11038-iit-hyderabad/YOLOv8' target=\"_blank\">Weights & Biases</a> (<a href='https://wandb.me/run' target=\"_blank\">docs</a>)<br/>"
            ]
          },
          "metadata": {}
        },
        {
          "output_type": "display_data",
          "data": {
            "text/plain": [
              "<IPython.core.display.HTML object>"
            ],
            "text/html": [
              " View project at <a href='https://wandb.ai/me23btech11038-iit-hyderabad/YOLOv8' target=\"_blank\">https://wandb.ai/me23btech11038-iit-hyderabad/YOLOv8</a>"
            ]
          },
          "metadata": {}
        },
        {
          "output_type": "display_data",
          "data": {
            "text/plain": [
              "<IPython.core.display.HTML object>"
            ],
            "text/html": [
              " View run at <a href='https://wandb.ai/me23btech11038-iit-hyderabad/YOLOv8/runs/972a4ezl' target=\"_blank\">https://wandb.ai/me23btech11038-iit-hyderabad/YOLOv8/runs/972a4ezl</a>"
            ]
          },
          "metadata": {}
        },
        {
          "output_type": "stream",
          "name": "stdout",
          "text": [
            "Freezing layer 'model.22.dfl.conv.weight'\n",
            "\u001b[34m\u001b[1mAMP: \u001b[0mrunning Automatic Mixed Precision (AMP) checks with YOLO11n...\n",
            "Downloading https://github.com/ultralytics/assets/releases/download/v8.3.0/yolo11n.pt to 'yolo11n.pt'...\n"
          ]
        },
        {
          "output_type": "stream",
          "name": "stderr",
          "text": [
            "100%|██████████| 5.35M/5.35M [00:00<00:00, 97.0MB/s]\n"
          ]
        },
        {
          "output_type": "stream",
          "name": "stdout",
          "text": [
            "\u001b[34m\u001b[1mAMP: \u001b[0mchecks passed ✅\n"
          ]
        },
        {
          "output_type": "stream",
          "name": "stderr",
          "text": [
            "\u001b[34m\u001b[1mtrain: \u001b[0mScanning /content/drive/My Drive/Dataset/train/labels.cache... 7943 images, 0 backgrounds, 0 corrupt: 100%|██████████| 7943/7943 [00:00<?, ?it/s]"
          ]
        },
        {
          "output_type": "stream",
          "name": "stdout",
          "text": [
            "WARNING ⚠️ Box and segment counts should be equal, but got len(segments) = 11, len(boxes) = 24227. To resolve this only boxes will be used and all segments will be removed. To avoid this please supply either a detect or segment dataset, not a detect-segment mixed dataset.\n"
          ]
        },
        {
          "output_type": "stream",
          "name": "stderr",
          "text": [
            "\n"
          ]
        },
        {
          "output_type": "stream",
          "name": "stdout",
          "text": [
            "\u001b[34m\u001b[1malbumentations: \u001b[0mBlur(p=0.01, blur_limit=(3, 7)), MedianBlur(p=0.01, blur_limit=(3, 7)), ToGray(p=0.01, num_output_channels=3, method='weighted_average'), CLAHE(p=0.01, clip_limit=(1, 4.0), tile_grid_size=(8, 8))\n"
          ]
        },
        {
          "output_type": "stream",
          "name": "stderr",
          "text": [
            "/usr/local/lib/python3.10/dist-packages/albumentations/__init__.py:13: UserWarning: A new version of Albumentations is available: 1.4.18 (you have 1.4.15). Upgrade using: pip install -U albumentations. To disable automatic update checks, set the environment variable NO_ALBUMENTATIONS_UPDATE to 1.\n",
            "  check_for_updates()\n",
            "\u001b[34m\u001b[1mval: \u001b[0mScanning /content/drive/My Drive/Dataset/valid/labels.cache... 1261 images, 0 backgrounds, 0 corrupt: 100%|██████████| 1261/1261 [00:00<?, ?it/s]\n"
          ]
        },
        {
          "output_type": "stream",
          "name": "stdout",
          "text": [
            "Plotting labels to YOLOv8/yolov8s_experiment/labels.jpg... \n",
            "\u001b[34m\u001b[1moptimizer:\u001b[0m 'optimizer=auto' found, ignoring 'lr0=0.01' and 'momentum=0.937' and determining best 'optimizer', 'lr0' and 'momentum' automatically... \n",
            "\u001b[34m\u001b[1moptimizer:\u001b[0m AdamW(lr=0.000179, momentum=0.9) with parameter groups 57 weight(decay=0.0), 64 weight(decay=0.0005), 63 bias(decay=0.0)\n",
            "\u001b[34m\u001b[1mTensorBoard: \u001b[0mmodel graph visualization added ✅\n",
            "Image sizes 416 train, 416 val\n",
            "Using 2 dataloader workers\n",
            "Logging results to \u001b[1mYOLOv8/yolov8s_experiment\u001b[0m\n",
            "Starting training for 10 epochs...\n",
            "Closing dataloader mosaic\n",
            "\u001b[34m\u001b[1malbumentations: \u001b[0mBlur(p=0.01, blur_limit=(3, 7)), MedianBlur(p=0.01, blur_limit=(3, 7)), ToGray(p=0.01, num_output_channels=3, method='weighted_average'), CLAHE(p=0.01, clip_limit=(1, 4.0), tile_grid_size=(8, 8))\n",
            "\n",
            "      Epoch    GPU_mem   box_loss   cls_loss   dfl_loss  Instances       Size\n"
          ]
        },
        {
          "output_type": "stream",
          "name": "stderr",
          "text": [
            "       1/10      1.93G     0.7633      2.214     0.9332         11        416: 100%|██████████| 497/497 [31:45<00:00,  3.83s/it]\n",
            "                 Class     Images  Instances      Box(P          R      mAP50  mAP50-95): 100%|██████████| 40/40 [01:05<00:00,  1.63s/it]"
          ]
        },
        {
          "output_type": "stream",
          "name": "stdout",
          "text": [
            "                   all       1261       3261      0.847      0.804      0.826      0.666\n"
          ]
        },
        {
          "output_type": "stream",
          "name": "stderr",
          "text": [
            "\n"
          ]
        },
        {
          "output_type": "stream",
          "name": "stdout",
          "text": [
            "\n",
            "      Epoch    GPU_mem   box_loss   cls_loss   dfl_loss  Instances       Size\n"
          ]
        },
        {
          "output_type": "stream",
          "name": "stderr",
          "text": [
            "       2/10      1.89G     0.7686     0.7256     0.9461         30        416: 100%|██████████| 497/497 [02:09<00:00,  3.83it/s]\n",
            "                 Class     Images  Instances      Box(P          R      mAP50  mAP50-95): 100%|██████████| 40/40 [00:11<00:00,  3.48it/s]\n"
          ]
        },
        {
          "output_type": "stream",
          "name": "stdout",
          "text": [
            "                   all       1261       3261      0.896      0.869      0.876      0.707\n",
            "\n",
            "      Epoch    GPU_mem   box_loss   cls_loss   dfl_loss  Instances       Size\n"
          ]
        },
        {
          "output_type": "stream",
          "name": "stderr",
          "text": [
            "       3/10       1.9G      0.778     0.6579     0.9584         25        416: 100%|██████████| 497/497 [02:04<00:00,  3.99it/s]\n",
            "                 Class     Images  Instances      Box(P          R      mAP50  mAP50-95): 100%|██████████| 40/40 [00:13<00:00,  3.04it/s]\n"
          ]
        },
        {
          "output_type": "stream",
          "name": "stdout",
          "text": [
            "                   all       1261       3261      0.904      0.848       0.89      0.716\n",
            "\n",
            "      Epoch    GPU_mem   box_loss   cls_loss   dfl_loss  Instances       Size\n"
          ]
        },
        {
          "output_type": "stream",
          "name": "stderr",
          "text": [
            "       4/10      1.89G     0.7716     0.6211     0.9575         27        416: 100%|██████████| 497/497 [02:01<00:00,  4.08it/s]\n",
            "                 Class     Images  Instances      Box(P          R      mAP50  mAP50-95): 100%|██████████| 40/40 [00:13<00:00,  2.98it/s]\n"
          ]
        },
        {
          "output_type": "stream",
          "name": "stdout",
          "text": [
            "                   all       1261       3261      0.871      0.899      0.887      0.715\n",
            "\n",
            "      Epoch    GPU_mem   box_loss   cls_loss   dfl_loss  Instances       Size\n"
          ]
        },
        {
          "output_type": "stream",
          "name": "stderr",
          "text": [
            "       5/10      1.88G     0.7638     0.5795     0.9549         32        416: 100%|██████████| 497/497 [02:00<00:00,  4.14it/s]\n",
            "                 Class     Images  Instances      Box(P          R      mAP50  mAP50-95): 100%|██████████| 40/40 [00:13<00:00,  2.91it/s]\n"
          ]
        },
        {
          "output_type": "stream",
          "name": "stdout",
          "text": [
            "                   all       1261       3261      0.882      0.906      0.882      0.716\n",
            "\n",
            "      Epoch    GPU_mem   box_loss   cls_loss   dfl_loss  Instances       Size\n"
          ]
        },
        {
          "output_type": "stream",
          "name": "stderr",
          "text": [
            "       6/10      1.89G     0.7519      0.556     0.9513         32        416: 100%|██████████| 497/497 [01:59<00:00,  4.17it/s]\n",
            "                 Class     Images  Instances      Box(P          R      mAP50  mAP50-95): 100%|██████████| 40/40 [00:13<00:00,  2.99it/s]\n"
          ]
        },
        {
          "output_type": "stream",
          "name": "stdout",
          "text": [
            "                   all       1261       3261      0.882      0.904      0.883       0.72\n",
            "\n",
            "      Epoch    GPU_mem   box_loss   cls_loss   dfl_loss  Instances       Size\n"
          ]
        },
        {
          "output_type": "stream",
          "name": "stderr",
          "text": [
            "       7/10      1.88G     0.7394       0.52     0.9452         12        416: 100%|██████████| 497/497 [02:00<00:00,  4.13it/s]\n",
            "                 Class     Images  Instances      Box(P          R      mAP50  mAP50-95): 100%|██████████| 40/40 [00:13<00:00,  2.93it/s]\n"
          ]
        },
        {
          "output_type": "stream",
          "name": "stdout",
          "text": [
            "                   all       1261       3261      0.865      0.912      0.897      0.736\n",
            "\n",
            "      Epoch    GPU_mem   box_loss   cls_loss   dfl_loss  Instances       Size\n"
          ]
        },
        {
          "output_type": "stream",
          "name": "stderr",
          "text": [
            "       8/10      1.89G     0.7311     0.5018     0.9399         21        416: 100%|██████████| 497/497 [02:00<00:00,  4.11it/s]\n",
            "                 Class     Images  Instances      Box(P          R      mAP50  mAP50-95): 100%|██████████| 40/40 [00:13<00:00,  2.89it/s]\n"
          ]
        },
        {
          "output_type": "stream",
          "name": "stdout",
          "text": [
            "                   all       1261       3261      0.873      0.918      0.897      0.736\n",
            "\n",
            "      Epoch    GPU_mem   box_loss   cls_loss   dfl_loss  Instances       Size\n"
          ]
        },
        {
          "output_type": "stream",
          "name": "stderr",
          "text": [
            "       9/10       1.9G     0.7225     0.4838     0.9378         30        416: 100%|██████████| 497/497 [01:59<00:00,  4.16it/s]\n",
            "                 Class     Images  Instances      Box(P          R      mAP50  mAP50-95): 100%|██████████| 40/40 [00:12<00:00,  3.17it/s]\n"
          ]
        },
        {
          "output_type": "stream",
          "name": "stdout",
          "text": [
            "                   all       1261       3261      0.866       0.92      0.896      0.738\n",
            "\n",
            "      Epoch    GPU_mem   box_loss   cls_loss   dfl_loss  Instances       Size\n"
          ]
        },
        {
          "output_type": "stream",
          "name": "stderr",
          "text": [
            "      10/10      1.88G      0.712     0.4693     0.9353         25        416: 100%|██████████| 497/497 [02:00<00:00,  4.12it/s]\n",
            "                 Class     Images  Instances      Box(P          R      mAP50  mAP50-95): 100%|██████████| 40/40 [00:12<00:00,  3.18it/s]\n"
          ]
        },
        {
          "output_type": "stream",
          "name": "stdout",
          "text": [
            "                   all       1261       3261      0.871      0.908       0.89      0.736\n",
            "\n",
            "10 epochs completed in 0.890 hours.\n",
            "Optimizer stripped from YOLOv8/yolov8s_experiment/weights/last.pt, 22.5MB\n",
            "Optimizer stripped from YOLOv8/yolov8s_experiment/weights/best.pt, 22.5MB\n",
            "\n",
            "Validating YOLOv8/yolov8s_experiment/weights/best.pt...\n",
            "Ultralytics 8.3.17 🚀 Python-3.10.12 torch-2.4.1+cu121 CUDA:0 (Tesla T4, 15102MiB)\n",
            "Model summary (fused): 168 layers, 11,145,708 parameters, 0 gradients, 28.5 GFLOPs\n"
          ]
        },
        {
          "output_type": "stream",
          "name": "stderr",
          "text": [
            "                 Class     Images  Instances      Box(P          R      mAP50  mAP50-95): 100%|██████████| 40/40 [00:15<00:00,  2.66it/s]\n"
          ]
        },
        {
          "output_type": "stream",
          "name": "stdout",
          "text": [
            "                   all       1261       3261      0.867       0.92      0.897      0.739\n",
            " Complan Classic Creme         36         36          1          0          0          0\n",
            "   Complan Kesar Badam         61         90      0.692          1      0.703      0.633\n",
            "Complan Nutrigro Badam Kheer         17         17      0.965          1      0.995      0.906\n",
            "   Complan Pista Badam          9          9      0.938          1      0.995      0.811\n",
            "Complan Royal Chocolate         32         65      0.849      0.865      0.959      0.823\n",
            "EY AAAM TULSI TURMERIC FACEWASH50G        160        163      0.895     0.0368      0.143     0.0939\n",
            "EY ADVANCED GOLDEN GLOW PEEL OFF M- 50G         12         12      0.942          1      0.995      0.816\n",
            "EY ADVANCED GOLDEN GLOW PEEL OFF M- 90G         13         13      0.733          1      0.995      0.829\n",
            "EY EXF WALNUT SCRUB AYR 200G         22         27       0.94      0.963      0.971      0.746\n",
            "EY HALDICHANDAN FP HF POWDER 25G         13         13      0.956          1      0.995      0.978\n",
            "EY HYD-EXF WALNT APR SCRUB AYR100G         14         15      0.908          1      0.991       0.87\n",
            "EY HYDR - EXF WALNUT APRICOT SCRUB 50G          3          3          1      0.934      0.995      0.895\n",
            "EY NAT GLOW ORANGE PEEL OFF AY 90G         25         35      0.979          1      0.995      0.785\n",
            "EY NATURALS NEEM FACE WASH AY 50G         24         59      0.546      0.983      0.975      0.644\n",
            "EY RJ CUCUMBER ALOEVERA FACEPAK50G         19         19      0.974          1      0.995       0.86\n",
            "EY TAN CHOCO CHERRY PACK 50G         16         16          1      0.858      0.982      0.826\n",
            "EY_SCR_PURIFYING_EXFOLTNG_NEEM_PAPAYA_50G         11         11      0.341          1      0.995      0.928\n",
            "Everyuth Naturals Body Lotion Nourishing Cocoa 200ml         55         89      0.976          1      0.995      0.748\n",
            "Everyuth Naturals Body Lotion Rejuvenating Flora 200ml         67         84      0.992          1      0.995      0.746\n",
            "Everyuth Naturals Body Lotion Soothing Citrus 200ml         58         58      0.973          1      0.995      0.801\n",
            "Everyuth Naturals Body Lotion Sun Care Berries SPF 15 200ml         67         80       0.99          1      0.995      0.758\n",
            "   Glucon D Nimbu Pani         79        250      0.966      0.692      0.879      0.607\n",
            "Glucon D Nimbu Pani 1-KG          1          1      0.011          1     0.0188     0.0169\n",
            "      Glucon D Regular         71        323      0.928      0.796      0.902      0.604\n",
            " Glucon D Regular 1-KG         18         21      0.228      0.905      0.656      0.572\n",
            " Glucon D Regular 2-KG         17         17      0.665      0.935      0.956      0.883\n",
            " Glucon D Tangy orange         92        208      0.944      0.697      0.949      0.694\n",
            "Nutralite ACHARI MAYO 300g-275g-25g-         34         50      0.988          1      0.995      0.853\n",
            "Nutralite ACHARI MAYO 30g         14         14      0.959          1      0.995       0.91\n",
            "Nutralite CHEESY GARLIC MAYO 300g-275g-25g-         36         51      0.972      0.863      0.877      0.726\n",
            "Nutralite CHEESY GARLIC MAYO 30g         13         13      0.956          1      0.995      0.887\n",
            "Nutralite CHOCO SPREAD CALCIUM 275g         27         27      0.974          1      0.995      0.857\n",
            "Nutralite DOODHSHAKTHI PURE GHEE 1L         14         14      0.959          1      0.995      0.954\n",
            "Nutralite TANDOORI MAYO 300g-275g-25g-         36         54      0.965          1      0.995      0.845\n",
            "Nutralite TANDOORI MAYO 30g         15         15      0.965          1      0.995      0.907\n",
            "Nutralite VEG MAYO 300g-275g-25g-         30         36      0.978          1      0.995       0.82\n",
            "Nycil Prickly Heat Powder         39        123      0.805      0.951      0.915       0.71\n",
            "SUGAR FREE GOLD 500 PELLET         48         79      0.992          1      0.995      0.807\n",
            "SUGAR FREE GOLD POWDER 100GM         49         65      0.963      0.954      0.991      0.794\n",
            "SUGAR FREE GOLD SACHET 50         13         22      0.626      0.955      0.796      0.589\n",
            "SUGAR FREE GOLD SACHET 50 SUGAR FREE GOLD SACHET 50          6          6      0.566      0.872      0.663      0.566\n",
            "SUGAR FREE GRN 300 PELLET         31         37       0.96          1      0.995      0.658\n",
            "SUGAR FREE NATURA 500 PELLET        103        151      0.989      0.993      0.993      0.826\n",
            "SUGAR FREE NATURA DIET SUGAR         42         58      0.974      0.966      0.994      0.803\n",
            "SUGAR FREE NATURA DIET SUGAR 80GM          4          4      0.577          1      0.845      0.547\n",
            "SUGAR FREE NATURA SACHET 50         41         65       0.99      0.877        0.9      0.729\n",
            "SUGAR FREE NATURA SWEET DROPS         36         36      0.974      0.972      0.994      0.846\n",
            "SUGAR FREE NATURA_ POWDER_CONC_100G         27         30      0.908      0.992      0.976      0.801\n",
            "SUGAR FREE_GRN_ POWDER_CONC_100G         29         29       0.97      0.966      0.967      0.842\n",
            "  SUGARLITE POUCH 500G        193        548      0.986      0.998      0.984      0.788\n",
            "Speed: 0.1ms preprocess, 2.3ms inference, 0.0ms loss, 2.4ms postprocess per image\n",
            "Results saved to \u001b[1mYOLOv8/yolov8s_experiment\u001b[0m\n"
          ]
        },
        {
          "output_type": "display_data",
          "data": {
            "text/plain": [
              "VBox(children=(Label(value='32.468 MB of 32.468 MB uploaded\\r'), FloatProgress(value=1.0, max=1.0)))"
            ],
            "application/vnd.jupyter.widget-view+json": {
              "version_major": 2,
              "version_minor": 0,
              "model_id": "ced96bac94784897a4fdf22313254144"
            }
          },
          "metadata": {}
        },
        {
          "output_type": "display_data",
          "data": {
            "text/plain": [
              "<IPython.core.display.HTML object>"
            ],
            "text/html": [
              "<style>\n",
              "    table.wandb td:nth-child(1) { padding: 0 10px; text-align: left ; width: auto;} td:nth-child(2) {text-align: left ; width: 100%}\n",
              "    .wandb-row { display: flex; flex-direction: row; flex-wrap: wrap; justify-content: flex-start; width: 100% }\n",
              "    .wandb-col { display: flex; flex-direction: column; flex-basis: 100%; flex: 1; padding: 10px; }\n",
              "    </style>\n",
              "<div class=\"wandb-row\"><div class=\"wandb-col\"><h3>Run history:</h3><br/><table class=\"wandb\"><tr><td>lr/pg0</td><td>▃▆█▇▆▅▄▃▂▁</td></tr><tr><td>lr/pg1</td><td>▃▆█▇▆▅▄▃▂▁</td></tr><tr><td>lr/pg2</td><td>▃▆█▇▆▅▄▃▂▁</td></tr><tr><td>metrics/mAP50(B)</td><td>▁▆▇▇▆▇████</td></tr><tr><td>metrics/mAP50-95(B)</td><td>▁▅▆▆▆▆████</td></tr><tr><td>metrics/precision(B)</td><td>▁▇█▄▅▅▃▄▃▃</td></tr><tr><td>metrics/recall(B)</td><td>▁▅▄▇▇▇████</td></tr><tr><td>model/GFLOPs</td><td>▁</td></tr><tr><td>model/parameters</td><td>▁</td></tr><tr><td>model/speed_PyTorch(ms)</td><td>▁</td></tr><tr><td>train/box_loss</td><td>▆▇█▇▆▅▄▃▂▁</td></tr><tr><td>train/cls_loss</td><td>█▂▂▂▁▁▁▁▁▁</td></tr><tr><td>train/dfl_loss</td><td>▁▅██▇▆▄▃▂▂</td></tr><tr><td>val/box_loss</td><td>▆▅█▆▄▅▃▃▃▁</td></tr><tr><td>val/cls_loss</td><td>▃█▄▅▁▂▄▂▃▅</td></tr><tr><td>val/dfl_loss</td><td>▆█▅▂▄▆▃▃▄▁</td></tr></table><br/></div><div class=\"wandb-col\"><h3>Run summary:</h3><br/><table class=\"wandb\"><tr><td>lr/pg0</td><td>2e-05</td></tr><tr><td>lr/pg1</td><td>2e-05</td></tr><tr><td>lr/pg2</td><td>2e-05</td></tr><tr><td>metrics/mAP50(B)</td><td>0.89729</td></tr><tr><td>metrics/mAP50-95(B)</td><td>0.73883</td></tr><tr><td>metrics/precision(B)</td><td>0.86654</td></tr><tr><td>metrics/recall(B)</td><td>0.92043</td></tr><tr><td>model/GFLOPs</td><td>28.757</td></tr><tr><td>model/parameters</td><td>11155724</td></tr><tr><td>model/speed_PyTorch(ms)</td><td>2.672</td></tr><tr><td>train/box_loss</td><td>0.71201</td></tr><tr><td>train/cls_loss</td><td>0.46933</td></tr><tr><td>train/dfl_loss</td><td>0.93527</td></tr><tr><td>val/box_loss</td><td>0.79318</td></tr><tr><td>val/cls_loss</td><td>1.36473</td></tr><tr><td>val/dfl_loss</td><td>1.00064</td></tr></table><br/></div></div>"
            ]
          },
          "metadata": {}
        },
        {
          "output_type": "display_data",
          "data": {
            "text/plain": [
              "<IPython.core.display.HTML object>"
            ],
            "text/html": [
              " View run <strong style=\"color:#cdcd00\">yolov8s_experiment</strong> at: <a href='https://wandb.ai/me23btech11038-iit-hyderabad/YOLOv8/runs/972a4ezl' target=\"_blank\">https://wandb.ai/me23btech11038-iit-hyderabad/YOLOv8/runs/972a4ezl</a><br/> View project at: <a href='https://wandb.ai/me23btech11038-iit-hyderabad/YOLOv8' target=\"_blank\">https://wandb.ai/me23btech11038-iit-hyderabad/YOLOv8</a><br/>Synced 5 W&B file(s), 0 media file(s), 10 artifact file(s) and 21 other file(s)"
            ]
          },
          "metadata": {}
        },
        {
          "output_type": "display_data",
          "data": {
            "text/plain": [
              "<IPython.core.display.HTML object>"
            ],
            "text/html": [
              "Find logs at: <code>./wandb/run-20241019_125312-972a4ezl/logs</code>"
            ]
          },
          "metadata": {}
        }
      ]
    },
    {
      "cell_type": "code",
      "source": [
        "model7 = YOLO('/content/drive/My Drive/Dataset/YOLO/model_8.pt')\n",
        "\n",
        "# Resume training for 5 more epochs\n",
        "try:\n",
        "  model7.train(\n",
        "      data=\"/content/drive/My Drive/Dataset/drivedata.yaml\",  # Path to your dataset config\n",
        "      epochs=10,   # Continue training for 5 more epochs\n",
        "      batch=16,\n",
        "      imgsz=416,\n",
        "      device=0,\n",
        "      #resume=True,  # This ensures it resumes from the last checkpoint\n",
        "      project='YOLOv8',\n",
        "      name='yolov8s_experiment',\n",
        "      save=True\n",
        ")\n",
        "except KeyboardInterrupt:\n",
        "    model7.save('/content/drive/My Drive/Dataset/YOLO/model_9.pt')\n",
        "    print(\"Training interrupted, model saved.\")\n",
        "\n",
        "model7.save('/content/drive/My Drive/Dataset/YOLO/model_9.pt')"
      ],
      "metadata": {
        "colab": {
          "base_uri": "https://localhost:8080/",
          "height": 1000,
          "referenced_widgets": [
            "58e4c8bc394a46ed9faf4fd8ad40ad8c",
            "cae787462966471f9edc795d03a39373",
            "cce96f657c1842f19481ccbe291c8470",
            "400cc05850044fd688af563fa578128b",
            "4e86f7a5846044a489e9020a11d31e81",
            "43e85df959274dccbbbe384801e32232",
            "c7f3939e44f74e5a8a3f1d6b3bc14ee6",
            "767a88f4327f431eac1e45edb7a0544b"
          ]
        },
        "id": "9_Bad68i1nux",
        "outputId": "a78164c5-9e54-4e4b-d21f-26e0f4a827b7"
      },
      "execution_count": null,
      "outputs": [
        {
          "output_type": "stream",
          "name": "stdout",
          "text": [
            "Ultralytics 8.3.17 🚀 Python-3.10.12 torch-2.4.1+cu121 CUDA:0 (Tesla T4, 15102MiB)\n",
            "\u001b[34m\u001b[1mengine/trainer: \u001b[0mtask=detect, mode=train, model=/content/drive/My Drive/Dataset/YOLO/model_8.pt, data=/content/drive/My Drive/Dataset/drivedata.yaml, epochs=10, time=None, patience=100, batch=16, imgsz=416, save=True, save_period=-1, cache=False, device=0, workers=8, project=YOLOv8, name=yolov8s_experiment2, exist_ok=False, pretrained=True, optimizer=auto, verbose=True, seed=0, deterministic=True, single_cls=False, rect=False, cos_lr=False, close_mosaic=10, resume=False, amp=True, fraction=1.0, profile=False, freeze=None, multi_scale=False, overlap_mask=True, mask_ratio=4, dropout=0.0, val=True, split=val, save_json=False, save_hybrid=False, conf=None, iou=0.7, max_det=300, half=False, dnn=False, plots=True, source=None, vid_stride=1, stream_buffer=False, visualize=False, augment=False, agnostic_nms=False, classes=None, retina_masks=False, embed=None, show=False, save_frames=False, save_txt=False, save_conf=False, save_crop=False, show_labels=True, show_conf=True, show_boxes=True, line_width=None, format=torchscript, keras=False, optimize=False, int8=False, dynamic=False, simplify=True, opset=None, workspace=4, nms=False, lr0=0.01, lrf=0.01, momentum=0.937, weight_decay=0.0005, warmup_epochs=3.0, warmup_momentum=0.8, warmup_bias_lr=0.1, box=7.5, cls=0.5, dfl=1.5, pose=12.0, kobj=1.0, label_smoothing=0.0, nbs=64, hsv_h=0.015, hsv_s=0.7, hsv_v=0.4, degrees=0.0, translate=0.1, scale=0.5, shear=0.0, perspective=0.0, flipud=0.0, fliplr=0.5, bgr=0.0, mosaic=1.0, mixup=0.0, copy_paste=0.0, copy_paste_mode=flip, auto_augment=randaugment, erasing=0.4, crop_fraction=1.0, cfg=None, tracker=botsort.yaml, save_dir=YOLOv8/yolov8s_experiment2\n",
            "\n",
            "                   from  n    params  module                                       arguments                     \n",
            "  0                  -1  1       928  ultralytics.nn.modules.conv.Conv             [3, 32, 3, 2]                 \n",
            "  1                  -1  1     18560  ultralytics.nn.modules.conv.Conv             [32, 64, 3, 2]                \n",
            "  2                  -1  1     29056  ultralytics.nn.modules.block.C2f             [64, 64, 1, True]             \n",
            "  3                  -1  1     73984  ultralytics.nn.modules.conv.Conv             [64, 128, 3, 2]               \n",
            "  4                  -1  2    197632  ultralytics.nn.modules.block.C2f             [128, 128, 2, True]           \n",
            "  5                  -1  1    295424  ultralytics.nn.modules.conv.Conv             [128, 256, 3, 2]              \n",
            "  6                  -1  2    788480  ultralytics.nn.modules.block.C2f             [256, 256, 2, True]           \n",
            "  7                  -1  1   1180672  ultralytics.nn.modules.conv.Conv             [256, 512, 3, 2]              \n",
            "  8                  -1  1   1838080  ultralytics.nn.modules.block.C2f             [512, 512, 1, True]           \n",
            "  9                  -1  1    656896  ultralytics.nn.modules.block.SPPF            [512, 512, 5]                 \n",
            " 10                  -1  1         0  torch.nn.modules.upsampling.Upsample         [None, 2, 'nearest']          \n",
            " 11             [-1, 6]  1         0  ultralytics.nn.modules.conv.Concat           [1]                           \n",
            " 12                  -1  1    591360  ultralytics.nn.modules.block.C2f             [768, 256, 1]                 \n",
            " 13                  -1  1         0  torch.nn.modules.upsampling.Upsample         [None, 2, 'nearest']          \n",
            " 14             [-1, 4]  1         0  ultralytics.nn.modules.conv.Concat           [1]                           \n",
            " 15                  -1  1    148224  ultralytics.nn.modules.block.C2f             [384, 128, 1]                 \n",
            " 16                  -1  1    147712  ultralytics.nn.modules.conv.Conv             [128, 128, 3, 2]              \n",
            " 17            [-1, 12]  1         0  ultralytics.nn.modules.conv.Concat           [1]                           \n",
            " 18                  -1  1    493056  ultralytics.nn.modules.block.C2f             [384, 256, 1]                 \n",
            " 19                  -1  1    590336  ultralytics.nn.modules.conv.Conv             [256, 256, 3, 2]              \n",
            " 20             [-1, 9]  1         0  ultralytics.nn.modules.conv.Concat           [1]                           \n",
            " 21                  -1  1   1969152  ultralytics.nn.modules.block.C2f             [768, 512, 1]                 \n",
            " 22        [15, 18, 21]  1   2136172  ultralytics.nn.modules.head.Detect           [52, [128, 256, 512]]         \n",
            "Model summary: 225 layers, 11,155,724 parameters, 11,155,708 gradients, 28.8 GFLOPs\n",
            "\n",
            "Transferred 355/355 items from pretrained weights\n",
            "\u001b[34m\u001b[1mTensorBoard: \u001b[0mStart with 'tensorboard --logdir YOLOv8/yolov8s_experiment2', view at http://localhost:6006/\n"
          ]
        },
        {
          "output_type": "stream",
          "name": "stderr",
          "text": [
            "\u001b[34m\u001b[1mwandb\u001b[0m: Currently logged in as: \u001b[33mme23btech11038\u001b[0m (\u001b[33mme23btech11038-iit-hyderabad\u001b[0m). Use \u001b[1m`wandb login --relogin`\u001b[0m to force relogin\n"
          ]
        },
        {
          "output_type": "display_data",
          "data": {
            "text/plain": [
              "<IPython.core.display.HTML object>"
            ],
            "text/html": [
              "Tracking run with wandb version 0.18.3"
            ]
          },
          "metadata": {}
        },
        {
          "output_type": "display_data",
          "data": {
            "text/plain": [
              "<IPython.core.display.HTML object>"
            ],
            "text/html": [
              "Run data is saved locally in <code>/content/wandb/run-20241019_134856-9zldba5t</code>"
            ]
          },
          "metadata": {}
        },
        {
          "output_type": "display_data",
          "data": {
            "text/plain": [
              "<IPython.core.display.HTML object>"
            ],
            "text/html": [
              "Syncing run <strong><a href='https://wandb.ai/me23btech11038-iit-hyderabad/YOLOv8/runs/9zldba5t' target=\"_blank\">yolov8s_experiment2</a></strong> to <a href='https://wandb.ai/me23btech11038-iit-hyderabad/YOLOv8' target=\"_blank\">Weights & Biases</a> (<a href='https://wandb.me/run' target=\"_blank\">docs</a>)<br/>"
            ]
          },
          "metadata": {}
        },
        {
          "output_type": "display_data",
          "data": {
            "text/plain": [
              "<IPython.core.display.HTML object>"
            ],
            "text/html": [
              " View project at <a href='https://wandb.ai/me23btech11038-iit-hyderabad/YOLOv8' target=\"_blank\">https://wandb.ai/me23btech11038-iit-hyderabad/YOLOv8</a>"
            ]
          },
          "metadata": {}
        },
        {
          "output_type": "display_data",
          "data": {
            "text/plain": [
              "<IPython.core.display.HTML object>"
            ],
            "text/html": [
              " View run at <a href='https://wandb.ai/me23btech11038-iit-hyderabad/YOLOv8/runs/9zldba5t' target=\"_blank\">https://wandb.ai/me23btech11038-iit-hyderabad/YOLOv8/runs/9zldba5t</a>"
            ]
          },
          "metadata": {}
        },
        {
          "output_type": "stream",
          "name": "stdout",
          "text": [
            "Freezing layer 'model.22.dfl.conv.weight'\n",
            "\u001b[34m\u001b[1mAMP: \u001b[0mrunning Automatic Mixed Precision (AMP) checks with YOLO11n...\n",
            "\u001b[34m\u001b[1mAMP: \u001b[0mchecks passed ✅\n"
          ]
        },
        {
          "output_type": "stream",
          "name": "stderr",
          "text": [
            "\u001b[34m\u001b[1mtrain: \u001b[0mScanning /content/drive/My Drive/Dataset/train/labels.cache... 7943 images, 0 backgrounds, 0 corrupt: 100%|██████████| 7943/7943 [00:00<?, ?it/s]"
          ]
        },
        {
          "output_type": "stream",
          "name": "stdout",
          "text": [
            "WARNING ⚠️ Box and segment counts should be equal, but got len(segments) = 11, len(boxes) = 24227. To resolve this only boxes will be used and all segments will be removed. To avoid this please supply either a detect or segment dataset, not a detect-segment mixed dataset.\n",
            "\u001b[34m\u001b[1malbumentations: \u001b[0mBlur(p=0.01, blur_limit=(3, 7)), MedianBlur(p=0.01, blur_limit=(3, 7)), ToGray(p=0.01, num_output_channels=3, method='weighted_average'), CLAHE(p=0.01, clip_limit=(1, 4.0), tile_grid_size=(8, 8))\n"
          ]
        },
        {
          "output_type": "stream",
          "name": "stderr",
          "text": [
            "\n",
            "\u001b[34m\u001b[1mval: \u001b[0mScanning /content/drive/My Drive/Dataset/valid/labels.cache... 1261 images, 0 backgrounds, 0 corrupt: 100%|██████████| 1261/1261 [00:00<?, ?it/s]\n"
          ]
        },
        {
          "output_type": "stream",
          "name": "stdout",
          "text": [
            "Plotting labels to YOLOv8/yolov8s_experiment2/labels.jpg... \n",
            "\u001b[34m\u001b[1moptimizer:\u001b[0m 'optimizer=auto' found, ignoring 'lr0=0.01' and 'momentum=0.937' and determining best 'optimizer', 'lr0' and 'momentum' automatically... \n",
            "\u001b[34m\u001b[1moptimizer:\u001b[0m AdamW(lr=0.000179, momentum=0.9) with parameter groups 57 weight(decay=0.0), 64 weight(decay=0.0005), 63 bias(decay=0.0)\n",
            "\u001b[34m\u001b[1mTensorBoard: \u001b[0mmodel graph visualization added ✅\n",
            "Image sizes 416 train, 416 val\n",
            "Using 2 dataloader workers\n",
            "Logging results to \u001b[1mYOLOv8/yolov8s_experiment2\u001b[0m\n",
            "Starting training for 10 epochs...\n",
            "Closing dataloader mosaic\n",
            "\u001b[34m\u001b[1malbumentations: \u001b[0mBlur(p=0.01, blur_limit=(3, 7)), MedianBlur(p=0.01, blur_limit=(3, 7)), ToGray(p=0.01, num_output_channels=3, method='weighted_average'), CLAHE(p=0.01, clip_limit=(1, 4.0), tile_grid_size=(8, 8))\n",
            "\n",
            "      Epoch    GPU_mem   box_loss   cls_loss   dfl_loss  Instances       Size\n"
          ]
        },
        {
          "output_type": "stream",
          "name": "stderr",
          "text": [
            "       1/10      2.17G     0.7146     0.4778      0.935         11        416: 100%|██████████| 497/497 [02:32<00:00,  3.26it/s]\n",
            "                 Class     Images  Instances      Box(P          R      mAP50  mAP50-95): 100%|██████████| 40/40 [00:11<00:00,  3.51it/s]\n"
          ]
        },
        {
          "output_type": "stream",
          "name": "stdout",
          "text": [
            "                   all       1261       3261      0.887      0.902      0.902      0.734\n",
            "\n",
            "      Epoch    GPU_mem   box_loss   cls_loss   dfl_loss  Instances       Size\n"
          ]
        },
        {
          "output_type": "stream",
          "name": "stderr",
          "text": [
            "       2/10      2.12G       0.72     0.4904     0.9353         30        416: 100%|██████████| 497/497 [02:14<00:00,  3.70it/s]\n",
            "                 Class     Images  Instances      Box(P          R      mAP50  mAP50-95): 100%|██████████| 40/40 [00:14<00:00,  2.75it/s]\n"
          ]
        },
        {
          "output_type": "stream",
          "name": "stdout",
          "text": [
            "                   all       1261       3261      0.869      0.917      0.891      0.728\n",
            "\n",
            "      Epoch    GPU_mem   box_loss   cls_loss   dfl_loss  Instances       Size\n"
          ]
        },
        {
          "output_type": "stream",
          "name": "stderr",
          "text": [
            "       3/10      2.12G      0.724     0.4971     0.9416         25        416: 100%|██████████| 497/497 [02:13<00:00,  3.73it/s]\n",
            "                 Class     Images  Instances      Box(P          R      mAP50  mAP50-95): 100%|██████████| 40/40 [00:10<00:00,  3.74it/s]\n"
          ]
        },
        {
          "output_type": "stream",
          "name": "stdout",
          "text": [
            "                   all       1261       3261      0.904      0.888      0.891      0.727\n",
            "\n",
            "      Epoch    GPU_mem   box_loss   cls_loss   dfl_loss  Instances       Size\n"
          ]
        },
        {
          "output_type": "stream",
          "name": "stderr",
          "text": [
            "       4/10      2.12G     0.7235     0.4913     0.9431         27        416: 100%|██████████| 497/497 [02:13<00:00,  3.72it/s]\n",
            "                 Class     Images  Instances      Box(P          R      mAP50  mAP50-95): 100%|██████████| 40/40 [00:13<00:00,  2.93it/s]"
          ]
        },
        {
          "output_type": "stream",
          "name": "stdout",
          "text": [
            "                   all       1261       3261      0.893      0.891      0.886      0.718\n"
          ]
        },
        {
          "output_type": "stream",
          "name": "stderr",
          "text": [
            "\n"
          ]
        },
        {
          "output_type": "stream",
          "name": "stdout",
          "text": [
            "\n",
            "      Epoch    GPU_mem   box_loss   cls_loss   dfl_loss  Instances       Size\n"
          ]
        },
        {
          "output_type": "stream",
          "name": "stderr",
          "text": [
            "       5/10      2.04G     0.7201     0.4759     0.9417         32        416: 100%|██████████| 497/497 [02:10<00:00,  3.81it/s]\n",
            "                 Class     Images  Instances      Box(P          R      mAP50  mAP50-95): 100%|██████████| 40/40 [00:13<00:00,  2.98it/s]\n"
          ]
        },
        {
          "output_type": "stream",
          "name": "stdout",
          "text": [
            "                   all       1261       3261      0.877      0.919      0.878      0.719\n",
            "\n",
            "      Epoch    GPU_mem   box_loss   cls_loss   dfl_loss  Instances       Size\n"
          ]
        },
        {
          "output_type": "stream",
          "name": "stderr",
          "text": [
            "       6/10      2.04G     0.7128     0.4613     0.9393         32        416: 100%|██████████| 497/497 [02:13<00:00,  3.72it/s]\n",
            "                 Class     Images  Instances      Box(P          R      mAP50  mAP50-95): 100%|██████████| 40/40 [00:13<00:00,  2.88it/s]\n"
          ]
        },
        {
          "output_type": "stream",
          "name": "stdout",
          "text": [
            "                   all       1261       3261      0.873      0.909      0.884      0.726\n",
            "\n",
            "      Epoch    GPU_mem   box_loss   cls_loss   dfl_loss  Instances       Size\n"
          ]
        },
        {
          "output_type": "stream",
          "name": "stderr",
          "text": [
            "       7/10      2.04G     0.7048     0.4441     0.9358         12        416: 100%|██████████| 497/497 [02:11<00:00,  3.79it/s]\n",
            "                 Class     Images  Instances      Box(P          R      mAP50  mAP50-95): 100%|██████████| 40/40 [00:12<00:00,  3.26it/s]\n"
          ]
        },
        {
          "output_type": "stream",
          "name": "stdout",
          "text": [
            "                   all       1261       3261      0.894      0.894      0.895      0.739\n",
            "\n",
            "      Epoch    GPU_mem   box_loss   cls_loss   dfl_loss  Instances       Size\n"
          ]
        },
        {
          "output_type": "stream",
          "name": "stderr",
          "text": [
            "       8/10      2.12G     0.7044     0.4343      0.933         21        416: 100%|██████████| 497/497 [02:11<00:00,  3.77it/s]\n",
            "                 Class     Images  Instances      Box(P          R      mAP50  mAP50-95): 100%|██████████| 40/40 [00:14<00:00,  2.67it/s]\n"
          ]
        },
        {
          "output_type": "stream",
          "name": "stdout",
          "text": [
            "                   all       1261       3261      0.862      0.919      0.898      0.742\n",
            "\n",
            "      Epoch    GPU_mem   box_loss   cls_loss   dfl_loss  Instances       Size\n"
          ]
        },
        {
          "output_type": "stream",
          "name": "stderr",
          "text": [
            "       9/10      2.11G     0.7022     0.4282     0.9326         30        416: 100%|██████████| 497/497 [02:10<00:00,  3.82it/s]\n",
            "                 Class     Images  Instances      Box(P          R      mAP50  mAP50-95): 100%|██████████| 40/40 [00:12<00:00,  3.29it/s]\n"
          ]
        },
        {
          "output_type": "stream",
          "name": "stdout",
          "text": [
            "                   all       1261       3261      0.863      0.922      0.894      0.741\n",
            "\n",
            "      Epoch    GPU_mem   box_loss   cls_loss   dfl_loss  Instances       Size\n"
          ]
        },
        {
          "output_type": "stream",
          "name": "stderr",
          "text": [
            "      10/10      2.11G     0.7071     0.4257     0.9358         25        416: 100%|██████████| 497/497 [02:11<00:00,  3.77it/s]\n",
            "                 Class     Images  Instances      Box(P          R      mAP50  mAP50-95): 100%|██████████| 40/40 [00:15<00:00,  2.56it/s]"
          ]
        },
        {
          "output_type": "stream",
          "name": "stdout",
          "text": [
            "                   all       1261       3261      0.865      0.914      0.893      0.743\n"
          ]
        },
        {
          "output_type": "stream",
          "name": "stderr",
          "text": [
            "\n"
          ]
        },
        {
          "output_type": "stream",
          "name": "stdout",
          "text": [
            "\n",
            "10 epochs completed in 0.417 hours.\n",
            "Optimizer stripped from YOLOv8/yolov8s_experiment2/weights/last.pt, 22.5MB\n",
            "Optimizer stripped from YOLOv8/yolov8s_experiment2/weights/best.pt, 22.5MB\n",
            "\n",
            "Validating YOLOv8/yolov8s_experiment2/weights/best.pt...\n",
            "Ultralytics 8.3.17 🚀 Python-3.10.12 torch-2.4.1+cu121 CUDA:0 (Tesla T4, 15102MiB)\n",
            "Model summary (fused): 168 layers, 11,145,708 parameters, 0 gradients, 28.5 GFLOPs\n"
          ]
        },
        {
          "output_type": "stream",
          "name": "stderr",
          "text": [
            "                 Class     Images  Instances      Box(P          R      mAP50  mAP50-95): 100%|██████████| 40/40 [00:14<00:00,  2.71it/s]\n"
          ]
        },
        {
          "output_type": "stream",
          "name": "stdout",
          "text": [
            "                   all       1261       3261       0.87      0.912      0.894      0.744\n",
            " Complan Classic Creme         36         36          1          0          0          0\n",
            "   Complan Kesar Badam         61         90       0.69          1      0.698      0.629\n",
            "Complan Nutrigro Badam Kheer         17         17          1          1      0.995      0.891\n",
            "   Complan Pista Badam          9          9      0.945          1      0.995       0.81\n",
            "Complan Royal Chocolate         32         65      0.855       0.91      0.956      0.827\n",
            "EY AAAM TULSI TURMERIC FACEWASH50G        160        163      0.923     0.0368     0.0919      0.075\n",
            "EY ADVANCED GOLDEN GLOW PEEL OFF M- 50G         12         12       0.94          1      0.995      0.809\n",
            "EY ADVANCED GOLDEN GLOW PEEL OFF M- 90G         13         13      0.967          1      0.995      0.835\n",
            "EY EXF WALNUT SCRUB AYR 200G         22         27      0.942      0.963      0.973      0.749\n",
            "EY HALDICHANDAN FP HF POWDER 25G         13         13      0.961          1      0.995      0.981\n",
            "EY HYD-EXF WALNT APR SCRUB AYR100G         14         15      0.848          1      0.995      0.899\n",
            "EY HYDR - EXF WALNUT APRICOT SCRUB 50G          3          3      0.861          1      0.995      0.798\n",
            "EY NAT GLOW ORANGE PEEL OFF AY 90G         25         35      0.987          1      0.995        0.8\n",
            "EY NATURALS NEEM FACE WASH AY 50G         24         59       0.47      0.983      0.894      0.577\n",
            "EY RJ CUCUMBER ALOEVERA FACEPAK50G         19         19      0.971          1      0.995      0.821\n",
            "EY TAN CHOCO CHERRY PACK 50G         16         16          1      0.966      0.995      0.864\n",
            "EY_SCR_PURIFYING_EXFOLTNG_NEEM_PAPAYA_50G         11         11      0.263          1      0.995      0.912\n",
            "Everyuth Naturals Body Lotion Nourishing Cocoa 200ml         55         89      0.971          1      0.995      0.736\n",
            "Everyuth Naturals Body Lotion Rejuvenating Flora 200ml         67         84      0.995          1      0.995      0.754\n",
            "Everyuth Naturals Body Lotion Soothing Citrus 200ml         58         58      0.981          1      0.995      0.807\n",
            "Everyuth Naturals Body Lotion Sun Care Berries SPF 15 200ml         67         80      0.992          1      0.995      0.777\n",
            "   Glucon D Nimbu Pani         79        250      0.966      0.678      0.888      0.623\n",
            "Glucon D Nimbu Pani 1-KG          1          1     0.0134          1     0.0203     0.0183\n",
            "      Glucon D Regular         71        323      0.918      0.715      0.893      0.602\n",
            " Glucon D Regular 1-KG         18         21      0.225      0.857      0.614       0.53\n",
            " Glucon D Regular 2-KG         17         17      0.695      0.937      0.959      0.873\n",
            " Glucon D Tangy orange         92        208      0.961      0.709      0.963      0.711\n",
            "Nutralite ACHARI MAYO 300g-275g-25g-         34         50      0.989          1      0.995      0.876\n",
            "Nutralite ACHARI MAYO 30g         14         14      0.962          1      0.995      0.921\n",
            "Nutralite CHEESY GARLIC MAYO 300g-275g-25g-         36         51      0.987      0.863      0.886       0.75\n",
            "Nutralite CHEESY GARLIC MAYO 30g         13         13      0.962          1      0.995      0.891\n",
            "Nutralite CHOCO SPREAD CALCIUM 275g         27         27      0.961          1      0.995      0.893\n",
            "Nutralite DOODHSHAKTHI PURE GHEE 1L         14         14      0.964          1      0.995      0.959\n",
            "Nutralite TANDOORI MAYO 300g-275g-25g-         36         54      0.961          1      0.995      0.859\n",
            "Nutralite TANDOORI MAYO 30g         15         15      0.966          1      0.995      0.945\n",
            "Nutralite VEG MAYO 300g-275g-25g-         30         36      0.988          1      0.995      0.837\n",
            "Nycil Prickly Heat Powder         39        123      0.801      0.919       0.94      0.723\n",
            "SUGAR FREE GOLD 500 PELLET         48         79      0.994          1      0.995      0.799\n",
            "SUGAR FREE GOLD POWDER 100GM         49         65      0.973      0.954      0.993      0.801\n",
            "SUGAR FREE GOLD SACHET 50         13         22      0.618      0.955      0.817      0.607\n",
            "SUGAR FREE GOLD SACHET 50 SUGAR FREE GOLD SACHET 50          6          6      0.734      0.468      0.671      0.607\n",
            "SUGAR FREE GRN 300 PELLET         31         37      0.899      0.973      0.975      0.731\n",
            "SUGAR FREE NATURA 500 PELLET        103        151      0.991      0.993      0.993      0.837\n",
            "SUGAR FREE NATURA DIET SUGAR         42         58      0.987      0.966      0.994       0.83\n",
            "SUGAR FREE NATURA DIET SUGAR 80GM          4          4      0.568          1      0.745      0.542\n",
            "SUGAR FREE NATURA SACHET 50         41         65      0.988      0.877      0.916      0.756\n",
            "SUGAR FREE NATURA SWEET DROPS         36         36      0.972      0.969      0.991      0.847\n",
            "SUGAR FREE NATURA_ POWDER_CONC_100G         27         30      0.917      0.967      0.987      0.802\n",
            "SUGAR FREE_GRN_ POWDER_CONC_100G         29         29      0.979      0.966      0.969      0.854\n",
            "  SUGARLITE POUCH 500G        193        548      0.986          1      0.984      0.802\n",
            "Speed: 0.1ms preprocess, 2.2ms inference, 0.0ms loss, 2.1ms postprocess per image\n",
            "Results saved to \u001b[1mYOLOv8/yolov8s_experiment2\u001b[0m\n"
          ]
        },
        {
          "output_type": "display_data",
          "data": {
            "text/plain": [
              "VBox(children=(Label(value='32.231 MB of 32.231 MB uploaded\\r'), FloatProgress(value=1.0, max=1.0)))"
            ],
            "application/vnd.jupyter.widget-view+json": {
              "version_major": 2,
              "version_minor": 0,
              "model_id": "58e4c8bc394a46ed9faf4fd8ad40ad8c"
            }
          },
          "metadata": {}
        },
        {
          "output_type": "display_data",
          "data": {
            "text/plain": [
              "<IPython.core.display.HTML object>"
            ],
            "text/html": [
              "<style>\n",
              "    table.wandb td:nth-child(1) { padding: 0 10px; text-align: left ; width: auto;} td:nth-child(2) {text-align: left ; width: 100%}\n",
              "    .wandb-row { display: flex; flex-direction: row; flex-wrap: wrap; justify-content: flex-start; width: 100% }\n",
              "    .wandb-col { display: flex; flex-direction: column; flex-basis: 100%; flex: 1; padding: 10px; }\n",
              "    </style>\n",
              "<div class=\"wandb-row\"><div class=\"wandb-col\"><h3>Run history:</h3><br/><table class=\"wandb\"><tr><td>lr/pg0</td><td>▃▆█▇▆▅▄▃▂▁</td></tr><tr><td>lr/pg1</td><td>▃▆█▇▆▅▄▃▂▁</td></tr><tr><td>lr/pg2</td><td>▃▆█▇▆▅▄▃▂▁</td></tr><tr><td>metrics/mAP50(B)</td><td>█▅▅▃▁▃▆▇▆▆</td></tr><tr><td>metrics/mAP50-95(B)</td><td>▅▄▄▁▁▃▇▇▇█</td></tr><tr><td>metrics/precision(B)</td><td>▅▂█▆▃▃▆▁▁▂</td></tr><tr><td>metrics/recall(B)</td><td>▄▇▁▂▇▅▂▇█▆</td></tr><tr><td>model/GFLOPs</td><td>▁</td></tr><tr><td>model/parameters</td><td>▁</td></tr><tr><td>model/speed_PyTorch(ms)</td><td>▁</td></tr><tr><td>train/box_loss</td><td>▅▇██▇▄▂▂▁▃</td></tr><tr><td>train/cls_loss</td><td>▆▇█▇▆▄▃▂▁▁</td></tr><tr><td>train/dfl_loss</td><td>▃▃▇█▇▅▃▁▁▃</td></tr><tr><td>val/box_loss</td><td>▄▆█▆▅▇▄▃▄▁</td></tr><tr><td>val/cls_loss</td><td>▁▆█▆▄▇▅█▆▇</td></tr><tr><td>val/dfl_loss</td><td>▁▄▄▄▅█▄▂▅▂</td></tr></table><br/></div><div class=\"wandb-col\"><h3>Run summary:</h3><br/><table class=\"wandb\"><tr><td>lr/pg0</td><td>2e-05</td></tr><tr><td>lr/pg1</td><td>2e-05</td></tr><tr><td>lr/pg2</td><td>2e-05</td></tr><tr><td>metrics/mAP50(B)</td><td>0.89383</td></tr><tr><td>metrics/mAP50-95(B)</td><td>0.74355</td></tr><tr><td>metrics/precision(B)</td><td>0.86973</td></tr><tr><td>metrics/recall(B)</td><td>0.91246</td></tr><tr><td>model/GFLOPs</td><td>28.757</td></tr><tr><td>model/parameters</td><td>11155724</td></tr><tr><td>model/speed_PyTorch(ms)</td><td>2.137</td></tr><tr><td>train/box_loss</td><td>0.7071</td></tr><tr><td>train/cls_loss</td><td>0.42572</td></tr><tr><td>train/dfl_loss</td><td>0.93577</td></tr><tr><td>val/box_loss</td><td>0.7992</td></tr><tr><td>val/cls_loss</td><td>1.43881</td></tr><tr><td>val/dfl_loss</td><td>1.01306</td></tr></table><br/></div></div>"
            ]
          },
          "metadata": {}
        },
        {
          "output_type": "display_data",
          "data": {
            "text/plain": [
              "<IPython.core.display.HTML object>"
            ],
            "text/html": [
              " View run <strong style=\"color:#cdcd00\">yolov8s_experiment2</strong> at: <a href='https://wandb.ai/me23btech11038-iit-hyderabad/YOLOv8/runs/9zldba5t' target=\"_blank\">https://wandb.ai/me23btech11038-iit-hyderabad/YOLOv8/runs/9zldba5t</a><br/> View project at: <a href='https://wandb.ai/me23btech11038-iit-hyderabad/YOLOv8' target=\"_blank\">https://wandb.ai/me23btech11038-iit-hyderabad/YOLOv8</a><br/>Synced 5 W&B file(s), 0 media file(s), 10 artifact file(s) and 21 other file(s)"
            ]
          },
          "metadata": {}
        },
        {
          "output_type": "display_data",
          "data": {
            "text/plain": [
              "<IPython.core.display.HTML object>"
            ],
            "text/html": [
              "Find logs at: <code>./wandb/run-20241019_134856-9zldba5t/logs</code>"
            ]
          },
          "metadata": {}
        }
      ]
    },
    {
      "cell_type": "code",
      "source": [
        " model8 = YOLO('/content/drive/My Drive/Dataset/YOLO/model_9.pt')\n",
        "\n",
        "# Resume training for 5 more epochs\n",
        "try:\n",
        "  model8.train(\n",
        "      data=\"/content/drive/My Drive/Dataset/drivedata.yaml\",  # Path to your dataset config\n",
        "      epochs=5,   # Continue training for 5 more epochs\n",
        "      batch=16,\n",
        "      imgsz=416,\n",
        "      device=0,\n",
        "      #resume=True,  # This ensures it resumes from the last checkpoint\n",
        "      project='YOLOv8',\n",
        "      name='yolov8s_experiment',\n",
        "      save=True\n",
        ")\n",
        "except KeyboardInterrupt:\n",
        "    model8.save('/content/drive/My Drive/Dataset/YOLO/model_10.pt')\n",
        "    print(\"Training interrupted, model saved.\")\n",
        "\n",
        "model8.save('/content/drive/My Drive/Dataset/YOLO/model_10.pt')"
      ],
      "metadata": {
        "colab": {
          "base_uri": "https://localhost:8080/",
          "height": 1000,
          "referenced_widgets": [
            "85fc9f7e808a4f2ea89686c1e4c790c0",
            "a9e2256b12c84f3495f3fb5db1dc67b8",
            "84293fd298994eb7a702e016d968d6a7",
            "8bd658aa5ebb460e9190ee0fb9c09b94",
            "681805ea919b4ff1939ebd38cfb507ff",
            "fc18d9544df048608fe6171d971272f8",
            "1d22f48dea4545d9a89adc966c38d4f8",
            "16f5b496ad0c48fd81705801a67e2150"
          ]
        },
        "id": "gw7NBVX7Ccr0",
        "outputId": "f6d15a96-2786-42d1-f140-c718d42c3ad6"
      },
      "execution_count": null,
      "outputs": [
        {
          "output_type": "stream",
          "name": "stdout",
          "text": [
            "Ultralytics 8.3.17 🚀 Python-3.10.12 torch-2.4.1+cu121 CUDA:0 (Tesla T4, 15102MiB)\n",
            "\u001b[34m\u001b[1mengine/trainer: \u001b[0mtask=detect, mode=train, model=/content/drive/My Drive/Dataset/YOLO/model_9.pt, data=/content/drive/My Drive/Dataset/drivedata.yaml, epochs=5, time=None, patience=100, batch=16, imgsz=416, save=True, save_period=-1, cache=False, device=0, workers=8, project=YOLOv8, name=yolov8s_experiment3, exist_ok=False, pretrained=True, optimizer=auto, verbose=True, seed=0, deterministic=True, single_cls=False, rect=False, cos_lr=False, close_mosaic=10, resume=False, amp=True, fraction=1.0, profile=False, freeze=None, multi_scale=False, overlap_mask=True, mask_ratio=4, dropout=0.0, val=True, split=val, save_json=False, save_hybrid=False, conf=None, iou=0.7, max_det=300, half=False, dnn=False, plots=True, source=None, vid_stride=1, stream_buffer=False, visualize=False, augment=False, agnostic_nms=False, classes=None, retina_masks=False, embed=None, show=False, save_frames=False, save_txt=False, save_conf=False, save_crop=False, show_labels=True, show_conf=True, show_boxes=True, line_width=None, format=torchscript, keras=False, optimize=False, int8=False, dynamic=False, simplify=True, opset=None, workspace=4, nms=False, lr0=0.01, lrf=0.01, momentum=0.937, weight_decay=0.0005, warmup_epochs=3.0, warmup_momentum=0.8, warmup_bias_lr=0.1, box=7.5, cls=0.5, dfl=1.5, pose=12.0, kobj=1.0, label_smoothing=0.0, nbs=64, hsv_h=0.015, hsv_s=0.7, hsv_v=0.4, degrees=0.0, translate=0.1, scale=0.5, shear=0.0, perspective=0.0, flipud=0.0, fliplr=0.5, bgr=0.0, mosaic=1.0, mixup=0.0, copy_paste=0.0, copy_paste_mode=flip, auto_augment=randaugment, erasing=0.4, crop_fraction=1.0, cfg=None, tracker=botsort.yaml, save_dir=YOLOv8/yolov8s_experiment3\n",
            "\n",
            "                   from  n    params  module                                       arguments                     \n",
            "  0                  -1  1       928  ultralytics.nn.modules.conv.Conv             [3, 32, 3, 2]                 \n",
            "  1                  -1  1     18560  ultralytics.nn.modules.conv.Conv             [32, 64, 3, 2]                \n",
            "  2                  -1  1     29056  ultralytics.nn.modules.block.C2f             [64, 64, 1, True]             \n",
            "  3                  -1  1     73984  ultralytics.nn.modules.conv.Conv             [64, 128, 3, 2]               \n",
            "  4                  -1  2    197632  ultralytics.nn.modules.block.C2f             [128, 128, 2, True]           \n",
            "  5                  -1  1    295424  ultralytics.nn.modules.conv.Conv             [128, 256, 3, 2]              \n",
            "  6                  -1  2    788480  ultralytics.nn.modules.block.C2f             [256, 256, 2, True]           \n",
            "  7                  -1  1   1180672  ultralytics.nn.modules.conv.Conv             [256, 512, 3, 2]              \n",
            "  8                  -1  1   1838080  ultralytics.nn.modules.block.C2f             [512, 512, 1, True]           \n",
            "  9                  -1  1    656896  ultralytics.nn.modules.block.SPPF            [512, 512, 5]                 \n",
            " 10                  -1  1         0  torch.nn.modules.upsampling.Upsample         [None, 2, 'nearest']          \n",
            " 11             [-1, 6]  1         0  ultralytics.nn.modules.conv.Concat           [1]                           \n",
            " 12                  -1  1    591360  ultralytics.nn.modules.block.C2f             [768, 256, 1]                 \n",
            " 13                  -1  1         0  torch.nn.modules.upsampling.Upsample         [None, 2, 'nearest']          \n",
            " 14             [-1, 4]  1         0  ultralytics.nn.modules.conv.Concat           [1]                           \n",
            " 15                  -1  1    148224  ultralytics.nn.modules.block.C2f             [384, 128, 1]                 \n",
            " 16                  -1  1    147712  ultralytics.nn.modules.conv.Conv             [128, 128, 3, 2]              \n",
            " 17            [-1, 12]  1         0  ultralytics.nn.modules.conv.Concat           [1]                           \n",
            " 18                  -1  1    493056  ultralytics.nn.modules.block.C2f             [384, 256, 1]                 \n",
            " 19                  -1  1    590336  ultralytics.nn.modules.conv.Conv             [256, 256, 3, 2]              \n",
            " 20             [-1, 9]  1         0  ultralytics.nn.modules.conv.Concat           [1]                           \n",
            " 21                  -1  1   1969152  ultralytics.nn.modules.block.C2f             [768, 512, 1]                 \n",
            " 22        [15, 18, 21]  1   2136172  ultralytics.nn.modules.head.Detect           [52, [128, 256, 512]]         \n",
            "Model summary: 225 layers, 11,155,724 parameters, 11,155,708 gradients, 28.8 GFLOPs\n",
            "\n",
            "Transferred 355/355 items from pretrained weights\n",
            "\u001b[34m\u001b[1mTensorBoard: \u001b[0mStart with 'tensorboard --logdir YOLOv8/yolov8s_experiment3', view at http://localhost:6006/\n"
          ]
        },
        {
          "output_type": "display_data",
          "data": {
            "text/plain": [
              "<IPython.core.display.HTML object>"
            ],
            "text/html": [
              "Tracking run with wandb version 0.18.3"
            ]
          },
          "metadata": {}
        },
        {
          "output_type": "display_data",
          "data": {
            "text/plain": [
              "<IPython.core.display.HTML object>"
            ],
            "text/html": [
              "Run data is saved locally in <code>/content/wandb/run-20241019_141602-062jg7uw</code>"
            ]
          },
          "metadata": {}
        },
        {
          "output_type": "display_data",
          "data": {
            "text/plain": [
              "<IPython.core.display.HTML object>"
            ],
            "text/html": [
              "Syncing run <strong><a href='https://wandb.ai/me23btech11038-iit-hyderabad/YOLOv8/runs/062jg7uw' target=\"_blank\">yolov8s_experiment3</a></strong> to <a href='https://wandb.ai/me23btech11038-iit-hyderabad/YOLOv8' target=\"_blank\">Weights & Biases</a> (<a href='https://wandb.me/run' target=\"_blank\">docs</a>)<br/>"
            ]
          },
          "metadata": {}
        },
        {
          "output_type": "display_data",
          "data": {
            "text/plain": [
              "<IPython.core.display.HTML object>"
            ],
            "text/html": [
              " View project at <a href='https://wandb.ai/me23btech11038-iit-hyderabad/YOLOv8' target=\"_blank\">https://wandb.ai/me23btech11038-iit-hyderabad/YOLOv8</a>"
            ]
          },
          "metadata": {}
        },
        {
          "output_type": "display_data",
          "data": {
            "text/plain": [
              "<IPython.core.display.HTML object>"
            ],
            "text/html": [
              " View run at <a href='https://wandb.ai/me23btech11038-iit-hyderabad/YOLOv8/runs/062jg7uw' target=\"_blank\">https://wandb.ai/me23btech11038-iit-hyderabad/YOLOv8/runs/062jg7uw</a>"
            ]
          },
          "metadata": {}
        },
        {
          "output_type": "stream",
          "name": "stdout",
          "text": [
            "Freezing layer 'model.22.dfl.conv.weight'\n",
            "\u001b[34m\u001b[1mAMP: \u001b[0mrunning Automatic Mixed Precision (AMP) checks with YOLO11n...\n",
            "\u001b[34m\u001b[1mAMP: \u001b[0mchecks passed ✅\n"
          ]
        },
        {
          "output_type": "stream",
          "name": "stderr",
          "text": [
            "\u001b[34m\u001b[1mtrain: \u001b[0mScanning /content/drive/My Drive/Dataset/train/labels.cache... 7943 images, 0 backgrounds, 0 corrupt: 100%|██████████| 7943/7943 [00:00<?, ?it/s]"
          ]
        },
        {
          "output_type": "stream",
          "name": "stdout",
          "text": [
            "WARNING ⚠️ Box and segment counts should be equal, but got len(segments) = 11, len(boxes) = 24227. To resolve this only boxes will be used and all segments will be removed. To avoid this please supply either a detect or segment dataset, not a detect-segment mixed dataset.\n",
            "\u001b[34m\u001b[1malbumentations: \u001b[0mBlur(p=0.01, blur_limit=(3, 7)), MedianBlur(p=0.01, blur_limit=(3, 7)), ToGray(p=0.01, num_output_channels=3, method='weighted_average'), CLAHE(p=0.01, clip_limit=(1, 4.0), tile_grid_size=(8, 8))\n"
          ]
        },
        {
          "output_type": "stream",
          "name": "stderr",
          "text": [
            "\n",
            "\u001b[34m\u001b[1mval: \u001b[0mScanning /content/drive/My Drive/Dataset/valid/labels.cache... 1261 images, 0 backgrounds, 0 corrupt: 100%|██████████| 1261/1261 [00:00<?, ?it/s]\n"
          ]
        },
        {
          "output_type": "stream",
          "name": "stdout",
          "text": [
            "Plotting labels to YOLOv8/yolov8s_experiment3/labels.jpg... \n",
            "\u001b[34m\u001b[1moptimizer:\u001b[0m 'optimizer=auto' found, ignoring 'lr0=0.01' and 'momentum=0.937' and determining best 'optimizer', 'lr0' and 'momentum' automatically... \n",
            "\u001b[34m\u001b[1moptimizer:\u001b[0m AdamW(lr=0.000179, momentum=0.9) with parameter groups 57 weight(decay=0.0), 64 weight(decay=0.0005), 63 bias(decay=0.0)\n",
            "\u001b[34m\u001b[1mTensorBoard: \u001b[0mmodel graph visualization added ✅\n",
            "Image sizes 416 train, 416 val\n",
            "Using 2 dataloader workers\n",
            "Logging results to \u001b[1mYOLOv8/yolov8s_experiment3\u001b[0m\n",
            "Starting training for 5 epochs...\n",
            "\n",
            "      Epoch    GPU_mem   box_loss   cls_loss   dfl_loss  Instances       Size\n"
          ]
        },
        {
          "output_type": "stream",
          "name": "stderr",
          "text": [
            "        1/5      2.41G     0.7191     0.5618     0.9431         21        416: 100%|██████████| 497/497 [02:49<00:00,  2.93it/s]\n",
            "                 Class     Images  Instances      Box(P          R      mAP50  mAP50-95): 100%|██████████| 40/40 [00:14<00:00,  2.70it/s]\n"
          ]
        },
        {
          "output_type": "stream",
          "name": "stdout",
          "text": [
            "                   all       1261       3261      0.909      0.877      0.884      0.725\n",
            "\n",
            "      Epoch    GPU_mem   box_loss   cls_loss   dfl_loss  Instances       Size\n"
          ]
        },
        {
          "output_type": "stream",
          "name": "stderr",
          "text": [
            "        2/5      2.36G     0.6903     0.4996     0.9336         22        416: 100%|██████████| 497/497 [02:32<00:00,  3.27it/s]\n",
            "                 Class     Images  Instances      Box(P          R      mAP50  mAP50-95): 100%|██████████| 40/40 [00:12<00:00,  3.20it/s]\n"
          ]
        },
        {
          "output_type": "stream",
          "name": "stdout",
          "text": [
            "                   all       1261       3261      0.877      0.902      0.896      0.737\n",
            "\n",
            "      Epoch    GPU_mem   box_loss   cls_loss   dfl_loss  Instances       Size\n"
          ]
        },
        {
          "output_type": "stream",
          "name": "stderr",
          "text": [
            "        3/5      2.29G     0.6766     0.4801     0.9287         36        416: 100%|██████████| 497/497 [02:28<00:00,  3.35it/s]\n",
            "                 Class     Images  Instances      Box(P          R      mAP50  mAP50-95): 100%|██████████| 40/40 [00:11<00:00,  3.56it/s]\n"
          ]
        },
        {
          "output_type": "stream",
          "name": "stdout",
          "text": [
            "                   all       1261       3261      0.861      0.925      0.894      0.731\n",
            "\n",
            "      Epoch    GPU_mem   box_loss   cls_loss   dfl_loss  Instances       Size\n"
          ]
        },
        {
          "output_type": "stream",
          "name": "stderr",
          "text": [
            "        4/5      2.27G     0.6803     0.4755     0.9297         43        416: 100%|██████████| 497/497 [02:27<00:00,  3.38it/s]\n",
            "                 Class     Images  Instances      Box(P          R      mAP50  mAP50-95): 100%|██████████| 40/40 [00:13<00:00,  2.94it/s]"
          ]
        },
        {
          "output_type": "stream",
          "name": "stdout",
          "text": [
            "                   all       1261       3261      0.871      0.923      0.885      0.728\n"
          ]
        },
        {
          "output_type": "stream",
          "name": "stderr",
          "text": [
            "\n"
          ]
        },
        {
          "output_type": "stream",
          "name": "stdout",
          "text": [
            "\n",
            "      Epoch    GPU_mem   box_loss   cls_loss   dfl_loss  Instances       Size\n"
          ]
        },
        {
          "output_type": "stream",
          "name": "stderr",
          "text": [
            "        5/5      2.37G     0.6863     0.4624     0.9319         13        416: 100%|██████████| 497/497 [02:22<00:00,  3.49it/s]\n",
            "                 Class     Images  Instances      Box(P          R      mAP50  mAP50-95): 100%|██████████| 40/40 [00:15<00:00,  2.60it/s]\n"
          ]
        },
        {
          "output_type": "stream",
          "name": "stdout",
          "text": [
            "                   all       1261       3261      0.868      0.889      0.894      0.744\n",
            "\n",
            "5 epochs completed in 0.235 hours.\n",
            "Optimizer stripped from YOLOv8/yolov8s_experiment3/weights/last.pt, 22.5MB\n",
            "Optimizer stripped from YOLOv8/yolov8s_experiment3/weights/best.pt, 22.5MB\n",
            "\n",
            "Validating YOLOv8/yolov8s_experiment3/weights/best.pt...\n",
            "Ultralytics 8.3.17 🚀 Python-3.10.12 torch-2.4.1+cu121 CUDA:0 (Tesla T4, 15102MiB)\n",
            "Model summary (fused): 168 layers, 11,145,708 parameters, 0 gradients, 28.5 GFLOPs\n"
          ]
        },
        {
          "output_type": "stream",
          "name": "stderr",
          "text": [
            "                 Class     Images  Instances      Box(P          R      mAP50  mAP50-95): 100%|██████████| 40/40 [00:13<00:00,  2.92it/s]\n"
          ]
        },
        {
          "output_type": "stream",
          "name": "stdout",
          "text": [
            "                   all       1261       3261      0.868      0.889      0.894      0.744\n",
            " Complan Classic Creme         36         36          1          0          0          0\n",
            "   Complan Kesar Badam         61         90      0.685      0.989      0.711      0.635\n",
            "Complan Nutrigro Badam Kheer         17         17      0.972          1      0.995      0.901\n",
            "   Complan Pista Badam          9          9      0.944          1      0.995      0.824\n",
            "Complan Royal Chocolate         32         65      0.858      0.877      0.951      0.819\n",
            "EY AAAM TULSI TURMERIC FACEWASH50G        160        163       0.92     0.0368      0.142      0.115\n",
            "EY ADVANCED GOLDEN GLOW PEEL OFF M- 50G         12         12      0.945          1      0.995      0.785\n",
            "EY ADVANCED GOLDEN GLOW PEEL OFF M- 90G         13         13      0.958          1      0.995      0.821\n",
            "EY EXF WALNUT SCRUB AYR 200G         22         27      0.937      0.963      0.981      0.767\n",
            "EY HALDICHANDAN FP HF POWDER 25G         13         13          1          1      0.995      0.984\n",
            "EY HYD-EXF WALNT APR SCRUB AYR100G         14         15      0.912          1      0.995      0.861\n",
            "EY HYDR - EXF WALNUT APRICOT SCRUB 50G          3          3      0.825          1      0.995      0.841\n",
            "EY NAT GLOW ORANGE PEEL OFF AY 90G         25         35      0.986          1      0.995       0.78\n",
            "EY NATURALS NEEM FACE WASH AY 50G         24         59      0.718      0.966      0.954      0.623\n",
            "EY RJ CUCUMBER ALOEVERA FACEPAK50G         19         19      0.971          1      0.995      0.823\n",
            "EY TAN CHOCO CHERRY PACK 50G         16         16      0.515      0.938      0.899      0.777\n",
            "EY_SCR_PURIFYING_EXFOLTNG_NEEM_PAPAYA_50G         11         11      0.712          1      0.995      0.902\n",
            "Everyuth Naturals Body Lotion Nourishing Cocoa 200ml         55         89      0.976          1      0.994      0.741\n",
            "Everyuth Naturals Body Lotion Rejuvenating Flora 200ml         67         84      0.994          1      0.995      0.745\n",
            "Everyuth Naturals Body Lotion Soothing Citrus 200ml         58         58      0.984          1      0.995      0.814\n",
            "Everyuth Naturals Body Lotion Sun Care Berries SPF 15 200ml         67         80      0.994          1      0.995      0.781\n",
            "   Glucon D Nimbu Pani         79        250      0.962      0.608      0.875      0.613\n",
            "Glucon D Nimbu Pani 1-KG          1          1          0          0     0.0134     0.0121\n",
            "      Glucon D Regular         71        323      0.926        0.7       0.89      0.598\n",
            " Glucon D Regular 1-KG         18         21      0.245      0.905       0.67      0.587\n",
            " Glucon D Regular 2-KG         17         17       0.69      0.919      0.957      0.897\n",
            " Glucon D Tangy orange         92        208      0.955      0.706      0.954      0.704\n",
            "Nutralite ACHARI MAYO 300g-275g-25g-         34         50      0.989          1      0.995      0.871\n",
            "Nutralite ACHARI MAYO 30g         14         14      0.964          1      0.995      0.924\n",
            "Nutralite CHEESY GARLIC MAYO 300g-275g-25g-         36         51      0.981      0.863      0.894      0.747\n",
            "Nutralite CHEESY GARLIC MAYO 30g         13         13      0.966          1      0.995        0.9\n",
            "Nutralite CHOCO SPREAD CALCIUM 275g         27         27      0.951          1      0.995      0.892\n",
            "Nutralite DOODHSHAKTHI PURE GHEE 1L         14         14      0.965          1      0.995       0.97\n",
            "Nutralite TANDOORI MAYO 300g-275g-25g-         36         54      0.947          1      0.994      0.855\n",
            "Nutralite TANDOORI MAYO 30g         15         15      0.968          1      0.995      0.912\n",
            "Nutralite VEG MAYO 300g-275g-25g-         30         36      0.987          1      0.995      0.821\n",
            "Nycil Prickly Heat Powder         39        123      0.788      0.844       0.92      0.725\n",
            "SUGAR FREE GOLD 500 PELLET         48         79      0.993          1      0.995      0.796\n",
            "SUGAR FREE GOLD POWDER 100GM         49         65      0.947      0.969      0.991      0.781\n",
            "SUGAR FREE GOLD SACHET 50         13         22      0.572      0.912      0.807      0.606\n",
            "SUGAR FREE GOLD SACHET 50 SUGAR FREE GOLD SACHET 50          6          6      0.465      0.667      0.757      0.714\n",
            "SUGAR FREE GRN 300 PELLET         31         37      0.967      0.973      0.968      0.702\n",
            "SUGAR FREE NATURA 500 PELLET        103        151      0.982      0.993      0.993      0.823\n",
            "SUGAR FREE NATURA DIET SUGAR         42         58      0.983      0.966      0.993      0.812\n",
            "SUGAR FREE NATURA DIET SUGAR 80GM          4          4      0.568          1      0.663      0.538\n",
            "SUGAR FREE NATURA SACHET 50         41         65      0.993      0.877      0.917       0.76\n",
            "SUGAR FREE NATURA SWEET DROPS         36         36      0.962      0.944      0.989      0.856\n",
            "SUGAR FREE NATURA_ POWDER_CONC_100G         27         30      0.929      0.867      0.971      0.783\n",
            "SUGAR FREE_GRN_ POWDER_CONC_100G         29         29      0.967      0.966      0.968      0.847\n",
            "  SUGARLITE POUCH 500G        193        548      0.978          1      0.984      0.794\n",
            "Speed: 0.2ms preprocess, 2.2ms inference, 0.0ms loss, 1.8ms postprocess per image\n",
            "Results saved to \u001b[1mYOLOv8/yolov8s_experiment3\u001b[0m\n"
          ]
        },
        {
          "output_type": "display_data",
          "data": {
            "text/plain": [
              "VBox(children=(Label(value='32.700 MB of 32.700 MB uploaded\\r'), FloatProgress(value=1.0, max=1.0)))"
            ],
            "application/vnd.jupyter.widget-view+json": {
              "version_major": 2,
              "version_minor": 0,
              "model_id": "85fc9f7e808a4f2ea89686c1e4c790c0"
            }
          },
          "metadata": {}
        },
        {
          "output_type": "display_data",
          "data": {
            "text/plain": [
              "<IPython.core.display.HTML object>"
            ],
            "text/html": [
              "<style>\n",
              "    table.wandb td:nth-child(1) { padding: 0 10px; text-align: left ; width: auto;} td:nth-child(2) {text-align: left ; width: 100%}\n",
              "    .wandb-row { display: flex; flex-direction: row; flex-wrap: wrap; justify-content: flex-start; width: 100% }\n",
              "    .wandb-col { display: flex; flex-direction: column; flex-basis: 100%; flex: 1; padding: 10px; }\n",
              "    </style>\n",
              "<div class=\"wandb-row\"><div class=\"wandb-col\"><h3>Run history:</h3><br/><table class=\"wandb\"><tr><td>lr/pg0</td><td>▃▇█▅▁</td></tr><tr><td>lr/pg1</td><td>▃▇█▅▁</td></tr><tr><td>lr/pg2</td><td>▃▇█▅▁</td></tr><tr><td>metrics/mAP50(B)</td><td>▁█▇▂▇</td></tr><tr><td>metrics/mAP50-95(B)</td><td>▁▅▃▂█</td></tr><tr><td>metrics/precision(B)</td><td>█▃▁▂▂</td></tr><tr><td>metrics/recall(B)</td><td>▁▅██▃</td></tr><tr><td>model/GFLOPs</td><td>▁</td></tr><tr><td>model/parameters</td><td>▁</td></tr><tr><td>model/speed_PyTorch(ms)</td><td>▁</td></tr><tr><td>train/box_loss</td><td>█▃▁▂▃</td></tr><tr><td>train/cls_loss</td><td>█▄▂▂▁</td></tr><tr><td>train/dfl_loss</td><td>█▃▁▁▃</td></tr><tr><td>val/box_loss</td><td>▁▇█▄▁</td></tr><tr><td>val/cls_loss</td><td>▃▃▁▇█</td></tr><tr><td>val/dfl_loss</td><td>▁▇█▅▄</td></tr></table><br/></div><div class=\"wandb-col\"><h3>Run summary:</h3><br/><table class=\"wandb\"><tr><td>lr/pg0</td><td>4e-05</td></tr><tr><td>lr/pg1</td><td>4e-05</td></tr><tr><td>lr/pg2</td><td>4e-05</td></tr><tr><td>metrics/mAP50(B)</td><td>0.89391</td></tr><tr><td>metrics/mAP50-95(B)</td><td>0.74361</td></tr><tr><td>metrics/precision(B)</td><td>0.86791</td></tr><tr><td>metrics/recall(B)</td><td>0.88893</td></tr><tr><td>model/GFLOPs</td><td>28.757</td></tr><tr><td>model/parameters</td><td>11155724</td></tr><tr><td>model/speed_PyTorch(ms)</td><td>2.312</td></tr><tr><td>train/box_loss</td><td>0.68627</td></tr><tr><td>train/cls_loss</td><td>0.4624</td></tr><tr><td>train/dfl_loss</td><td>0.9319</td></tr><tr><td>val/box_loss</td><td>0.81224</td></tr><tr><td>val/cls_loss</td><td>1.52048</td></tr><tr><td>val/dfl_loss</td><td>1.02568</td></tr></table><br/></div></div>"
            ]
          },
          "metadata": {}
        },
        {
          "output_type": "display_data",
          "data": {
            "text/plain": [
              "<IPython.core.display.HTML object>"
            ],
            "text/html": [
              " View run <strong style=\"color:#cdcd00\">yolov8s_experiment3</strong> at: <a href='https://wandb.ai/me23btech11038-iit-hyderabad/YOLOv8/runs/062jg7uw' target=\"_blank\">https://wandb.ai/me23btech11038-iit-hyderabad/YOLOv8/runs/062jg7uw</a><br/> View project at: <a href='https://wandb.ai/me23btech11038-iit-hyderabad/YOLOv8' target=\"_blank\">https://wandb.ai/me23btech11038-iit-hyderabad/YOLOv8</a><br/>Synced 5 W&B file(s), 0 media file(s), 10 artifact file(s) and 21 other file(s)"
            ]
          },
          "metadata": {}
        },
        {
          "output_type": "display_data",
          "data": {
            "text/plain": [
              "<IPython.core.display.HTML object>"
            ],
            "text/html": [
              "Find logs at: <code>./wandb/run-20241019_141602-062jg7uw/logs</code>"
            ]
          },
          "metadata": {}
        }
      ]
    },
    {
      "cell_type": "code",
      "source": [],
      "metadata": {
        "id": "C1b04DVOIpsU"
      },
      "execution_count": null,
      "outputs": []
    }
  ],
  "metadata": {
    "colab": {
      "provenance": [],
      "gpuType": "T4"
    },
    "kernelspec": {
      "display_name": "Python 3",
      "name": "python3"
    },
    "language_info": {
      "name": "python"
    },
    "accelerator": "GPU",
    "widgets": {
      "application/vnd.jupyter.widget-state+json": {
        "ced96bac94784897a4fdf22313254144": {
          "model_module": "@jupyter-widgets/controls",
          "model_name": "VBoxModel",
          "model_module_version": "1.5.0",
          "state": {
            "_dom_classes": [],
            "_model_module": "@jupyter-widgets/controls",
            "_model_module_version": "1.5.0",
            "_model_name": "VBoxModel",
            "_view_count": null,
            "_view_module": "@jupyter-widgets/controls",
            "_view_module_version": "1.5.0",
            "_view_name": "VBoxView",
            "box_style": "",
            "children": [
              "IPY_MODEL_e377798e8b3444b5ab9bc7836cdf46b9",
              "IPY_MODEL_8e6771b9882247cfb59d6fe6ea852804"
            ],
            "layout": "IPY_MODEL_0e180a982e3c47a48cdc641a85aee77f"
          }
        },
        "e377798e8b3444b5ab9bc7836cdf46b9": {
          "model_module": "@jupyter-widgets/controls",
          "model_name": "LabelModel",
          "model_module_version": "1.5.0",
          "state": {
            "_dom_classes": [],
            "_model_module": "@jupyter-widgets/controls",
            "_model_module_version": "1.5.0",
            "_model_name": "LabelModel",
            "_view_count": null,
            "_view_module": "@jupyter-widgets/controls",
            "_view_module_version": "1.5.0",
            "_view_name": "LabelView",
            "description": "",
            "description_tooltip": null,
            "layout": "IPY_MODEL_a38b866acaba4639b12661f985c59339",
            "placeholder": "​",
            "style": "IPY_MODEL_9b4ccd862dcc47e49a2890f59e2a8706",
            "value": "32.468 MB of 32.468 MB uploaded\r"
          }
        },
        "8e6771b9882247cfb59d6fe6ea852804": {
          "model_module": "@jupyter-widgets/controls",
          "model_name": "FloatProgressModel",
          "model_module_version": "1.5.0",
          "state": {
            "_dom_classes": [],
            "_model_module": "@jupyter-widgets/controls",
            "_model_module_version": "1.5.0",
            "_model_name": "FloatProgressModel",
            "_view_count": null,
            "_view_module": "@jupyter-widgets/controls",
            "_view_module_version": "1.5.0",
            "_view_name": "ProgressView",
            "bar_style": "",
            "description": "",
            "description_tooltip": null,
            "layout": "IPY_MODEL_8abf19c7a17c456aae92bf2307de0b53",
            "max": 1,
            "min": 0,
            "orientation": "horizontal",
            "style": "IPY_MODEL_4d7f58bca8ca4e30bd54d22ff19c15a5",
            "value": 1
          }
        },
        "0e180a982e3c47a48cdc641a85aee77f": {
          "model_module": "@jupyter-widgets/base",
          "model_name": "LayoutModel",
          "model_module_version": "1.2.0",
          "state": {
            "_model_module": "@jupyter-widgets/base",
            "_model_module_version": "1.2.0",
            "_model_name": "LayoutModel",
            "_view_count": null,
            "_view_module": "@jupyter-widgets/base",
            "_view_module_version": "1.2.0",
            "_view_name": "LayoutView",
            "align_content": null,
            "align_items": null,
            "align_self": null,
            "border": null,
            "bottom": null,
            "display": null,
            "flex": null,
            "flex_flow": null,
            "grid_area": null,
            "grid_auto_columns": null,
            "grid_auto_flow": null,
            "grid_auto_rows": null,
            "grid_column": null,
            "grid_gap": null,
            "grid_row": null,
            "grid_template_areas": null,
            "grid_template_columns": null,
            "grid_template_rows": null,
            "height": null,
            "justify_content": null,
            "justify_items": null,
            "left": null,
            "margin": null,
            "max_height": null,
            "max_width": null,
            "min_height": null,
            "min_width": null,
            "object_fit": null,
            "object_position": null,
            "order": null,
            "overflow": null,
            "overflow_x": null,
            "overflow_y": null,
            "padding": null,
            "right": null,
            "top": null,
            "visibility": null,
            "width": null
          }
        },
        "a38b866acaba4639b12661f985c59339": {
          "model_module": "@jupyter-widgets/base",
          "model_name": "LayoutModel",
          "model_module_version": "1.2.0",
          "state": {
            "_model_module": "@jupyter-widgets/base",
            "_model_module_version": "1.2.0",
            "_model_name": "LayoutModel",
            "_view_count": null,
            "_view_module": "@jupyter-widgets/base",
            "_view_module_version": "1.2.0",
            "_view_name": "LayoutView",
            "align_content": null,
            "align_items": null,
            "align_self": null,
            "border": null,
            "bottom": null,
            "display": null,
            "flex": null,
            "flex_flow": null,
            "grid_area": null,
            "grid_auto_columns": null,
            "grid_auto_flow": null,
            "grid_auto_rows": null,
            "grid_column": null,
            "grid_gap": null,
            "grid_row": null,
            "grid_template_areas": null,
            "grid_template_columns": null,
            "grid_template_rows": null,
            "height": null,
            "justify_content": null,
            "justify_items": null,
            "left": null,
            "margin": null,
            "max_height": null,
            "max_width": null,
            "min_height": null,
            "min_width": null,
            "object_fit": null,
            "object_position": null,
            "order": null,
            "overflow": null,
            "overflow_x": null,
            "overflow_y": null,
            "padding": null,
            "right": null,
            "top": null,
            "visibility": null,
            "width": null
          }
        },
        "9b4ccd862dcc47e49a2890f59e2a8706": {
          "model_module": "@jupyter-widgets/controls",
          "model_name": "DescriptionStyleModel",
          "model_module_version": "1.5.0",
          "state": {
            "_model_module": "@jupyter-widgets/controls",
            "_model_module_version": "1.5.0",
            "_model_name": "DescriptionStyleModel",
            "_view_count": null,
            "_view_module": "@jupyter-widgets/base",
            "_view_module_version": "1.2.0",
            "_view_name": "StyleView",
            "description_width": ""
          }
        },
        "8abf19c7a17c456aae92bf2307de0b53": {
          "model_module": "@jupyter-widgets/base",
          "model_name": "LayoutModel",
          "model_module_version": "1.2.0",
          "state": {
            "_model_module": "@jupyter-widgets/base",
            "_model_module_version": "1.2.0",
            "_model_name": "LayoutModel",
            "_view_count": null,
            "_view_module": "@jupyter-widgets/base",
            "_view_module_version": "1.2.0",
            "_view_name": "LayoutView",
            "align_content": null,
            "align_items": null,
            "align_self": null,
            "border": null,
            "bottom": null,
            "display": null,
            "flex": null,
            "flex_flow": null,
            "grid_area": null,
            "grid_auto_columns": null,
            "grid_auto_flow": null,
            "grid_auto_rows": null,
            "grid_column": null,
            "grid_gap": null,
            "grid_row": null,
            "grid_template_areas": null,
            "grid_template_columns": null,
            "grid_template_rows": null,
            "height": null,
            "justify_content": null,
            "justify_items": null,
            "left": null,
            "margin": null,
            "max_height": null,
            "max_width": null,
            "min_height": null,
            "min_width": null,
            "object_fit": null,
            "object_position": null,
            "order": null,
            "overflow": null,
            "overflow_x": null,
            "overflow_y": null,
            "padding": null,
            "right": null,
            "top": null,
            "visibility": null,
            "width": null
          }
        },
        "4d7f58bca8ca4e30bd54d22ff19c15a5": {
          "model_module": "@jupyter-widgets/controls",
          "model_name": "ProgressStyleModel",
          "model_module_version": "1.5.0",
          "state": {
            "_model_module": "@jupyter-widgets/controls",
            "_model_module_version": "1.5.0",
            "_model_name": "ProgressStyleModel",
            "_view_count": null,
            "_view_module": "@jupyter-widgets/base",
            "_view_module_version": "1.2.0",
            "_view_name": "StyleView",
            "bar_color": null,
            "description_width": ""
          }
        },
        "58e4c8bc394a46ed9faf4fd8ad40ad8c": {
          "model_module": "@jupyter-widgets/controls",
          "model_name": "VBoxModel",
          "model_module_version": "1.5.0",
          "state": {
            "_dom_classes": [],
            "_model_module": "@jupyter-widgets/controls",
            "_model_module_version": "1.5.0",
            "_model_name": "VBoxModel",
            "_view_count": null,
            "_view_module": "@jupyter-widgets/controls",
            "_view_module_version": "1.5.0",
            "_view_name": "VBoxView",
            "box_style": "",
            "children": [
              "IPY_MODEL_cae787462966471f9edc795d03a39373",
              "IPY_MODEL_cce96f657c1842f19481ccbe291c8470"
            ],
            "layout": "IPY_MODEL_400cc05850044fd688af563fa578128b"
          }
        },
        "cae787462966471f9edc795d03a39373": {
          "model_module": "@jupyter-widgets/controls",
          "model_name": "LabelModel",
          "model_module_version": "1.5.0",
          "state": {
            "_dom_classes": [],
            "_model_module": "@jupyter-widgets/controls",
            "_model_module_version": "1.5.0",
            "_model_name": "LabelModel",
            "_view_count": null,
            "_view_module": "@jupyter-widgets/controls",
            "_view_module_version": "1.5.0",
            "_view_name": "LabelView",
            "description": "",
            "description_tooltip": null,
            "layout": "IPY_MODEL_4e86f7a5846044a489e9020a11d31e81",
            "placeholder": "​",
            "style": "IPY_MODEL_43e85df959274dccbbbe384801e32232",
            "value": "32.477 MB of 32.477 MB uploaded\r"
          }
        },
        "cce96f657c1842f19481ccbe291c8470": {
          "model_module": "@jupyter-widgets/controls",
          "model_name": "FloatProgressModel",
          "model_module_version": "1.5.0",
          "state": {
            "_dom_classes": [],
            "_model_module": "@jupyter-widgets/controls",
            "_model_module_version": "1.5.0",
            "_model_name": "FloatProgressModel",
            "_view_count": null,
            "_view_module": "@jupyter-widgets/controls",
            "_view_module_version": "1.5.0",
            "_view_name": "ProgressView",
            "bar_style": "",
            "description": "",
            "description_tooltip": null,
            "layout": "IPY_MODEL_c7f3939e44f74e5a8a3f1d6b3bc14ee6",
            "max": 1,
            "min": 0,
            "orientation": "horizontal",
            "style": "IPY_MODEL_767a88f4327f431eac1e45edb7a0544b",
            "value": 1
          }
        },
        "400cc05850044fd688af563fa578128b": {
          "model_module": "@jupyter-widgets/base",
          "model_name": "LayoutModel",
          "model_module_version": "1.2.0",
          "state": {
            "_model_module": "@jupyter-widgets/base",
            "_model_module_version": "1.2.0",
            "_model_name": "LayoutModel",
            "_view_count": null,
            "_view_module": "@jupyter-widgets/base",
            "_view_module_version": "1.2.0",
            "_view_name": "LayoutView",
            "align_content": null,
            "align_items": null,
            "align_self": null,
            "border": null,
            "bottom": null,
            "display": null,
            "flex": null,
            "flex_flow": null,
            "grid_area": null,
            "grid_auto_columns": null,
            "grid_auto_flow": null,
            "grid_auto_rows": null,
            "grid_column": null,
            "grid_gap": null,
            "grid_row": null,
            "grid_template_areas": null,
            "grid_template_columns": null,
            "grid_template_rows": null,
            "height": null,
            "justify_content": null,
            "justify_items": null,
            "left": null,
            "margin": null,
            "max_height": null,
            "max_width": null,
            "min_height": null,
            "min_width": null,
            "object_fit": null,
            "object_position": null,
            "order": null,
            "overflow": null,
            "overflow_x": null,
            "overflow_y": null,
            "padding": null,
            "right": null,
            "top": null,
            "visibility": null,
            "width": null
          }
        },
        "4e86f7a5846044a489e9020a11d31e81": {
          "model_module": "@jupyter-widgets/base",
          "model_name": "LayoutModel",
          "model_module_version": "1.2.0",
          "state": {
            "_model_module": "@jupyter-widgets/base",
            "_model_module_version": "1.2.0",
            "_model_name": "LayoutModel",
            "_view_count": null,
            "_view_module": "@jupyter-widgets/base",
            "_view_module_version": "1.2.0",
            "_view_name": "LayoutView",
            "align_content": null,
            "align_items": null,
            "align_self": null,
            "border": null,
            "bottom": null,
            "display": null,
            "flex": null,
            "flex_flow": null,
            "grid_area": null,
            "grid_auto_columns": null,
            "grid_auto_flow": null,
            "grid_auto_rows": null,
            "grid_column": null,
            "grid_gap": null,
            "grid_row": null,
            "grid_template_areas": null,
            "grid_template_columns": null,
            "grid_template_rows": null,
            "height": null,
            "justify_content": null,
            "justify_items": null,
            "left": null,
            "margin": null,
            "max_height": null,
            "max_width": null,
            "min_height": null,
            "min_width": null,
            "object_fit": null,
            "object_position": null,
            "order": null,
            "overflow": null,
            "overflow_x": null,
            "overflow_y": null,
            "padding": null,
            "right": null,
            "top": null,
            "visibility": null,
            "width": null
          }
        },
        "43e85df959274dccbbbe384801e32232": {
          "model_module": "@jupyter-widgets/controls",
          "model_name": "DescriptionStyleModel",
          "model_module_version": "1.5.0",
          "state": {
            "_model_module": "@jupyter-widgets/controls",
            "_model_module_version": "1.5.0",
            "_model_name": "DescriptionStyleModel",
            "_view_count": null,
            "_view_module": "@jupyter-widgets/base",
            "_view_module_version": "1.2.0",
            "_view_name": "StyleView",
            "description_width": ""
          }
        },
        "c7f3939e44f74e5a8a3f1d6b3bc14ee6": {
          "model_module": "@jupyter-widgets/base",
          "model_name": "LayoutModel",
          "model_module_version": "1.2.0",
          "state": {
            "_model_module": "@jupyter-widgets/base",
            "_model_module_version": "1.2.0",
            "_model_name": "LayoutModel",
            "_view_count": null,
            "_view_module": "@jupyter-widgets/base",
            "_view_module_version": "1.2.0",
            "_view_name": "LayoutView",
            "align_content": null,
            "align_items": null,
            "align_self": null,
            "border": null,
            "bottom": null,
            "display": null,
            "flex": null,
            "flex_flow": null,
            "grid_area": null,
            "grid_auto_columns": null,
            "grid_auto_flow": null,
            "grid_auto_rows": null,
            "grid_column": null,
            "grid_gap": null,
            "grid_row": null,
            "grid_template_areas": null,
            "grid_template_columns": null,
            "grid_template_rows": null,
            "height": null,
            "justify_content": null,
            "justify_items": null,
            "left": null,
            "margin": null,
            "max_height": null,
            "max_width": null,
            "min_height": null,
            "min_width": null,
            "object_fit": null,
            "object_position": null,
            "order": null,
            "overflow": null,
            "overflow_x": null,
            "overflow_y": null,
            "padding": null,
            "right": null,
            "top": null,
            "visibility": null,
            "width": null
          }
        },
        "767a88f4327f431eac1e45edb7a0544b": {
          "model_module": "@jupyter-widgets/controls",
          "model_name": "ProgressStyleModel",
          "model_module_version": "1.5.0",
          "state": {
            "_model_module": "@jupyter-widgets/controls",
            "_model_module_version": "1.5.0",
            "_model_name": "ProgressStyleModel",
            "_view_count": null,
            "_view_module": "@jupyter-widgets/base",
            "_view_module_version": "1.2.0",
            "_view_name": "StyleView",
            "bar_color": null,
            "description_width": ""
          }
        },
        "85fc9f7e808a4f2ea89686c1e4c790c0": {
          "model_module": "@jupyter-widgets/controls",
          "model_name": "VBoxModel",
          "model_module_version": "1.5.0",
          "state": {
            "_dom_classes": [],
            "_model_module": "@jupyter-widgets/controls",
            "_model_module_version": "1.5.0",
            "_model_name": "VBoxModel",
            "_view_count": null,
            "_view_module": "@jupyter-widgets/controls",
            "_view_module_version": "1.5.0",
            "_view_name": "VBoxView",
            "box_style": "",
            "children": [
              "IPY_MODEL_a9e2256b12c84f3495f3fb5db1dc67b8",
              "IPY_MODEL_84293fd298994eb7a702e016d968d6a7"
            ],
            "layout": "IPY_MODEL_8bd658aa5ebb460e9190ee0fb9c09b94"
          }
        },
        "a9e2256b12c84f3495f3fb5db1dc67b8": {
          "model_module": "@jupyter-widgets/controls",
          "model_name": "LabelModel",
          "model_module_version": "1.5.0",
          "state": {
            "_dom_classes": [],
            "_model_module": "@jupyter-widgets/controls",
            "_model_module_version": "1.5.0",
            "_model_name": "LabelModel",
            "_view_count": null,
            "_view_module": "@jupyter-widgets/controls",
            "_view_module_version": "1.5.0",
            "_view_name": "LabelView",
            "description": "",
            "description_tooltip": null,
            "layout": "IPY_MODEL_681805ea919b4ff1939ebd38cfb507ff",
            "placeholder": "​",
            "style": "IPY_MODEL_fc18d9544df048608fe6171d971272f8",
            "value": "32.700 MB of 32.700 MB uploaded\r"
          }
        },
        "84293fd298994eb7a702e016d968d6a7": {
          "model_module": "@jupyter-widgets/controls",
          "model_name": "FloatProgressModel",
          "model_module_version": "1.5.0",
          "state": {
            "_dom_classes": [],
            "_model_module": "@jupyter-widgets/controls",
            "_model_module_version": "1.5.0",
            "_model_name": "FloatProgressModel",
            "_view_count": null,
            "_view_module": "@jupyter-widgets/controls",
            "_view_module_version": "1.5.0",
            "_view_name": "ProgressView",
            "bar_style": "",
            "description": "",
            "description_tooltip": null,
            "layout": "IPY_MODEL_1d22f48dea4545d9a89adc966c38d4f8",
            "max": 1,
            "min": 0,
            "orientation": "horizontal",
            "style": "IPY_MODEL_16f5b496ad0c48fd81705801a67e2150",
            "value": 1
          }
        },
        "8bd658aa5ebb460e9190ee0fb9c09b94": {
          "model_module": "@jupyter-widgets/base",
          "model_name": "LayoutModel",
          "model_module_version": "1.2.0",
          "state": {
            "_model_module": "@jupyter-widgets/base",
            "_model_module_version": "1.2.0",
            "_model_name": "LayoutModel",
            "_view_count": null,
            "_view_module": "@jupyter-widgets/base",
            "_view_module_version": "1.2.0",
            "_view_name": "LayoutView",
            "align_content": null,
            "align_items": null,
            "align_self": null,
            "border": null,
            "bottom": null,
            "display": null,
            "flex": null,
            "flex_flow": null,
            "grid_area": null,
            "grid_auto_columns": null,
            "grid_auto_flow": null,
            "grid_auto_rows": null,
            "grid_column": null,
            "grid_gap": null,
            "grid_row": null,
            "grid_template_areas": null,
            "grid_template_columns": null,
            "grid_template_rows": null,
            "height": null,
            "justify_content": null,
            "justify_items": null,
            "left": null,
            "margin": null,
            "max_height": null,
            "max_width": null,
            "min_height": null,
            "min_width": null,
            "object_fit": null,
            "object_position": null,
            "order": null,
            "overflow": null,
            "overflow_x": null,
            "overflow_y": null,
            "padding": null,
            "right": null,
            "top": null,
            "visibility": null,
            "width": null
          }
        },
        "681805ea919b4ff1939ebd38cfb507ff": {
          "model_module": "@jupyter-widgets/base",
          "model_name": "LayoutModel",
          "model_module_version": "1.2.0",
          "state": {
            "_model_module": "@jupyter-widgets/base",
            "_model_module_version": "1.2.0",
            "_model_name": "LayoutModel",
            "_view_count": null,
            "_view_module": "@jupyter-widgets/base",
            "_view_module_version": "1.2.0",
            "_view_name": "LayoutView",
            "align_content": null,
            "align_items": null,
            "align_self": null,
            "border": null,
            "bottom": null,
            "display": null,
            "flex": null,
            "flex_flow": null,
            "grid_area": null,
            "grid_auto_columns": null,
            "grid_auto_flow": null,
            "grid_auto_rows": null,
            "grid_column": null,
            "grid_gap": null,
            "grid_row": null,
            "grid_template_areas": null,
            "grid_template_columns": null,
            "grid_template_rows": null,
            "height": null,
            "justify_content": null,
            "justify_items": null,
            "left": null,
            "margin": null,
            "max_height": null,
            "max_width": null,
            "min_height": null,
            "min_width": null,
            "object_fit": null,
            "object_position": null,
            "order": null,
            "overflow": null,
            "overflow_x": null,
            "overflow_y": null,
            "padding": null,
            "right": null,
            "top": null,
            "visibility": null,
            "width": null
          }
        },
        "fc18d9544df048608fe6171d971272f8": {
          "model_module": "@jupyter-widgets/controls",
          "model_name": "DescriptionStyleModel",
          "model_module_version": "1.5.0",
          "state": {
            "_model_module": "@jupyter-widgets/controls",
            "_model_module_version": "1.5.0",
            "_model_name": "DescriptionStyleModel",
            "_view_count": null,
            "_view_module": "@jupyter-widgets/base",
            "_view_module_version": "1.2.0",
            "_view_name": "StyleView",
            "description_width": ""
          }
        },
        "1d22f48dea4545d9a89adc966c38d4f8": {
          "model_module": "@jupyter-widgets/base",
          "model_name": "LayoutModel",
          "model_module_version": "1.2.0",
          "state": {
            "_model_module": "@jupyter-widgets/base",
            "_model_module_version": "1.2.0",
            "_model_name": "LayoutModel",
            "_view_count": null,
            "_view_module": "@jupyter-widgets/base",
            "_view_module_version": "1.2.0",
            "_view_name": "LayoutView",
            "align_content": null,
            "align_items": null,
            "align_self": null,
            "border": null,
            "bottom": null,
            "display": null,
            "flex": null,
            "flex_flow": null,
            "grid_area": null,
            "grid_auto_columns": null,
            "grid_auto_flow": null,
            "grid_auto_rows": null,
            "grid_column": null,
            "grid_gap": null,
            "grid_row": null,
            "grid_template_areas": null,
            "grid_template_columns": null,
            "grid_template_rows": null,
            "height": null,
            "justify_content": null,
            "justify_items": null,
            "left": null,
            "margin": null,
            "max_height": null,
            "max_width": null,
            "min_height": null,
            "min_width": null,
            "object_fit": null,
            "object_position": null,
            "order": null,
            "overflow": null,
            "overflow_x": null,
            "overflow_y": null,
            "padding": null,
            "right": null,
            "top": null,
            "visibility": null,
            "width": null
          }
        },
        "16f5b496ad0c48fd81705801a67e2150": {
          "model_module": "@jupyter-widgets/controls",
          "model_name": "ProgressStyleModel",
          "model_module_version": "1.5.0",
          "state": {
            "_model_module": "@jupyter-widgets/controls",
            "_model_module_version": "1.5.0",
            "_model_name": "ProgressStyleModel",
            "_view_count": null,
            "_view_module": "@jupyter-widgets/base",
            "_view_module_version": "1.2.0",
            "_view_name": "StyleView",
            "bar_color": null,
            "description_width": ""
          }
        }
      }
    }
  },
  "nbformat": 4,
  "nbformat_minor": 0
}